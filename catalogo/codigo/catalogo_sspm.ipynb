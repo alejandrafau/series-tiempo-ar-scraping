{
 "cells": [
  {
   "cell_type": "markdown",
   "metadata": {},
   "source": [
    "# Catálogo de la SSPM"
   ]
  },
  {
   "cell_type": "markdown",
   "metadata": {},
   "source": [
    "## Setup"
   ]
  },
  {
   "cell_type": "code",
   "execution_count": 16,
   "metadata": {},
   "outputs": [],
   "source": [
    "import pandas as pd"
   ]
  },
  {
   "cell_type": "code",
   "execution_count": 17,
   "metadata": {},
   "outputs": [],
   "source": [
    "df = pd.read_excel(\"/Users/abenassi/github/series-tiempo/catalogo/datos/catalogo-sspm.xlsx\", \"Parametros ETL\")"
   ]
  },
  {
   "cell_type": "code",
   "execution_count": 44,
   "metadata": {},
   "outputs": [],
   "source": [
    "series = df.distribution_iedFileURL.unique()"
   ]
  },
  {
   "cell_type": "code",
   "execution_count": 45,
   "metadata": {},
   "outputs": [],
   "source": [
    "with open(\"/Users/abenassi/github/series-tiempo/catalogo/datos/excels_urls.txt\", \"wb\") as f:\n",
    "    for url in series:\n",
    "        f.write(url)"
   ]
  },
  {
   "cell_type": "code",
   "execution_count": 24,
   "metadata": {},
   "outputs": [
    {
     "data": {
      "text/plain": [
       "array([u'http://www.economia.gob.ar/download/infoeco/actividad_ied.xlsx'], dtype=object)"
      ]
     },
     "execution_count": 24,
     "metadata": {},
     "output_type": "execute_result"
    }
   ],
   "source": [
    "series"
   ]
  },
  {
   "cell_type": "markdown",
   "metadata": {},
   "source": [
    "### Importación de metodos y clases"
   ]
  },
  {
   "cell_type": "code",
   "execution_count": 1,
   "metadata": {
    "collapsed": true
   },
   "outputs": [],
   "source": [
    "import arrow\n",
    "import os, sys\n",
    "sys.path.insert(0, os.path.abspath(\"..\"))\n",
    "from openpyxl import load_workbook\n",
    "from pydatajson import DataJson #lib y clase\n",
    "from pydatajson.readers import read_catalog # lib, modulo ... metodo Lle el catalogo -json o xlsx o (local o url) dicc- y lo transforma en un diccionario de python\n",
    "from pydatajson.writers import write_json_catalog"
   ]
  },
  {
   "cell_type": "markdown",
   "metadata": {},
   "source": [
    "### Declaración de variables y paths"
   ]
  },
  {
   "cell_type": "code",
   "execution_count": 2,
   "metadata": {
    "collapsed": true
   },
   "outputs": [],
   "source": [
    "#completar con lo que corresponda\n",
    "ORGANISMO = 'sspm'\n",
    "catalogo_xlsx = \"catalogo_sspm.xlsx\""
   ]
  },
  {
   "cell_type": "code",
   "execution_count": 3,
   "metadata": {
    "collapsed": true
   },
   "outputs": [],
   "source": [
    "#NO MODIFICAR\n",
    "\n",
    "#Creo la estructura de directorios necesaria si no existe\n",
    "if not os.path.isdir(\"archivos-generados\"):\n",
    "    os.mkdir(\"archivos-generados\")\n",
    "\n",
    "for directorio in [\"jsons\", \"reportes\", \"configuracion\"]:\n",
    "    path = os.path.join(\"archivos-generados\", directorio)\n",
    "    if not os.path.isdir(path):\n",
    "        os.mkdir(path)\n",
    "\n",
    "# Declaro algunas variables de interés\n",
    "HOY = arrow.now().format('YYYY-MM-DD-HH_mm')\n",
    "catalogo_a_json = os.path.join(\"archivos-generados\",\"jsons\",\"catalogo-{}-{}.json\".format(ORGANISMO, HOY))\n",
    "reporte_datasets = os.path.join(\"archivos-generados\", \"reportes\", \"reporte-catalogo-{}-{}.xlsx\".format(ORGANISMO, HOY))\n",
    "archivo_config_sin_reporte = os.path.join(\"archivos-generados\", \"configuracion\", \"archivo-config_-{}-{}-sinr.csv\".format(ORGANISMO, HOY))\n",
    "archivo_config_con_reporte = os.path.join(\"archivos-generados\", \"configuracion\", \"archivo-config-{}-{}-conr.csv\".format(ORGANISMO, HOY))"
   ]
  },
  {
   "cell_type": "markdown",
   "metadata": {},
   "source": [
    "## Validación del archivo xlsx y transformación a json"
   ]
  },
  {
   "cell_type": "markdown",
   "metadata": {},
   "source": [
    "### Validación del catálogo en xlsx"
   ]
  },
  {
   "cell_type": "code",
   "execution_count": 4,
   "metadata": {
    "collapsed": true
   },
   "outputs": [],
   "source": [
    "catalogo = read_catalog(catalogo_xlsx, default_values={\n",
    "    \"dataset_issued\": arrow.now().isoformat(),\n",
    "    \"distribution_issued\": arrow.now().isoformat()\n",
    "})\n",
    "# En el caso que quiera trabajarse con un archivo remoto:\n",
    "#catalogo = read_catalog(\"https://raw.githubusercontent.com/datosgobar/pydatajson/master/tests/samples/catalogo_justicia.json\")"
   ]
  },
  {
   "cell_type": "markdown",
   "metadata": {},
   "source": [
    "### Transformación del catálogo, de xlsx a json"
   ]
  },
  {
   "cell_type": "code",
   "execution_count": 5,
   "metadata": {
    "collapsed": true
   },
   "outputs": [],
   "source": [
    "write_json_catalog(catalogo, catalogo_a_json)\n",
    "\n",
    "##write_json_catalog(catalog, target_file)  escrie un dicc a un archivo json"
   ]
  },
  {
   "cell_type": "markdown",
   "metadata": {},
   "source": [
    "## Validación del catalogo en json y harvesting"
   ]
  },
  {
   "cell_type": "markdown",
   "metadata": {},
   "source": [
    "### Validación del catálogo en json"
   ]
  },
  {
   "cell_type": "markdown",
   "metadata": {
    "scrolled": true
   },
   "source": [
    "Instanciación de la clase DataJson"
   ]
  },
  {
   "cell_type": "code",
   "execution_count": 16,
   "metadata": {
    "collapsed": true
   },
   "outputs": [],
   "source": [
    "dj = DataJson(\"catalog.json\", \"/Users/abenassi/Dropbox/ssipyga_pers/15. Series de Tiempo/schemas\")"
   ]
  },
  {
   "cell_type": "markdown",
   "metadata": {},
   "source": [
    "\n",
    "Validación -V/F- del catálogo en json"
   ]
  },
  {
   "cell_type": "code",
   "execution_count": 17,
   "metadata": {},
   "outputs": [
    {
     "data": {
      "text/plain": [
       "False"
      ]
     },
     "execution_count": 17,
     "metadata": {},
     "output_type": "execute_result"
    }
   ],
   "source": [
    "\n",
    "dj.is_valid_catalog(catalogo)\n"
   ]
  },
  {
   "cell_type": "markdown",
   "metadata": {},
   "source": [
    "Validación detallada del catálogo en json"
   ]
  },
  {
   "cell_type": "code",
   "execution_count": 19,
   "metadata": {
    "collapsed": true
   },
   "outputs": [],
   "source": [
    "validation_result = dj.validate_catalog(catalogo)"
   ]
  },
  {
   "cell_type": "code",
   "execution_count": 24,
   "metadata": {},
   "outputs": [
    {
     "data": {
      "text/plain": [
       "[{u'errors': [{u'error_code': 2,\n",
       "    u'instance': 30L,\n",
       "    u'message': '30L is not valid under any of the given schemas',\n",
       "    u'path': [u'dataset',\n",
       "     14,\n",
       "     u'distribution',\n",
       "     0,\n",
       "     u'field',\n",
       "     17,\n",
       "     u'description'],\n",
       "    u'validator': u'anyOf',\n",
       "    u'validator_value': [{u'type': u'string'}, {u'type': u'null'}]},\n",
       "   {u'error_code': 2,\n",
       "    u'instance': 30L,\n",
       "    u'message': '30L is not valid under any of the given schemas',\n",
       "    u'path': [u'dataset',\n",
       "     14,\n",
       "     u'distribution',\n",
       "     1,\n",
       "     u'field',\n",
       "     17,\n",
       "     u'description'],\n",
       "    u'validator': u'anyOf',\n",
       "    u'validator_value': [{u'type': u'string'}, {u'type': u'null'}]}],\n",
       "  u'status': u'ERROR',\n",
       "  u'title': u'Encuesta industrial. \\xcdndice de Volumen F\\xedsico (IVF).  (Base 1997)'},\n",
       " {u'errors': [{u'error_code': 2,\n",
       "    u'instance': 30L,\n",
       "    u'message': '30L is not valid under any of the given schemas',\n",
       "    u'path': [u'dataset',\n",
       "     15,\n",
       "     u'distribution',\n",
       "     0,\n",
       "     u'field',\n",
       "     17,\n",
       "     u'description'],\n",
       "    u'validator': u'anyOf',\n",
       "    u'validator_value': [{u'type': u'string'}, {u'type': u'null'}]},\n",
       "   {u'error_code': 2,\n",
       "    u'instance': 30L,\n",
       "    u'message': '30L is not valid under any of the given schemas',\n",
       "    u'path': [u'dataset',\n",
       "     15,\n",
       "     u'distribution',\n",
       "     1,\n",
       "     u'field',\n",
       "     17,\n",
       "     u'description'],\n",
       "    u'validator': u'anyOf',\n",
       "    u'validator_value': [{u'type': u'string'}, {u'type': u'null'}]}],\n",
       "  u'status': u'ERROR',\n",
       "  u'title': u'Encuesta industrial. \\xcdndices de Obreros Ocupados (IOO).  (Base 1997)'},\n",
       " {u'errors': [{u'error_code': 2,\n",
       "    u'instance': 30L,\n",
       "    u'message': '30L is not valid under any of the given schemas',\n",
       "    u'path': [u'dataset',\n",
       "     16,\n",
       "     u'distribution',\n",
       "     0,\n",
       "     u'field',\n",
       "     17,\n",
       "     u'description'],\n",
       "    u'validator': u'anyOf',\n",
       "    u'validator_value': [{u'type': u'string'}, {u'type': u'null'}]},\n",
       "   {u'error_code': 2,\n",
       "    u'instance': 30L,\n",
       "    u'message': '30L is not valid under any of the given schemas',\n",
       "    u'path': [u'dataset',\n",
       "     16,\n",
       "     u'distribution',\n",
       "     1,\n",
       "     u'field',\n",
       "     17,\n",
       "     u'description'],\n",
       "    u'validator': u'anyOf',\n",
       "    u'validator_value': [{u'type': u'string'}, {u'type': u'null'}]}],\n",
       "  u'status': u'ERROR',\n",
       "  u'title': u'Encuesta industrial. \\xcdndices de Horas trabajadas (IHT).  (Base 1997)'},\n",
       " {u'errors': [{u'error_code': 2,\n",
       "    u'instance': 30L,\n",
       "    u'message': '30L is not valid under any of the given schemas',\n",
       "    u'path': [u'dataset',\n",
       "     17,\n",
       "     u'distribution',\n",
       "     0,\n",
       "     u'field',\n",
       "     17,\n",
       "     u'description'],\n",
       "    u'validator': u'anyOf',\n",
       "    u'validator_value': [{u'type': u'string'}, {u'type': u'null'}]},\n",
       "   {u'error_code': 2,\n",
       "    u'instance': 30L,\n",
       "    u'message': '30L is not valid under any of the given schemas',\n",
       "    u'path': [u'dataset',\n",
       "     17,\n",
       "     u'distribution',\n",
       "     1,\n",
       "     u'field',\n",
       "     17,\n",
       "     u'description'],\n",
       "    u'validator': u'anyOf',\n",
       "    u'validator_value': [{u'type': u'string'}, {u'type': u'null'}]}],\n",
       "  u'status': u'ERROR',\n",
       "  u'title': u'Encuesta industrial. \\xcdndice de Salario por Obrero (ISO).  (Base 1997)'},\n",
       " {u'errors': [{u'error_code': 2,\n",
       "    u'instance': 30L,\n",
       "    u'message': '30L is not valid under any of the given schemas',\n",
       "    u'path': [u'dataset',\n",
       "     18,\n",
       "     u'distribution',\n",
       "     0,\n",
       "     u'field',\n",
       "     17,\n",
       "     u'description'],\n",
       "    u'validator': u'anyOf',\n",
       "    u'validator_value': [{u'type': u'string'}, {u'type': u'null'}]},\n",
       "   {u'error_code': 2,\n",
       "    u'instance': 30L,\n",
       "    u'message': '30L is not valid under any of the given schemas',\n",
       "    u'path': [u'dataset',\n",
       "     18,\n",
       "     u'distribution',\n",
       "     1,\n",
       "     u'field',\n",
       "     17,\n",
       "     u'description'],\n",
       "    u'validator': u'anyOf',\n",
       "    u'validator_value': [{u'type': u'string'}, {u'type': u'null'}]}],\n",
       "  u'status': u'ERROR',\n",
       "  u'title': u'Encuesta industrial revisada. \\xcdndices de Obreros Ocupados (IOO).  (Base 1997)'},\n",
       " {u'errors': [{u'error_code': 2,\n",
       "    u'instance': 30L,\n",
       "    u'message': '30L is not valid under any of the given schemas',\n",
       "    u'path': [u'dataset',\n",
       "     19,\n",
       "     u'distribution',\n",
       "     0,\n",
       "     u'field',\n",
       "     17,\n",
       "     u'description'],\n",
       "    u'validator': u'anyOf',\n",
       "    u'validator_value': [{u'type': u'string'}, {u'type': u'null'}]},\n",
       "   {u'error_code': 2,\n",
       "    u'instance': 30L,\n",
       "    u'message': '30L is not valid under any of the given schemas',\n",
       "    u'path': [u'dataset',\n",
       "     19,\n",
       "     u'distribution',\n",
       "     1,\n",
       "     u'field',\n",
       "     17,\n",
       "     u'description'],\n",
       "    u'validator': u'anyOf',\n",
       "    u'validator_value': [{u'type': u'string'}, {u'type': u'null'}]}],\n",
       "  u'status': u'ERROR',\n",
       "  u'title': u'Encuesta industrial revisada. \\xcdndices de Horas trabajadas (IHT).  (Base 1997)'},\n",
       " {u'errors': [{u'error_code': 2,\n",
       "    u'instance': 30L,\n",
       "    u'message': '30L is not valid under any of the given schemas',\n",
       "    u'path': [u'dataset',\n",
       "     20,\n",
       "     u'distribution',\n",
       "     0,\n",
       "     u'field',\n",
       "     17,\n",
       "     u'description'],\n",
       "    u'validator': u'anyOf',\n",
       "    u'validator_value': [{u'type': u'string'}, {u'type': u'null'}]},\n",
       "   {u'error_code': 2,\n",
       "    u'instance': 30L,\n",
       "    u'message': '30L is not valid under any of the given schemas',\n",
       "    u'path': [u'dataset',\n",
       "     20,\n",
       "     u'distribution',\n",
       "     1,\n",
       "     u'field',\n",
       "     17,\n",
       "     u'description'],\n",
       "    u'validator': u'anyOf',\n",
       "    u'validator_value': [{u'type': u'string'}, {u'type': u'null'}]}],\n",
       "  u'status': u'ERROR',\n",
       "  u'title': u'Encuesta industrial revisada. \\xcdndice de Salario por Obrero (ISO).  (Base 1997)'}]"
      ]
     },
     "execution_count": 24,
     "metadata": {},
     "output_type": "execute_result"
    }
   ],
   "source": [
    "filter(lambda x: x[\"status\"] == \"ERROR\", validation_result[\"error\"][\"dataset\"])"
   ]
  },
  {
   "cell_type": "markdown",
   "metadata": {},
   "source": [
    "### Harvesting"
   ]
  },
  {
   "cell_type": "markdown",
   "metadata": {},
   "source": [
    "Generación del archivo de reporte de datasets"
   ]
  },
  {
   "cell_type": "code",
   "execution_count": 9,
   "metadata": {
    "collapsed": true
   },
   "outputs": [],
   "source": [
    "dj.generate_datasets_report(catalogo, harvest='valid',export_path=reporte_datasets)\n",
    "# proceso el repote, 0 y 1s"
   ]
  },
  {
   "cell_type": "markdown",
   "metadata": {},
   "source": [
    "Generación del archivo de configuración para el harvester"
   ]
  },
  {
   "cell_type": "code",
   "execution_count": 10,
   "metadata": {
    "collapsed": true
   },
   "outputs": [],
   "source": [
    "#  usando el reporte\n",
    "dj.generate_harvester_config(harvest='report', report=reporte_datasets, export_path=archivo_config_con_reporte)"
   ]
  },
  {
   "cell_type": "code",
   "execution_count": 11,
   "metadata": {
    "collapsed": true
   },
   "outputs": [],
   "source": [
    "# sin usar el reporte\n",
    "dj.generate_harvester_config(catalogs=catalogo, harvest='valid', export_path=archivo_config_sin_reporte)\n",
    "#(catalogs=None, harvest=u'valid', report=None, export_path=None)"
   ]
  },
  {
   "cell_type": "code",
   "execution_count": null,
   "metadata": {
    "collapsed": true
   },
   "outputs": [],
   "source": []
  }
 ],
 "metadata": {
  "anaconda-cloud": {},
  "kernelspec": {
   "display_name": "Python 2",
   "language": "python",
   "name": "python2"
  },
  "language_info": {
   "codemirror_mode": {
    "name": "ipython",
    "version": 2
   },
   "file_extension": ".py",
   "mimetype": "text/x-python",
   "name": "python",
   "nbconvert_exporter": "python",
   "pygments_lexer": "ipython2",
   "version": "2.7.13"
  },
  "toc": {
   "colors": {
    "hover_highlight": "#DAA520",
    "running_highlight": "#FF0000",
    "selected_highlight": "#FFD700"
   },
   "moveMenuLeft": true,
   "nav_menu": {
    "height": "233px",
    "width": "253px"
   },
   "navigate_menu": true,
   "number_sections": true,
   "sideBar": true,
   "threshold": 4,
   "toc_cell": false,
   "toc_section_display": "block",
   "toc_window_display": false
  }
 },
 "nbformat": 4,
 "nbformat_minor": 1
}
