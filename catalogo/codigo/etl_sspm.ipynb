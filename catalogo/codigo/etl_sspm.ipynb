{
 "cells": [
  {
   "cell_type": "markdown",
   "metadata": {},
   "source": [
    "# ETL del catálogo de la SSPM"
   ]
  },
  {
   "cell_type": "markdown",
   "metadata": {},
   "source": [
    "## Generación del catálogo"
   ]
  },
  {
   "cell_type": "markdown",
   "metadata": {},
   "source": [
    "### Setup"
   ]
  },
  {
   "cell_type": "code",
   "execution_count": 8,
   "metadata": {
    "collapsed": true
   },
   "outputs": [],
   "source": [
    "import generate_catalog\n",
    "import json\n",
    "import pandas as pd\n",
    "import os\n",
    "from openpyxl import load_workbook"
   ]
  },
  {
   "cell_type": "code",
   "execution_count": 38,
   "metadata": {
    "collapsed": true
   },
   "outputs": [],
   "source": [
    "#completar con lo que corresponda\n",
    "catalog_xlsx_path = \"/Users/abenassi/github/series-tiempo/catalogo/datos/catalogo-sspm.xlsx\"\n",
    "catalog_json_path = \"/Users/abenassi/github/series-tiempo/catalogo/datos/data.json\"\n",
    "REPORTES_DIR = os.path.join(\"/Users/abenassi/github/series-tiempo\", \"catalogo\", \"datos\", \"reportes\")"
   ]
  },
  {
   "cell_type": "code",
   "execution_count": 35,
   "metadata": {
    "collapsed": true
   },
   "outputs": [],
   "source": [
    "def find_ws_name(wb, name):\n",
    "    if type(wb) == str or type(wb) == unicode:\n",
    "        wb = load_workbook(wb, read_only=True, data_only=True)\n",
    "    \n",
    "    for sheetname in wb.sheetnames:\n",
    "        if sheetname.lower() == name.lower():\n",
    "            return sheetname\n",
    "    \n",
    "    return None"
   ]
  },
  {
   "cell_type": "code",
   "execution_count": 36,
   "metadata": {
    "collapsed": true
   },
   "outputs": [],
   "source": [
    "field_cols = [\n",
    "    \"field_title\", \"field_id\", \"field_identifierCell\", \"field_dataStartCell\",\n",
    "    \"dataset_identifier\",     \"dataset_title\",\n",
    "    \"distribution_identifier\", \"distribution_title\"\n",
    "]\n",
    "distribution_cols = [\n",
    "    \"distribution_iedFileURL\", \"distribution_iedFileSheet\", \"distribution_identifier\",\n",
    "    \"distribution_title\", \"dataset_identifier\",     \"dataset_title\"\n",
    "]"
   ]
  },
  {
   "cell_type": "code",
   "execution_count": 14,
   "metadata": {},
   "outputs": [],
   "source": [
    "df_distribution = pd.read_excel(catalog_xlsx_path, find_ws_name(catalog_xlsx_path, \"distribution\"))[distribution_cols]\n",
    "df_field = pd.read_excel(catalog_xlsx_path, find_ws_name(catalog_xlsx_path, \"field\"))[field_cols]"
   ]
  },
  {
   "cell_type": "code",
   "execution_count": 37,
   "metadata": {},
   "outputs": [],
   "source": [
    "merged = df_field[field_cols].merge(\n",
    "    df_distribution[distribution_cols], how=\"outer\", indicator=True, on=[\n",
    "        \"dataset_identifier\", \"dataset_title\", \"distribution_identifier\", \"distribution_title\"]\n",
    ")"
   ]
  },
  {
   "cell_type": "code",
   "execution_count": 39,
   "metadata": {
    "collapsed": true
   },
   "outputs": [],
   "source": [
    "merged[merged['_merge'] == 'left_only'].to_excel(\n",
    "        os.path.join(REPORTES_DIR, \"reporte-fields-sin-distribution.xlsx\"),\n",
    "        encoding=\"utf-8\", index=False)\n",
    "merged[merged['_merge'] == 'right_only'].to_excel(\n",
    "        os.path.join(REPORTES_DIR, \"reporte-distribution-sin-fields.xlsx\"),\n",
    "        encoding=\"utf-8\", index=False)"
   ]
  },
  {
   "cell_type": "code",
   "execution_count": 40,
   "metadata": {
    "collapsed": true
   },
   "outputs": [],
   "source": [
    "df_etl_params = merged[merged['_merge'] == 'both']"
   ]
  },
  {
   "cell_type": "markdown",
   "metadata": {},
   "source": [
    "### Main steps"
   ]
  },
  {
   "cell_type": "code",
   "execution_count": 26,
   "metadata": {},
   "outputs": [
    {
     "name": "stdout",
     "output_type": "stream",
     "text": [
      "\n",
      "Se encontro un dataset con ID '2', pero su titulo es 'Oferta y Demanda Globales [Base 1993]' en lugar del\n",
      "esperado '#NAME?'. Este dataset NO se considerara.\n",
      "No hay ningun dataset con el identifier 2\n",
      "No se encontro el dataset '#NAME?' especificado para el campo\n",
      "'demanda_global_ibif_equipo_durable_produccion_material_transporte_nacional' (fila #30 de la hoja \"Field\"). Este campo no figurara en el data.json de salida.\n",
      "\n",
      "Se encontro un dataset con ID '4', pero su titulo es 'Oferta y Demanda Globales [Base 2004]' en lugar del\n",
      "esperado '#NAME?'. Este dataset NO se considerara.\n",
      "No hay ningun dataset con el identifier 4\n",
      "No se encontro el dataset '#NAME?' especificado para el campo\n",
      "'demanda_global_total' (fila #130 de la hoja \"Field\"). Este campo no figurara en el data.json de salida.\n"
     ]
    }
   ],
   "source": [
    "# leo catalogo en excel\n",
    "catalog_xlsx = generate_catalog.read_xlsx_catalog(catalog_xlsx_path)\n",
    "\n",
    "# escribo catalogo en json\n",
    "generate_catalog.write_json_catalog(catalog, catalog_json_path)\n",
    "\n",
    "# genero reportes de validación y catálogo filtrado\n",
    "catalog_filtered = generate_catalog.validate_and_filter(catalog)\n",
    "\n",
    "# escribo catalogo en json\n",
    "generate_catalog.write_json_catalog(catalog_filtered, catalog_json_path)"
   ]
  },
  {
   "cell_type": "markdown",
   "metadata": {},
   "source": [
    "### Pruebas y chequeos"
   ]
  },
  {
   "cell_type": "code",
   "execution_count": 37,
   "metadata": {
    "collapsed": true
   },
   "outputs": [],
   "source": [
    "catalog_sspm = generate_catalog.readers.read_catalog(catalog_json_path)[0]"
   ]
  },
  {
   "cell_type": "code",
   "execution_count": 42,
   "metadata": {},
   "outputs": [
    {
     "data": {
      "text/plain": [
       "(34, 34, 34)"
      ]
     },
     "execution_count": 42,
     "metadata": {},
     "output_type": "execute_result"
    }
   ],
   "source": [
    "len(catalog_sspm[\"dataset\"]), len(catalog[\"dataset\"]), len(catalog_filtered[0][\"dataset\"])"
   ]
  },
  {
   "cell_type": "code",
   "execution_count": 27,
   "metadata": {},
   "outputs": [
    {
     "data": {
      "text/plain": [
       "(dict, list)"
      ]
     },
     "execution_count": 27,
     "metadata": {},
     "output_type": "execute_result"
    }
   ],
   "source": [
    "type(catalog), type(catalog_filtered)"
   ]
  },
  {
   "cell_type": "markdown",
   "metadata": {},
   "source": [
    "## Scrape datasets IED"
   ]
  },
  {
   "cell_type": "markdown",
   "metadata": {},
   "source": [
    "### Setup"
   ]
  },
  {
   "cell_type": "code",
   "execution_count": 3,
   "metadata": {
    "collapsed": true
   },
   "outputs": [],
   "source": [
    "import os\n",
    "from xlseries import XlSeries\n",
    "import pandas as pd\n",
    "import pydatajson.readers\n",
    "from copy import deepcopy\n",
    "from scrape_datasets import scrape_distribution, get_distribution_metadata, get_dataset_metadata, scrape_dataset, scrape_file"
   ]
  },
  {
   "cell_type": "code",
   "execution_count": 4,
   "metadata": {
    "collapsed": true
   },
   "outputs": [],
   "source": [
    "catalog_json_path = \"/Users/abenassi/github/series-tiempo/catalogo/datos/data.json\"\n",
    "etl_params_path = \"/Users/abenassi/github/series-tiempo/catalogo/datos/etl_params.csv\"\n",
    "ied_data_dir = \"/Users/abenassi/github/series-tiempo/catalogo/datos/ied/\""
   ]
  },
  {
   "cell_type": "code",
   "execution_count": 5,
   "metadata": {
    "collapsed": true
   },
   "outputs": [],
   "source": [
    "DATASETS_DIR = \"/Users/abenassi/github/series-tiempo/catalogo/datos/datasets/\"\n",
    "REPORTES_DIR = \"/Users/abenassi/github/series-tiempo/catalogo/datos/reportes/\""
   ]
  },
  {
   "cell_type": "markdown",
   "metadata": {},
   "source": [
    "### Main steps"
   ]
  },
  {
   "cell_type": "code",
   "execution_count": 6,
   "metadata": {
    "collapsed": true
   },
   "outputs": [],
   "source": [
    "ied_xlsx_path = \"/Users/abenassi/github/series-tiempo/catalogo/datos/ied/apendice4.xlsx\""
   ]
  },
  {
   "cell_type": "code",
   "execution_count": 7,
   "metadata": {
    "collapsed": true,
    "scrolled": true
   },
   "outputs": [],
   "source": [
    "etl_params = pd.read_csv(etl_params_path, dtype={\"distribution_identifier\": \"str\"})"
   ]
  },
  {
   "cell_type": "code",
   "execution_count": null,
   "metadata": {
    "collapsed": true
   },
   "outputs": [],
   "source": []
  },
  {
   "cell_type": "code",
   "execution_count": 8,
   "metadata": {
    "collapsed": true
   },
   "outputs": [],
   "source": [
    "catalog = pydatajson.readers.read_catalog(catalog_json_path)"
   ]
  },
  {
   "cell_type": "code",
   "execution_count": 9,
   "metadata": {},
   "outputs": [
    {
     "name": "stdout",
     "output_type": "stream",
     "text": [
      "Distribución 1.1: OK (Skipped)\n",
      "Distribución 1.2: OK (Skipped)\n",
      "Distribución 2.1: OK (Skipped)\n",
      "Distribución 2.2: OK (Skipped)\n",
      "Distribución 2.3: OK (Skipped)\n",
      "Distribución 2.4: OK (Skipped)\n",
      "Distribución 3.1: OK (Skipped)\n",
      "Distribución 3.2: ERROR (AssertionError('End must be greater than start!',))\n",
      "Distribución 4.1: OK (Skipped)\n",
      "Distribución 4.2: OK (Skipped)\n",
      "Distribución 4.3: OK (Skipped)\n",
      "Distribución 4.4: OK (Skipped)\n",
      "Distribución 5.1: ERROR (FieldTitleRepetitionError(u\"Hay mas de 1 field con title indice_tiempo: [{u'dataStartCell': u'A7', u'title': u'indice_tiempo', u'specialTypeDetail': u'R/P1Y', u'specialType': u'time_index', u'identifierCell': u'A7', u'type': u'date', u'id': u'5.1_IT_1993_ A_13'}, {u'dataStartCell': u'A8', u'title': u'indice_tiempo', u'specialTypeDetail': u'R/P3M', u'specialType': u'time_index', u'identifierCell': u'A7', u'type': u'date', u'id': u'5.1_IT_1993_ T_13'}]\",))\n",
      "Distribución 5.2: ERROR (IndexError('tuple index out of range',))\n",
      "Distribución 6.1: OK (Skipped)\n",
      "Distribución 6.2: ERROR (AssertionError('End must be greater than start!',))\n",
      "Distribución 7.1: OK (Skipped)\n",
      "Distribución 7.2: OK (Skipped)\n",
      "Distribución 8.1: OK (Skipped)\n",
      "Distribución 8.2: ERROR (AssertionError('End must be greater than start!',))\n",
      "Distribución 9.1: OK (Skipped)\n",
      "Distribución 9.2: OK (Skipped)\n",
      "Distribución 10.1: OK (Skipped)\n",
      "Distribución 10.2: OK (Skipped)\n",
      "Distribución 10.3: OK (Skipped)\n",
      "Distribución 11.1: OK (Skipped)\n",
      "Distribución 11.2: OK (Skipped)\n",
      "Distribución 11.3: OK (Skipped)\n",
      "Distribución 12.1: OK (Skipped)\n",
      "Distribución 12.2: OK (Skipped)\n",
      "Distribución 12.3: OK (Skipped)\n",
      "Distribución 13.1: OK (Skipped)\n",
      "Distribución 13.2: OK (Skipped)\n",
      "Distribución 13.3: OK (Skipped)\n",
      "Distribución 14.1: ERROR (AssertionError('End must be greater than start!',))\n",
      "Distribución 14.2: ERROR (ValueError('Shape of passed values is (13, 16), indices imply (13, 2)',))\n",
      "Distribución 22.1: OK (Skipped)\n",
      "Distribución 22.2: ERROR (Exception(u'Value is not valid x',))\n",
      "Distribución 23.1: OK (Skipped)\n",
      "Distribución 23.2: OK (Skipped)\n",
      "Distribución 24.1: OK (Skipped)\n",
      "Distribución 24.2: OK (Skipped)\n",
      "Distribución 25.1: OK (Skipped)\n",
      "Distribución 25.2: OK (Skipped)\n",
      "Distribución 26.1: OK (Skipped)\n",
      "Distribución 26.2: OK (Skipped)\n",
      "Distribución 27.1: OK (Skipped)\n",
      "Distribución 27.2: OK (Skipped)\n",
      "Distribución 28.1: OK (Skipped)\n",
      "Distribución 29.1: OK (Skipped)\n",
      "Distribución 29.2: OK (Skipped)\n",
      "Distribución 29.3: OK (Skipped)\n",
      "Distribución 30.1: OK (Skipped)\n",
      "Distribución 30.2: OK (Skipped)\n",
      "Distribución 30.3: OK (Skipped)\n",
      "Distribución 31.1: ERROR (AssertionError('End must be greater than start!',))\n",
      "Distribución 31.2: OK (Skipped)\n",
      "Distribución 31.3: OK (Skipped)\n",
      "Distribución 32.1: OK (Skipped)\n",
      "Distribución 32.2: OK (Skipped)\n",
      "Distribución 32.3: OK (Skipped)\n",
      "Distribución 33.1: ERROR (ValueError(\"'1.18 b ISAC 2016' is not in list\",))\n",
      "Distribución 33.2: ERROR (ValueError(\"'1.18 b ISAC 2016' is not in list\",))\n",
      "Distribución 34.1: ERROR (AssertionError('End must be greater than start!',))\n",
      "Distribución 35.1: OK (Skipped)\n",
      "Distribución 35.2: OK (Skipped)\n",
      "Distribución 35.3: ERROR (Exception(u'Value is not valid 23,381,4',))\n",
      "Distribución 36.1: OK (Skipped)\n",
      "Distribución 36.2: OK (Skipped)\n",
      "Distribución 36.3: OK (Skipped)\n",
      "Distribución 37.1: OK (Skipped)\n",
      "Distribución 37.2: ERROR (AssertionError('End must be greater than start!',))\n",
      "Distribución 37.3: OK (Skipped)\n",
      "Distribución 38.1: ERROR (Exception(u'Value is not valid  ',))\n",
      "Distribución 38.2: ERROR (Exception(u'Value is not valid  ',))\n",
      "Distribución 38.3: ERROR (Exception(u'Value is not valid s.d',))\n",
      "Distribución 39.1: OK (Skipped)\n",
      "Distribución 39.2: OK (Skipped)\n",
      "Distribución 39.3: OK (Skipped)\n",
      "Distribución 40.1: OK (Skipped)\n",
      "Distribución 40.2: OK (Skipped)\n",
      "Distribución 40.3: ERROR (TimeValueGoingBackwards(u'Last: 2015-10-01T00:00:00+00:00 \\nExpected: 2015-11-01T00:00:00+00:00 \\nCurrent: 2014-11-02T00:00:00+00:00',))\n",
      "Distribución 41.1: ERROR (Exception(u'Value is not valid n,d,',))\n",
      "Distribución 41.2: ERROR (FieldTitleRepetitionError(u\"Hay mas de 1 field con title indice_tiempo: [{u'dataStartCell': u'A71', u'title': u'indice_tiempo', u'specialTypeDetail': u'R/P3M', u'specialType': u'time_index', u'identifierCell': u'A70', u'type': u'date', u'id': u'41.2_IT_0_ T_13'}, {u'dataStartCell': u'A183', u'title': u'indice_tiempo', u'specialTypeDetail': u'R/P1M', u'specialType': u'time_index', u'identifierCell': u'A183', u'type': u'date', u'id': u'41.2_IT_0_ M_13'}]\",))\n",
      "Distribución 41.3: ERROR (IndexError('tuple index out of range',))\n",
      "CPU times: user 4min 13s, sys: 3.48 s, total: 4min 16s\n",
      "Wall time: 4min 17s\n"
     ]
    }
   ],
   "source": [
    "%time report_datasets, report_distributions = scrape_file(ied_xlsx_path, etl_params, catalog, replace=False)"
   ]
  },
  {
   "cell_type": "code",
   "execution_count": 10,
   "metadata": {},
   "outputs": [
    {
     "data": {
      "text/html": [
       "<div>\n",
       "<table border=\"1\" class=\"dataframe\">\n",
       "  <thead>\n",
       "    <tr style=\"text-align: right;\">\n",
       "      <th></th>\n",
       "      <th>distribution_identifier</th>\n",
       "    </tr>\n",
       "    <tr>\n",
       "      <th>distribution_status</th>\n",
       "      <th></th>\n",
       "    </tr>\n",
       "  </thead>\n",
       "  <tbody>\n",
       "    <tr>\n",
       "      <th>ERROR</th>\n",
       "      <td>33</td>\n",
       "    </tr>\n",
       "    <tr>\n",
       "      <th>OK</th>\n",
       "      <td>52</td>\n",
       "    </tr>\n",
       "  </tbody>\n",
       "</table>\n",
       "</div>"
      ],
      "text/plain": [
       "                     distribution_identifier\n",
       "distribution_status                         \n",
       "ERROR                                     33\n",
       "OK                                        52"
      ]
     },
     "execution_count": 10,
     "metadata": {},
     "output_type": "execute_result"
    }
   ],
   "source": [
    "report_distributions.groupby(\"distribution_status\")[[\"distribution_identifier\"]].count()"
   ]
  },
  {
   "cell_type": "code",
   "execution_count": 11,
   "metadata": {
    "collapsed": true
   },
   "outputs": [],
   "source": [
    "cols_rep_dataset = [\"distribution_iedFileURL\", \"dataset_identifier\", \"dataset_status\"]\n",
    "report_datasets[cols_rep_dataset].to_csv(os.path.join(REPORTES_DIR, \"reporte-datasets-scraping.csv\"), \n",
    "                       encoding=\"utf-8\", index=False)\n",
    "\n",
    "cols_rep_distribution = [\"distribution_iedFileURL\", \"dataset_identifier\", \n",
    "                         \"distribution_identifier\", \"distribution_status\", \"distribution_notes\"]\n",
    "report_distributions[cols_rep_distribution].to_csv(os.path.join(REPORTES_DIR, \"reporte-distributions-scraping.csv\"), \n",
    "                            encoding=\"utf-8\", index=False)"
   ]
  },
  {
   "cell_type": "markdown",
   "metadata": {},
   "source": [
    "### Pruebas y chequeos"
   ]
  },
  {
   "cell_type": "code",
   "execution_count": 9,
   "metadata": {
    "collapsed": true
   },
   "outputs": [],
   "source": [
    "# cargo el excel de ied\n",
    "xl = XlSeries(ied_xlsx_path)\n",
    "ied_xlsx_filename = os.path.basename(ied_xlsx_path)"
   ]
  },
  {
   "cell_type": "code",
   "execution_count": 10,
   "metadata": {},
   "outputs": [
    {
     "ename": "AssertionError",
     "evalue": "No end could be estimated! End: None   | Start: 36",
     "output_type": "error",
     "traceback": [
      "\u001b[0;31m---------------------------------------------------------------------------\u001b[0m",
      "\u001b[0;31mAssertionError\u001b[0m                            Traceback (most recent call last)",
      "\u001b[0;32m<ipython-input-10-6572a630a20f>\u001b[0m in \u001b[0;36m<module>\u001b[0;34m()\u001b[0m\n\u001b[0;32m----> 1\u001b[0;31m \u001b[0mdistribution\u001b[0m \u001b[0;34m=\u001b[0m \u001b[0mscrape_distribution\u001b[0m\u001b[0;34m(\u001b[0m\u001b[0mxl\u001b[0m\u001b[0;34m,\u001b[0m \u001b[0metl_params\u001b[0m\u001b[0;34m,\u001b[0m \u001b[0mcatalog\u001b[0m\u001b[0;34m,\u001b[0m \u001b[0;34m\"106.2\"\u001b[0m\u001b[0;34m)\u001b[0m\u001b[0;34m\u001b[0m\u001b[0m\n\u001b[0m",
      "\u001b[0;32m/Users/abenassi/github/series-tiempo/catalogo/codigo/scrape_datasets.pyc\u001b[0m in \u001b[0;36mscrape_distribution\u001b[0;34m(xl, etl_params, catalog, distribution_identifier)\u001b[0m\n\u001b[1;32m    202\u001b[0m         etl_params, catalog, distribution_identifier)\n\u001b[1;32m    203\u001b[0m \u001b[0;34m\u001b[0m\u001b[0m\n\u001b[0;32m--> 204\u001b[0;31m     \u001b[0;32mreturn\u001b[0m \u001b[0mscrape_dataframe\u001b[0m\u001b[0;34m(\u001b[0m\u001b[0mxl\u001b[0m\u001b[0;34m,\u001b[0m \u001b[0;34m**\u001b[0m\u001b[0mdistribution_params\u001b[0m\u001b[0;34m)\u001b[0m\u001b[0;34m\u001b[0m\u001b[0m\n\u001b[0m\u001b[1;32m    205\u001b[0m \u001b[0;34m\u001b[0m\u001b[0m\n\u001b[1;32m    206\u001b[0m \u001b[0;34m\u001b[0m\u001b[0m\n",
      "\u001b[0;32m/Users/abenassi/github/series-tiempo/catalogo/codigo/scrape_datasets.pyc\u001b[0m in \u001b[0;36mscrape_dataframe\u001b[0;34m(xl, worksheet, headers_coord, data_starts, frequency, time_header_coord, series_names)\u001b[0m\n\u001b[1;32m    188\u001b[0m         \u001b[0mparams\u001b[0m\u001b[0;34m[\u001b[0m\u001b[0;34m\"time_composed\"\u001b[0m\u001b[0;34m]\u001b[0m \u001b[0;34m=\u001b[0m \u001b[0mTrue\u001b[0m\u001b[0;34m\u001b[0m\u001b[0m\n\u001b[1;32m    189\u001b[0m         dfs = xl.get_data_frames(deepcopy(params), ws_name=worksheet,\n\u001b[0;32m--> 190\u001b[0;31m                                  preserve_wb_obj=PRESERVE_WB_OBJ)\n\u001b[0m\u001b[1;32m    191\u001b[0m     \u001b[0;32mexcept\u001b[0m \u001b[0mTimeIsNotComposed\u001b[0m\u001b[0;34m:\u001b[0m\u001b[0;34m\u001b[0m\u001b[0m\n\u001b[1;32m    192\u001b[0m         \u001b[0mparams\u001b[0m\u001b[0;34m[\u001b[0m\u001b[0;34m\"time_composed\"\u001b[0m\u001b[0;34m]\u001b[0m \u001b[0;34m=\u001b[0m \u001b[0mFalse\u001b[0m\u001b[0;34m\u001b[0m\u001b[0m\n",
      "\u001b[0;32m/Users/abenassi/github/xlseries/xlseries/xlseries.pyc\u001b[0m in \u001b[0;36mget_data_frames\u001b[0;34m(self, params_path_or_obj, ws_name, safe_mode, preserve_wb_obj)\u001b[0m\n\u001b[1;32m    124\u001b[0m             \u001b[0;32mif\u001b[0m \u001b[0mscraper\u001b[0m\u001b[0;34m.\u001b[0m\u001b[0maccepts\u001b[0m\u001b[0;34m(\u001b[0m\u001b[0mwb_copy\u001b[0m\u001b[0;34m)\u001b[0m\u001b[0;34m:\u001b[0m\u001b[0;34m\u001b[0m\u001b[0m\n\u001b[1;32m    125\u001b[0m                 \u001b[0mscraper_obj\u001b[0m \u001b[0;34m=\u001b[0m \u001b[0mscraper\u001b[0m\u001b[0;34m(\u001b[0m\u001b[0mwb_copy\u001b[0m\u001b[0;34m,\u001b[0m \u001b[0mparams_path_or_obj\u001b[0m\u001b[0;34m,\u001b[0m \u001b[0mws_name\u001b[0m\u001b[0;34m)\u001b[0m\u001b[0;34m\u001b[0m\u001b[0m\n\u001b[0;32m--> 126\u001b[0;31m                 \u001b[0mdfs\u001b[0m\u001b[0;34m,\u001b[0m \u001b[0mparams\u001b[0m \u001b[0;34m=\u001b[0m \u001b[0mscraper_obj\u001b[0m\u001b[0;34m.\u001b[0m\u001b[0mget_data_frames\u001b[0m\u001b[0;34m(\u001b[0m\u001b[0msafe_mode\u001b[0m\u001b[0;34m)\u001b[0m\u001b[0;34m\u001b[0m\u001b[0m\n\u001b[0m\u001b[1;32m    127\u001b[0m                 \u001b[0mself\u001b[0m\u001b[0;34m.\u001b[0m\u001b[0mparams\u001b[0m\u001b[0;34m[\u001b[0m\u001b[0mws_name\u001b[0m\u001b[0;34m]\u001b[0m \u001b[0;34m=\u001b[0m \u001b[0mparams\u001b[0m\u001b[0;34m\u001b[0m\u001b[0m\n\u001b[1;32m    128\u001b[0m \u001b[0;34m\u001b[0m\u001b[0m\n",
      "\u001b[0;32m/Users/abenassi/github/xlseries/xlseries/strategies/strategies.pyc\u001b[0m in \u001b[0;36mget_data_frames\u001b[0;34m(self, safe_mode)\u001b[0m\n\u001b[1;32m     68\u001b[0m \u001b[0;34m\u001b[0m\u001b[0m\n\u001b[1;32m     69\u001b[0m     \u001b[0;32mdef\u001b[0m \u001b[0mget_data_frames\u001b[0m\u001b[0;34m(\u001b[0m\u001b[0mself\u001b[0m\u001b[0;34m,\u001b[0m \u001b[0msafe_mode\u001b[0m\u001b[0;34m)\u001b[0m\u001b[0;34m:\u001b[0m\u001b[0;34m\u001b[0m\u001b[0m\n\u001b[0;32m---> 70\u001b[0;31m         \u001b[0;32mreturn\u001b[0m \u001b[0mself\u001b[0m\u001b[0;34m.\u001b[0m\u001b[0m_get_data_frames\u001b[0m\u001b[0;34m(\u001b[0m\u001b[0mself\u001b[0m\u001b[0;34m.\u001b[0m\u001b[0mws\u001b[0m\u001b[0;34m,\u001b[0m \u001b[0mself\u001b[0m\u001b[0;34m.\u001b[0m\u001b[0mparams\u001b[0m\u001b[0;34m,\u001b[0m \u001b[0msafe_mode\u001b[0m\u001b[0;34m)\u001b[0m\u001b[0;34m\u001b[0m\u001b[0m\n\u001b[0m\u001b[1;32m     71\u001b[0m \u001b[0;34m\u001b[0m\u001b[0m\n\u001b[1;32m     72\u001b[0m \u001b[0;34m\u001b[0m\u001b[0m\n",
      "\u001b[0;32m/Users/abenassi/github/xlseries/xlseries/strategies/strategies.pyc\u001b[0m in \u001b[0;36m_get_data_frames\u001b[0;34m(cls, ws, params, safe_mode)\u001b[0m\n\u001b[1;32m    104\u001b[0m \u001b[0;34m\u001b[0m\u001b[0m\n\u001b[1;32m    105\u001b[0m             \u001b[0;31m# THIRD: get the data from a cleaned worksheet\u001b[0m\u001b[0;34m\u001b[0m\u001b[0;34m\u001b[0m\u001b[0m\n\u001b[0;32m--> 106\u001b[0;31m             \u001b[0mdfs\u001b[0m \u001b[0;34m=\u001b[0m \u001b[0mcls\u001b[0m\u001b[0;34m.\u001b[0m\u001b[0m_get_data\u001b[0m\u001b[0;34m(\u001b[0m\u001b[0mws\u001b[0m\u001b[0;34m,\u001b[0m \u001b[0mparams\u001b[0m\u001b[0;34m)\u001b[0m\u001b[0;34m\u001b[0m\u001b[0m\n\u001b[0m\u001b[1;32m    107\u001b[0m             \u001b[0;32mreturn\u001b[0m \u001b[0;34m(\u001b[0m\u001b[0mdfs\u001b[0m\u001b[0;34m,\u001b[0m \u001b[0mparams\u001b[0m\u001b[0;34m)\u001b[0m\u001b[0;34m\u001b[0m\u001b[0m\n\u001b[1;32m    108\u001b[0m \u001b[0;34m\u001b[0m\u001b[0m\n",
      "\u001b[0;32m/Users/abenassi/github/xlseries/xlseries/strategies/strategies.pyc\u001b[0m in \u001b[0;36m_get_data\u001b[0;34m(cls, ws, params)\u001b[0m\n\u001b[1;32m    231\u001b[0m         \u001b[0;31m# 1. Build data frames dict based on number of period ranges founded\u001b[0m\u001b[0;34m\u001b[0m\u001b[0;34m\u001b[0m\u001b[0m\n\u001b[1;32m    232\u001b[0m         \u001b[0mdfs_dict\u001b[0m \u001b[0;34m=\u001b[0m \u001b[0;34m{\u001b[0m\u001b[0;34m}\u001b[0m\u001b[0;34m\u001b[0m\u001b[0m\n\u001b[0;32m--> 233\u001b[0;31m         \u001b[0;32mfor\u001b[0m \u001b[0mperiod_range\u001b[0m \u001b[0;32min\u001b[0m \u001b[0mcls\u001b[0m\u001b[0;34m.\u001b[0m\u001b[0m_get_period_ranges\u001b[0m\u001b[0;34m(\u001b[0m\u001b[0mws\u001b[0m\u001b[0;34m,\u001b[0m \u001b[0mparams\u001b[0m\u001b[0;34m)\u001b[0m\u001b[0;34m:\u001b[0m\u001b[0;34m\u001b[0m\u001b[0m\n\u001b[0m\u001b[1;32m    234\u001b[0m             \u001b[0mhashable_pr\u001b[0m \u001b[0;34m=\u001b[0m \u001b[0mcls\u001b[0m\u001b[0;34m.\u001b[0m\u001b[0m_hash_period_range\u001b[0m\u001b[0;34m(\u001b[0m\u001b[0mperiod_range\u001b[0m\u001b[0;34m)\u001b[0m\u001b[0;34m\u001b[0m\u001b[0m\n\u001b[1;32m    235\u001b[0m             \u001b[0;32mif\u001b[0m \u001b[0mhashable_pr\u001b[0m \u001b[0;32mnot\u001b[0m \u001b[0;32min\u001b[0m \u001b[0mdfs_dict\u001b[0m\u001b[0;34m:\u001b[0m\u001b[0;34m\u001b[0m\u001b[0m\n",
      "\u001b[0;32m/Users/abenassi/github/xlseries/xlseries/strategies/strategies.pyc\u001b[0m in \u001b[0;36m_get_period_ranges\u001b[0;34m(cls, ws, params)\u001b[0m\n\u001b[1;32m    467\u001b[0m                 \u001b[0mrepr\u001b[0m\u001b[0;34m(\u001b[0m\u001b[0mend_row\u001b[0m\u001b[0;34m)\u001b[0m\u001b[0;34m.\u001b[0m\u001b[0mljust\u001b[0m\u001b[0;34m(\u001b[0m\u001b[0;36m6\u001b[0m\u001b[0;34m)\u001b[0m\u001b[0;34m,\u001b[0m \u001b[0mini_row\u001b[0m\u001b[0;34m\u001b[0m\u001b[0m\n\u001b[1;32m    468\u001b[0m             )\n\u001b[0;32m--> 469\u001b[0;31m             \u001b[0;32massert\u001b[0m \u001b[0mend_row\u001b[0m \u001b[0;32mand\u001b[0m \u001b[0mend_row\u001b[0m \u001b[0;34m>\u001b[0m \u001b[0mini_row\u001b[0m\u001b[0;34m,\u001b[0m \u001b[0mmsg\u001b[0m\u001b[0;34m\u001b[0m\u001b[0m\n\u001b[0m\u001b[1;32m    470\u001b[0m \u001b[0;34m\u001b[0m\u001b[0m\n\u001b[1;32m    471\u001b[0m             \u001b[0;31m# if time is multicolumn, pass only the first column\u001b[0m\u001b[0;34m\u001b[0m\u001b[0;34m\u001b[0m\u001b[0m\n",
      "\u001b[0;31mAssertionError\u001b[0m: No end could be estimated! End: None   | Start: 36"
     ]
    }
   ],
   "source": [
    "distribution = scrape_distribution(xl, etl_params, catalog, \"106.2\")"
   ]
  },
  {
   "cell_type": "code",
   "execution_count": null,
   "metadata": {
    "collapsed": true
   },
   "outputs": [],
   "source": [
    "df_distrib = etl_params[\n",
    "        etl_params.distribution_identifier == \"3.2\"\n",
    "    ]"
   ]
  },
  {
   "cell_type": "code",
   "execution_count": null,
   "metadata": {
    "collapsed": true
   },
   "outputs": [],
   "source": [
    "df_distrib"
   ]
  },
  {
   "cell_type": "code",
   "execution_count": 42,
   "metadata": {
    "collapsed": true
   },
   "outputs": [],
   "source": [
    "result = scrape_dataset(xl, etl_params, catalog, \"2\", debug_mode=True)"
   ]
  },
  {
   "cell_type": "code",
   "execution_count": 48,
   "metadata": {},
   "outputs": [
    {
     "data": {
      "text/plain": [
       "\"AssertionError('End must be greater than start!',)\""
      ]
     },
     "execution_count": 48,
     "metadata": {},
     "output_type": "execute_result"
    }
   ],
   "source": [
    "result"
   ]
  },
  {
   "cell_type": "code",
   "execution_count": 19,
   "metadata": {
    "collapsed": true
   },
   "outputs": [],
   "source": [
    "distribution.to_csv(\"/Users/abenassi/github/series-tiempo/catalogo/datos/datasets/1/63.csv\", \n",
    "                    encoding=\"utf-8-sig\", index_label=\"indice_tiempo\")"
   ]
  },
  {
   "cell_type": "code",
   "execution_count": 17,
   "metadata": {
    "collapsed": true
   },
   "outputs": [],
   "source": [
    "distrib_meta = deepcopy(get_distribution_metadata(catalog, \"106.2\"))"
   ]
  },
  {
   "cell_type": "code",
   "execution_count": 18,
   "metadata": {},
   "outputs": [
    {
     "data": {
      "text/plain": [
       "{u'accessURL': u'http://www.minhacienda.gob.ar/secretarias/politica-economica/programacion-macroeconomica/',\n",
       " u'description': u'\\xcdndice de Precios Internos al por Mayor. Base 1993. Valores trimestrales.',\n",
       " u'field': [{u'dataStartCell': u'A35',\n",
       "   u'id': u'106.2_IT_1993_T_13',\n",
       "   u'identifierCell': u'A34',\n",
       "   u'specialType': u'time_index',\n",
       "   u'specialTypeDetail': u'R/P3M',\n",
       "   u'title': u'indice_tiempo',\n",
       "   u'type': u'date'},\n",
       "  {u'dataStartCell': u'B35',\n",
       "   u'description': u'IPIM Nivel general. Base 1993. Trimestral',\n",
       "   u'id': u'106.2_I1NG_1993_T_23',\n",
       "   u'identifierCell': u'B34',\n",
       "   u'specialTypeDetail': u'',\n",
       "   u'title': u'ipim_1993_nivel_general',\n",
       "   u'type': u'number',\n",
       "   u'units': u'N\\xfamero \\xedndice'},\n",
       "  {u'dataStartCell': u'C35',\n",
       "   u'description': u'IPIM Total productos nacionales. Base 1993. Trimestral',\n",
       "   u'id': u'106.2_I1TPN_1993_T_36',\n",
       "   u'identifierCell': u'C34',\n",
       "   u'specialTypeDetail': u'',\n",
       "   u'title': u'ipim_1993_total_productos_nacionales',\n",
       "   u'type': u'number',\n",
       "   u'units': u'N\\xfamero \\xedndice'},\n",
       "  {u'dataStartCell': u'D35',\n",
       "   u'description': u'IPIM Productos nacionales primarios. Base 1993. Trimestral',\n",
       "   u'id': u'106.2_I1PNP_1993_T_40',\n",
       "   u'identifierCell': u'D34',\n",
       "   u'specialTypeDetail': u'',\n",
       "   u'title': u'ipim_1993_productos_nacionales_primarios',\n",
       "   u'type': u'number',\n",
       "   u'units': u'N\\xfamero \\xedndice'},\n",
       "  {u'dataStartCell': u'E35',\n",
       "   u'description': u'IPIM Productos nacionales manufacturados y energ\\xeda el\\xe9ctrica. Base 1993. Trimestral',\n",
       "   u'id': u'106.2_I1PNMEE_1993_T_63',\n",
       "   u'identifierCell': u'E34',\n",
       "   u'specialTypeDetail': u'',\n",
       "   u'title': u'ipim_1993_productos_nacionales_manufacturados_energia_electrica',\n",
       "   u'type': u'number',\n",
       "   u'units': u'N\\xfamero \\xedndice'},\n",
       "  {u'dataStartCell': u'F35',\n",
       "   u'description': u'IPIM Productos importados. Base 1993. Trimestral',\n",
       "   u'id': u'106.2_IPI_1993_T_25',\n",
       "   u'identifierCell': u'F34',\n",
       "   u'specialTypeDetail': u'',\n",
       "   u'title': u'ipim_productos_importados',\n",
       "   u'type': u'number',\n",
       "   u'units': u'N\\xfamero \\xedndice'},\n",
       "  {u'dataStartCell': u'G35',\n",
       "   u'description': u'IPIM Precios relativos Nacionales/Importados. Base 1993. Trimestral',\n",
       "   u'id': u'106.2_I1PRNI_1993_T_49',\n",
       "   u'identifierCell': u'G34',\n",
       "   u'specialTypeDetail': u'',\n",
       "   u'title': u'ipim_1993_precios_relativos_nacionales_importados',\n",
       "   u'type': u'number',\n",
       "   u'units': u'N\\xfamero \\xedndice'},\n",
       "  {u'dataStartCell': u'H35',\n",
       "   u'description': u'IPIM Precios relativos Primarios/Manufacturados y energ\\xeda el\\xe9ctrica. Base 1993. Trimestral',\n",
       "   u'id': u'106.2_I1PRPMEE_1993_T_70',\n",
       "   u'identifierCell': u'H34',\n",
       "   u'specialTypeDetail': u'',\n",
       "   u'title': u'ipim_1993_precios_relativos_primarios_manufacturados_energia_electrica',\n",
       "   u'type': u'number',\n",
       "   u'units': u'N\\xfamero \\xedndice'},\n",
       "  {u'dataStartCell': u'J36',\n",
       "   u'description': u'IPIM Nivel general trimestral. Variaci\\xf3n % mensual. Base 1993',\n",
       "   u'id': u'106.2_I1NGVM_1993_T_41',\n",
       "   u'identifierCell': u'J34',\n",
       "   u'specialTypeDetail': u'',\n",
       "   u'title': u'ipim_1993_nivel_general_variacion_mensual',\n",
       "   u'type': u'number',\n",
       "   u'units': u'N\\xfamero \\xedndice'},\n",
       "  {u'dataStartCell': u'K39',\n",
       "   u'description': u'IPIM Nivel general trimestral. Variaci\\xf3n % anual. Base 1993',\n",
       "   u'id': u'106.2_I1NGVA_1993_T_39',\n",
       "   u'identifierCell': u'K34',\n",
       "   u'specialTypeDetail': u'',\n",
       "   u'title': u'ipim_1993_nivel_general_variacion_anual',\n",
       "   u'type': u'number',\n",
       "   u'units': u'N\\xfamero \\xedndice'}],\n",
       " u'format': u'CSV',\n",
       " u'identifier': u'106.2',\n",
       " u'iedFileSheet': u'4.7 IPIM',\n",
       " u'iedFileURL': u'http://www.economia.gob.ar/download/infoeco/apendice4.xlsx',\n",
       " u'issued': u'2017-07-10T17:12:15.044442-03:00',\n",
       " u'title': u'\\xcdndice de Precios Internos al por Mayor. Base 1993. Valores trimestrales.',\n",
       " u'units': u'N\\xfamero \\xedndice'}"
      ]
     },
     "execution_count": 18,
     "metadata": {},
     "output_type": "execute_result"
    }
   ],
   "source": [
    "distrib_meta"
   ]
  },
  {
   "cell_type": "code",
   "execution_count": 22,
   "metadata": {},
   "outputs": [
    {
     "data": {
      "text/plain": [
       "u'http://www.economia.gob.ar/download/infoeco/apendice4.xlsx'"
      ]
     },
     "execution_count": 22,
     "metadata": {},
     "output_type": "execute_result"
    }
   ],
   "source": [
    "pd.DataFrame(get_distribution_metadata(catalog, \"106.2\")).iloc[0,:][\"iedFileURL\"]"
   ]
  },
  {
   "cell_type": "code",
   "execution_count": null,
   "metadata": {
    "collapsed": true
   },
   "outputs": [],
   "source": []
  },
  {
   "cell_type": "code",
   "execution_count": null,
   "metadata": {
    "collapsed": true
   },
   "outputs": [],
   "source": []
  },
  {
   "cell_type": "code",
   "execution_count": null,
   "metadata": {
    "collapsed": true
   },
   "outputs": [],
   "source": []
  },
  {
   "cell_type": "code",
   "execution_count": 32,
   "metadata": {},
   "outputs": [
    {
     "data": {
      "text/html": [
       "<div>\n",
       "<table border=\"1\" class=\"dataframe\">\n",
       "  <thead>\n",
       "    <tr style=\"text-align: right;\">\n",
       "      <th></th>\n",
       "      <th>distribution_iedFileURL</th>\n",
       "      <th>distribution_iedFileSheet</th>\n",
       "      <th>distribution_timeIndexCell</th>\n",
       "      <th>distribution_identifier</th>\n",
       "      <th>distribution_title</th>\n",
       "      <th>field_title</th>\n",
       "      <th>field_id</th>\n",
       "      <th>field_identifierCell</th>\n",
       "      <th>field_dataStartCell</th>\n",
       "    </tr>\n",
       "  </thead>\n",
       "  <tbody>\n",
       "    <tr>\n",
       "      <th>4695</th>\n",
       "      <td>http://www.economia.gob.ar/download/infoeco/ap...</td>\n",
       "      <td>4.7 IPIM</td>\n",
       "      <td>A35</td>\n",
       "      <td>106.2</td>\n",
       "      <td>Índice de Precios Internos al por Mayor. Base ...</td>\n",
       "      <td>indice_tiempo</td>\n",
       "      <td>106.2_IT_1993_T_13</td>\n",
       "      <td>A34</td>\n",
       "      <td>A35</td>\n",
       "    </tr>\n",
       "    <tr>\n",
       "      <th>4696</th>\n",
       "      <td>http://www.economia.gob.ar/download/infoeco/ap...</td>\n",
       "      <td>4.7 IPIM</td>\n",
       "      <td>A35</td>\n",
       "      <td>106.2</td>\n",
       "      <td>Índice de Precios Internos al por Mayor. Base ...</td>\n",
       "      <td>ipim_1993_nivel_general</td>\n",
       "      <td>106.2_I1NG_1993_T_23</td>\n",
       "      <td>B34</td>\n",
       "      <td>B35</td>\n",
       "    </tr>\n",
       "    <tr>\n",
       "      <th>4697</th>\n",
       "      <td>http://www.economia.gob.ar/download/infoeco/ap...</td>\n",
       "      <td>4.7 IPIM</td>\n",
       "      <td>A35</td>\n",
       "      <td>106.2</td>\n",
       "      <td>Índice de Precios Internos al por Mayor. Base ...</td>\n",
       "      <td>ipim_1993_total_productos_nacionales</td>\n",
       "      <td>106.2_I1TPN_1993_T_36</td>\n",
       "      <td>C34</td>\n",
       "      <td>C35</td>\n",
       "    </tr>\n",
       "    <tr>\n",
       "      <th>4698</th>\n",
       "      <td>http://www.economia.gob.ar/download/infoeco/ap...</td>\n",
       "      <td>4.7 IPIM</td>\n",
       "      <td>A35</td>\n",
       "      <td>106.2</td>\n",
       "      <td>Índice de Precios Internos al por Mayor. Base ...</td>\n",
       "      <td>ipim_1993_productos_nacionales_primarios</td>\n",
       "      <td>106.2_I1PNP_1993_T_40</td>\n",
       "      <td>D34</td>\n",
       "      <td>D35</td>\n",
       "    </tr>\n",
       "    <tr>\n",
       "      <th>4699</th>\n",
       "      <td>http://www.economia.gob.ar/download/infoeco/ap...</td>\n",
       "      <td>4.7 IPIM</td>\n",
       "      <td>A35</td>\n",
       "      <td>106.2</td>\n",
       "      <td>Índice de Precios Internos al por Mayor. Base ...</td>\n",
       "      <td>ipim_1993_productos_nacionales_manufacturados_...</td>\n",
       "      <td>106.2_I1PNMEE_1993_T_63</td>\n",
       "      <td>E34</td>\n",
       "      <td>E35</td>\n",
       "    </tr>\n",
       "    <tr>\n",
       "      <th>4700</th>\n",
       "      <td>http://www.economia.gob.ar/download/infoeco/ap...</td>\n",
       "      <td>4.7 IPIM</td>\n",
       "      <td>A35</td>\n",
       "      <td>106.2</td>\n",
       "      <td>Índice de Precios Internos al por Mayor. Base ...</td>\n",
       "      <td>ipim_productos_importados</td>\n",
       "      <td>106.2_IPI_1993_T_25</td>\n",
       "      <td>F34</td>\n",
       "      <td>F35</td>\n",
       "    </tr>\n",
       "    <tr>\n",
       "      <th>4701</th>\n",
       "      <td>http://www.economia.gob.ar/download/infoeco/ap...</td>\n",
       "      <td>4.7 IPIM</td>\n",
       "      <td>A35</td>\n",
       "      <td>106.2</td>\n",
       "      <td>Índice de Precios Internos al por Mayor. Base ...</td>\n",
       "      <td>ipim_1993_precios_relativos_nacionales_importados</td>\n",
       "      <td>106.2_I1PRNI_1993_T_49</td>\n",
       "      <td>G34</td>\n",
       "      <td>G35</td>\n",
       "    </tr>\n",
       "    <tr>\n",
       "      <th>4702</th>\n",
       "      <td>http://www.economia.gob.ar/download/infoeco/ap...</td>\n",
       "      <td>4.7 IPIM</td>\n",
       "      <td>A35</td>\n",
       "      <td>106.2</td>\n",
       "      <td>Índice de Precios Internos al por Mayor. Base ...</td>\n",
       "      <td>ipim_1993_precios_relativos_primarios_manufact...</td>\n",
       "      <td>106.2_I1PRPMEE_1993_T_70</td>\n",
       "      <td>H34</td>\n",
       "      <td>H35</td>\n",
       "    </tr>\n",
       "    <tr>\n",
       "      <th>4703</th>\n",
       "      <td>http://www.economia.gob.ar/download/infoeco/ap...</td>\n",
       "      <td>4.7 IPIM</td>\n",
       "      <td>A36</td>\n",
       "      <td>106.2</td>\n",
       "      <td>Índice de Precios Internos al por Mayor. Base ...</td>\n",
       "      <td>ipim_1993_nivel_general_variacion_mensual</td>\n",
       "      <td>106.2_I1NGVM_1993_T_41</td>\n",
       "      <td>J34</td>\n",
       "      <td>J36</td>\n",
       "    </tr>\n",
       "    <tr>\n",
       "      <th>4704</th>\n",
       "      <td>http://www.economia.gob.ar/download/infoeco/ap...</td>\n",
       "      <td>4.7 IPIM</td>\n",
       "      <td>A39</td>\n",
       "      <td>106.2</td>\n",
       "      <td>Índice de Precios Internos al por Mayor. Base ...</td>\n",
       "      <td>ipim_1993_nivel_general_variacion_anual</td>\n",
       "      <td>106.2_I1NGVA_1993_T_39</td>\n",
       "      <td>K34</td>\n",
       "      <td>K39</td>\n",
       "    </tr>\n",
       "  </tbody>\n",
       "</table>\n",
       "</div>"
      ],
      "text/plain": [
       "                                distribution_iedFileURL  \\\n",
       "4695  http://www.economia.gob.ar/download/infoeco/ap...   \n",
       "4696  http://www.economia.gob.ar/download/infoeco/ap...   \n",
       "4697  http://www.economia.gob.ar/download/infoeco/ap...   \n",
       "4698  http://www.economia.gob.ar/download/infoeco/ap...   \n",
       "4699  http://www.economia.gob.ar/download/infoeco/ap...   \n",
       "4700  http://www.economia.gob.ar/download/infoeco/ap...   \n",
       "4701  http://www.economia.gob.ar/download/infoeco/ap...   \n",
       "4702  http://www.economia.gob.ar/download/infoeco/ap...   \n",
       "4703  http://www.economia.gob.ar/download/infoeco/ap...   \n",
       "4704  http://www.economia.gob.ar/download/infoeco/ap...   \n",
       "\n",
       "     distribution_iedFileSheet distribution_timeIndexCell  \\\n",
       "4695                  4.7 IPIM                        A35   \n",
       "4696                  4.7 IPIM                        A35   \n",
       "4697                  4.7 IPIM                        A35   \n",
       "4698                  4.7 IPIM                        A35   \n",
       "4699                  4.7 IPIM                        A35   \n",
       "4700                  4.7 IPIM                        A35   \n",
       "4701                  4.7 IPIM                        A35   \n",
       "4702                  4.7 IPIM                        A35   \n",
       "4703                  4.7 IPIM                        A36   \n",
       "4704                  4.7 IPIM                        A39   \n",
       "\n",
       "     distribution_identifier  \\\n",
       "4695                   106.2   \n",
       "4696                   106.2   \n",
       "4697                   106.2   \n",
       "4698                   106.2   \n",
       "4699                   106.2   \n",
       "4700                   106.2   \n",
       "4701                   106.2   \n",
       "4702                   106.2   \n",
       "4703                   106.2   \n",
       "4704                   106.2   \n",
       "\n",
       "                                     distribution_title  \\\n",
       "4695  Índice de Precios Internos al por Mayor. Base ...   \n",
       "4696  Índice de Precios Internos al por Mayor. Base ...   \n",
       "4697  Índice de Precios Internos al por Mayor. Base ...   \n",
       "4698  Índice de Precios Internos al por Mayor. Base ...   \n",
       "4699  Índice de Precios Internos al por Mayor. Base ...   \n",
       "4700  Índice de Precios Internos al por Mayor. Base ...   \n",
       "4701  Índice de Precios Internos al por Mayor. Base ...   \n",
       "4702  Índice de Precios Internos al por Mayor. Base ...   \n",
       "4703  Índice de Precios Internos al por Mayor. Base ...   \n",
       "4704  Índice de Precios Internos al por Mayor. Base ...   \n",
       "\n",
       "                                            field_title  \\\n",
       "4695                                      indice_tiempo   \n",
       "4696                            ipim_1993_nivel_general   \n",
       "4697               ipim_1993_total_productos_nacionales   \n",
       "4698           ipim_1993_productos_nacionales_primarios   \n",
       "4699  ipim_1993_productos_nacionales_manufacturados_...   \n",
       "4700                          ipim_productos_importados   \n",
       "4701  ipim_1993_precios_relativos_nacionales_importados   \n",
       "4702  ipim_1993_precios_relativos_primarios_manufact...   \n",
       "4703          ipim_1993_nivel_general_variacion_mensual   \n",
       "4704            ipim_1993_nivel_general_variacion_anual   \n",
       "\n",
       "                      field_id field_identifierCell field_dataStartCell  \n",
       "4695        106.2_IT_1993_T_13                  A34                 A35  \n",
       "4696      106.2_I1NG_1993_T_23                  B34                 B35  \n",
       "4697     106.2_I1TPN_1993_T_36                  C34                 C35  \n",
       "4698     106.2_I1PNP_1993_T_40                  D34                 D35  \n",
       "4699   106.2_I1PNMEE_1993_T_63                  E34                 E35  \n",
       "4700       106.2_IPI_1993_T_25                  F34                 F35  \n",
       "4701    106.2_I1PRNI_1993_T_49                  G34                 G35  \n",
       "4702  106.2_I1PRPMEE_1993_T_70                  H34                 H35  \n",
       "4703    106.2_I1NGVM_1993_T_41                  J34                 J36  \n",
       "4704    106.2_I1NGVA_1993_T_39                  K34                 K39  "
      ]
     },
     "execution_count": 32,
     "metadata": {},
     "output_type": "execute_result"
    }
   ],
   "source": [
    "etl_params[etl_params.distribution_identifier == \"106.2\"]"
   ]
  },
  {
   "cell_type": "code",
   "execution_count": 27,
   "metadata": {},
   "outputs": [
    {
     "ename": "NameError",
     "evalue": "name 'gen_distribution_params' is not defined",
     "output_type": "error",
     "traceback": [
      "\u001b[0;31m---------------------------------------------------------------------------\u001b[0m",
      "\u001b[0;31mNameError\u001b[0m                                 Traceback (most recent call last)",
      "\u001b[0;32m<ipython-input-27-0b6fad10dd93>\u001b[0m in \u001b[0;36m<module>\u001b[0;34m()\u001b[0m\n\u001b[0;32m----> 1\u001b[0;31m \u001b[0mparams\u001b[0m \u001b[0;34m=\u001b[0m \u001b[0mgen_distribution_params\u001b[0m\u001b[0;34m(\u001b[0m\u001b[0metl_params\u001b[0m\u001b[0;34m,\u001b[0m \u001b[0mcatalog\u001b[0m\u001b[0;34m,\u001b[0m \u001b[0;34m\"106.2\"\u001b[0m\u001b[0;34m)\u001b[0m\u001b[0;34m\u001b[0m\u001b[0m\n\u001b[0m\u001b[1;32m      2\u001b[0m \u001b[0mdist_meta\u001b[0m \u001b[0;34m=\u001b[0m \u001b[0mget_distribution_metadata\u001b[0m\u001b[0;34m(\u001b[0m\u001b[0mcatalog\u001b[0m\u001b[0;34m,\u001b[0m \u001b[0;34m\"106.2\"\u001b[0m\u001b[0;34m)\u001b[0m\u001b[0;34m\u001b[0m\u001b[0m\n",
      "\u001b[0;31mNameError\u001b[0m: name 'gen_distribution_params' is not defined"
     ]
    }
   ],
   "source": [
    "params = gen_distribution_params(etl_params, catalog, \"106.2\")\n",
    "dist_meta = get_distribution_metadata(catalog, \"106.2\")"
   ]
  },
  {
   "cell_type": "code",
   "execution_count": 23,
   "metadata": {},
   "outputs": [
    {
     "data": {
      "text/plain": [
       "{u'data_starts': [9, 9, 9, 9, 9, 9],\n",
       " u'frequency': u'Y',\n",
       " u'headers_coord': ['B8', 'C8', 'D8', 'E8', 'F8', 'G8'],\n",
       " u'series_names': ['oferta_global_pbi',\n",
       "  'oferta_global_importacion',\n",
       "  'demanda_global_exportacion',\n",
       "  'demanda_global_ibif',\n",
       "  'demanda_global_consumo_priv',\n",
       "  'demanda_global_consumo_publico'],\n",
       " u'time_header_coord': 'A8',\n",
       " u'worksheet': '1.2 OyD real s.e.'}"
      ]
     },
     "execution_count": 23,
     "metadata": {},
     "output_type": "execute_result"
    }
   ],
   "source": [
    "params"
   ]
  },
  {
   "cell_type": "code",
   "execution_count": 24,
   "metadata": {},
   "outputs": [
    {
     "data": {
      "text/plain": [
       "{u'accessURL': u'http://www.minhacienda.gob.ar/secretarias/politica-economica/programacion-macroeconomica/',\n",
       " u'description': u'Oferta y Demanda Globales por componente, a precios de comprador, en millones de pesos de 1993 y valores anuales desestacionalizados.',\n",
       " u'field': [{u'dataStartCell': u'A9',\n",
       "   u'id': u'1.1_IT_ D_1993_ A_13',\n",
       "   u'identifierCell': u'A8',\n",
       "   u'specialType': u'time_index',\n",
       "   u'specialTypeDetail': u'R/P1Y',\n",
       "   u'title': u'indice_tiempo',\n",
       "   u'type': u'date'},\n",
       "  {u'dataStartCell': u'B9',\n",
       "   u'description': u'PIB desestacionalizado, en millones de pesos de 1993 y valores anuales',\n",
       "   u'id': u'1.1_OGP_ D_1993_ A_17',\n",
       "   u'identifierCell': u'B8',\n",
       "   u'title': u'oferta_global_pbi',\n",
       "   u'type': u'number',\n",
       "   u'units': u'Millones de pesos, a precios de 1993'},\n",
       "  {u'dataStartCell': u'C9',\n",
       "   u'description': u'Importaciones desestacionalizadas, en millones de pesos de 1993 y valores anuales',\n",
       "   u'id': u'1.1_OGI_ D_1993_ A_25',\n",
       "   u'identifierCell': u'C8',\n",
       "   u'title': u'oferta_global_importacion',\n",
       "   u'type': u'number',\n",
       "   u'units': u'Millones de pesos, a precios de 1993'},\n",
       "  {u'dataStartCell': u'D9',\n",
       "   u'description': u'Exportaciones desestacionalizadas, en millones de pesos de 1993 y valores anuales',\n",
       "   u'id': u'1.1_DGE_ D_1993_ A_26',\n",
       "   u'identifierCell': u'D8',\n",
       "   u'title': u'demanda_global_exportacion',\n",
       "   u'type': u'number',\n",
       "   u'units': u'Millones de pesos, a precios de 1993'},\n",
       "  {u'dataStartCell': u'E9',\n",
       "   u'description': u'Inversion bruta interna fija desestacionalizada, en millones de pesos de 1993 y valores anuales',\n",
       "   u'id': u'1.1_DGI_ D_1993_ A_19',\n",
       "   u'identifierCell': u'E8',\n",
       "   u'title': u'demanda_global_ibif',\n",
       "   u'type': u'number',\n",
       "   u'units': u'Millones de pesos, a precios de 1993'},\n",
       "  {u'dataStartCell': u'F9',\n",
       "   u'description': u'Consumo privado desestacionalizado, en millones de pesos de 1993 y valores anuales',\n",
       "   u'id': u'1.1_DGCP_ D_1993_ A_27',\n",
       "   u'identifierCell': u'F8',\n",
       "   u'title': u'demanda_global_consumo_priv',\n",
       "   u'type': u'number',\n",
       "   u'units': u'Millones de pesos, a precios de 1993'},\n",
       "  {u'dataStartCell': u'G9',\n",
       "   u'description': u'Consumo publico desestacionalizado, en millones de pesos de 1993 y valores anuales',\n",
       "   u'id': u'1.1_DGCP_ D_1993_ A_fabricacion_maquinaria_oficina_contabilidad_informatica',\n",
       "   u'identifierCell': u'G8',\n",
       "   u'title': u'demanda_global_consumo_publico',\n",
       "   u'type': u'number',\n",
       "   u'units': u'Millones de pesos, a precios de 1993'}],\n",
       " u'format': u'CSV',\n",
       " u'identifier': u'1.1',\n",
       " u'iedFileSheet': u'1.2 OyD real s.e.',\n",
       " u'iedFileURL': u'http://www.economia.gob.ar/download/infoeco/actividad_ied.xlsx',\n",
       " u'issued': u'2017-06-26T22:40:04.207456-03:00',\n",
       " u'title': u'Oferta y Demanda Globales a precios de 1993: Datos desestacionalizados en valores anuales [Base 1993]',\n",
       " u'units': u'Millones de pesos, a precios de 1993'}"
      ]
     },
     "execution_count": 24,
     "metadata": {},
     "output_type": "execute_result"
    }
   ],
   "source": [
    "dist_meta"
   ]
  },
  {
   "cell_type": "code",
   "execution_count": null,
   "metadata": {
    "collapsed": true
   },
   "outputs": [],
   "source": []
  },
  {
   "cell_type": "code",
   "execution_count": null,
   "metadata": {
    "collapsed": true
   },
   "outputs": [],
   "source": []
  },
  {
   "cell_type": "code",
   "execution_count": 2,
   "metadata": {
    "collapsed": true
   },
   "outputs": [],
   "source": [
    "from pydatajson import readers"
   ]
  },
  {
   "cell_type": "code",
   "execution_count": 11,
   "metadata": {
    "collapsed": true
   },
   "outputs": [],
   "source": [
    "catalog = readers.read_catalog(catalog_json_path)"
   ]
  },
  {
   "cell_type": "code",
   "execution_count": 15,
   "metadata": {},
   "outputs": [
    {
     "name": "stdout",
     "output_type": "stream",
     "text": [
      "1 1.1 1.1_OGP_D_1993_A_17\n"
     ]
    }
   ],
   "source": [
    "for dataset in catalog[\"dataset\"]:\n",
    "    for distribution in dataset[\"distribution\"]:\n",
    "        if \"field\" in distribution:\n",
    "            for field in distribution[\"field\"]:\n",
    "                if field[\"id\"] == \"1.1_OGP_D_1993_A_17\":\n",
    "                    print dataset[\"identifier\"], distribution[\"identifier\"], field[\"id\"]"
   ]
  },
  {
   "cell_type": "code",
   "execution_count": 6,
   "metadata": {
    "collapsed": true
   },
   "outputs": [],
   "source": [
    "elecciones = [dataset for dataset in catalog[\"dataset\"] if dataset[\"title\"] == \"Resultados Electorales 2015\"][0]"
   ]
  },
  {
   "cell_type": "code",
   "execution_count": 9,
   "metadata": {
    "scrolled": true
   },
   "outputs": [
    {
     "name": "stdout",
     "output_type": "stream",
     "text": [
      "http://www.elecciones.gob.ar/admin/ckfinder/userfiles/files/PRES_Y_VICE_.rar\n",
      "http://www.elecciones.gob.ar/admin/ckfinder/userfiles/files/PARLAMENTARIO_NACIONAL.rar\n",
      "http://www.elecciones.gob.ar/admin/ckfinder/userfiles/files/PARLAMENTARIO_REGIONAL.rar\n",
      "http://www.elecciones.gob.ar/admin/ckfinder/userfiles/files/DIP_NAC.rar\n",
      "http://www.elecciones.gob.ar/admin/ckfinder/userfiles/files/FMESSN_0313.csv\n",
      "http://www.elecciones.gob.ar/admin/ckfinder/userfiles/files/DIP_PROV.rar\n",
      "http://www.elecciones.gob.ar/admin/ckfinder/userfiles/files/SEN_PROV.rar\n",
      "http://www.elecciones.gob.ar/admin/ckfinder/userfiles/files/GOBERNADOR.rar\n",
      "http://www.elecciones.gob.ar/admin/ckfinder/userfiles/files/MUNICIPAL.rar\n",
      "http://www.elecciones.gob.ar/admin/ckfinder/userfiles/files/DEPARTAMENTOS.csv\n",
      "http://www.elecciones.gob.ar/admin/ckfinder/userfiles/files/FPARTIDOS.csv\n",
      "http://www.elecciones.gob.ar/admin/ckfinder/userfiles/files/PROVINCIAS.csv\n",
      "http://www.elecciones.gob.ar/admin/ckfinder/userfiles/files/PV_0101.csv\n",
      "http://www.elecciones.gob.ar/admin/ckfinder/userfiles/files/PV_0202(1).csv\n",
      "http://www.elecciones.gob.ar/admin/ckfinder/userfiles/files/PV_0313(1).csv\n",
      "http://www.elecciones.gob.ar/admin/ckfinder/userfiles/files/PV_1424.csv\n",
      "http://www.elecciones.gob.ar/admin/ckfinder/userfiles/files/COD_DEPARTAMENTOS.csv\n",
      "http://www.elecciones.gob.ar/admin/ckfinder/userfiles/files/COD_MUNICIPIOS.csv\n",
      "http://www.elecciones.gob.ar/admin/ckfinder/userfiles/files/COD_PARTIDOS.csv\n",
      "http://www.elecciones.gob.ar/admin/ckfinder/userfiles/files/COD_PROVINCIAS.csv\n"
     ]
    }
   ],
   "source": [
    "for i in [distribution[\"downloadURL\"] for distribution in elecciones[\"distribution\"]]:\n",
    "    print i"
   ]
  },
  {
   "cell_type": "code",
   "execution_count": 68,
   "metadata": {
    "collapsed": true
   },
   "outputs": [],
   "source": [
    "def get_time_series(\n",
    "    dataset_id, distribution_id, field_title, time_index=\"indice_tiempo\",\n",
    "    datasets_dir=\"/Users/abenassi/github/series-tiempo/catalogo/datos/datasets/\"):\n",
    "    \"\"\"Devuelve un dataframe con una serie de tiempo.\"\"\"\n",
    "    \n",
    "    distribution_path = os.path.join(datasets_dir, dataset_id, distribution_id + \".csv\")\n",
    "    \n",
    "    return pd.read_csv(distribution_path, index_col=time_index, parse_dates=True)[field_title]"
   ]
  },
  {
   "cell_type": "code",
   "execution_count": 121,
   "metadata": {
    "collapsed": true
   },
   "outputs": [],
   "source": [
    "def get_time_series_df(\n",
    "    field_ids, catalog=\"/Users/abenassi/github/series-tiempo/catalogo/datos/data.json\"):\n",
    "    catalog = readers.read_catalog(catalog)\n",
    "    \n",
    "    if not isinstance(field_ids, list):\n",
    "        field_ids = [field_ids]\n",
    "    \n",
    "    # busca los ids de dataset y distribucion de la serie\n",
    "    series_params = []\n",
    "    for dataset in catalog[\"dataset\"]:\n",
    "        for distribution in dataset[\"distribution\"]:\n",
    "            if \"field\" in distribution:\n",
    "                for field in distribution[\"field\"]:\n",
    "                    if field[\"id\"] in field_ids:\n",
    "                        \n",
    "                        series_params.append((\n",
    "                            dataset[\"identifier\"],\n",
    "                            distribution[\"identifier\"],\n",
    "                            field[\"title\"]\n",
    "                        ))\n",
    "    \n",
    "    # toma las series y genera un data frame concatenado\n",
    "    time_series = [get_time_series(*serie_params) \n",
    "                   for serie_params in series_params]\n",
    "\n",
    "    return pd.concat(time_series, axis=1)"
   ]
  },
  {
   "cell_type": "code",
   "execution_count": 132,
   "metadata": {
    "collapsed": true
   },
   "outputs": [],
   "source": [
    "df = get_time_series_df([\n",
    "    \"4.2_OGP_2004_T_17\", \"23.2_PIBPM_2004_T_38\"\n",
    "])"
   ]
  },
  {
   "cell_type": "code",
   "execution_count": 137,
   "metadata": {},
   "outputs": [
    {
     "data": {
      "text/plain": [
       "291.92582963699999"
      ]
     },
     "execution_count": 137,
     "metadata": {},
     "output_type": "execute_result"
    }
   ],
   "source": []
  },
  {
   "cell_type": "code",
   "execution_count": 138,
   "metadata": {
    "collapsed": true
   },
   "outputs": [],
   "source": [
    "df[\"oferta_global_pbi_precios_2011_II\"] = df.oferta_global_pbi / (df.indice_precios_implicito_pbi_mercado / df.indice_precios_implicito_pbi_mercado[\"2011-04-01\"])"
   ]
  },
  {
   "cell_type": "code",
   "execution_count": 128,
   "metadata": {
    "collapsed": true
   },
   "outputs": [],
   "source": [
    "df[\"demanda_global_ibif_total / ofert_global_pbi\"] = df[\"demanda_global_ibif_total\"] / df[\"oferta_global_pbi\"]"
   ]
  },
  {
   "cell_type": "code",
   "execution_count": 141,
   "metadata": {
    "collapsed": true
   },
   "outputs": [],
   "source": [
    "df.to_csv(\"/Users/abenassi/github/series-tiempo/ejemplos/deflacion_serie_por_otra.csv\", encoding=\"utf8\")"
   ]
  },
  {
   "cell_type": "code",
   "execution_count": 142,
   "metadata": {
    "collapsed": true
   },
   "outputs": [],
   "source": [
    "ipc = get_time_series_df(\"104.1_I2NG_2016_M_22\")"
   ]
  },
  {
   "cell_type": "markdown",
   "metadata": {},
   "source": [
    "## Upload data y metadata"
   ]
  },
  {
   "cell_type": "markdown",
   "metadata": {},
   "source": [
    "## Setup"
   ]
  },
  {
   "cell_type": "code",
   "execution_count": 172,
   "metadata": {
    "collapsed": true
   },
   "outputs": [],
   "source": [
    "import pysftp\n",
    "import requests\n",
    "import yaml"
   ]
  },
  {
   "cell_type": "code",
   "execution_count": 173,
   "metadata": {
    "collapsed": true
   },
   "outputs": [],
   "source": [
    "cnopts = pysftp.CnOpts()\n",
    "cnopts.hostkeys.load('/Users/abenassi/.ssh/known_hosts')\n",
    "cnopts.hostkeys = None "
   ]
  },
  {
   "cell_type": "markdown",
   "metadata": {},
   "source": [
    "## Main steps"
   ]
  },
  {
   "cell_type": "code",
   "execution_count": 182,
   "metadata": {
    "collapsed": true
   },
   "outputs": [],
   "source": [
    "def upload_file_to_ind(local_path, remote_dir=None, config_ind=\"ind/config_ind.yaml\"):\n",
    "    \"\"\"Carga de un archivo a la infraestructura.\"\"\"\n",
    "\n",
    "    if isinstance(config_ind, dict):\n",
    "        ind_params = config_ind\n",
    "    else:\n",
    "        with open(config_ind_path, 'r') as f:\n",
    "            ind_params = yaml.load(f)\n",
    "        \n",
    "    remote_dir = remote_dir or '/home/{}'.format(ind_params[\"user\"])\n",
    "\n",
    "    with pysftp.Connection(ind_params[\"host\"], username=ind_params[\"user\"], password=ind_params[\"pass\"], cnopts=cnopts) as sftp:\n",
    "        with sftp.cd(remote_dir):\n",
    "            sftp.put(local_path)\n"
   ]
  },
  {
   "cell_type": "code",
   "execution_count": 183,
   "metadata": {
    "collapsed": true
   },
   "outputs": [],
   "source": [
    "def upload_datajson_to_ind(local_path, config_ind_path=\"ind/config_ind.yaml\"):\n",
    "    \n",
    "    with open(config_ind_path, 'r') as f:\n",
    "        ind_params = yaml.load(f)\n",
    "        \n",
    "    upload_file_to_ind(local_path, config_ind=ind_params)\n",
    "\n",
    "    headers = {\"Authorization\": ind_params[\"api\"][\"metadata\"][\"auth_header\"]}\n",
    "\n",
    "    return requests.get(ind_params[\"api\"][\"metadata\"][\"url\"], headers=headers)"
   ]
  },
  {
   "cell_type": "code",
   "execution_count": 174,
   "metadata": {
    "collapsed": true
   },
   "outputs": [],
   "source": [
    "upload_file_to_ind('/Users/abenassi/github/series-tiempo/catalogo/datos/data.json')"
   ]
  },
  {
   "cell_type": "code",
   "execution_count": 185,
   "metadata": {},
   "outputs": [
    {
     "data": {
      "text/plain": [
       "<Response [200]>"
      ]
     },
     "execution_count": 185,
     "metadata": {},
     "output_type": "execute_result"
    }
   ],
   "source": [
    "upload_datajson_to_ind('/Users/abenassi/github/series-tiempo/catalogo/datos/data.json')"
   ]
  },
  {
   "cell_type": "code",
   "execution_count": null,
   "metadata": {
    "collapsed": true
   },
   "outputs": [],
   "source": []
  },
  {
   "cell_type": "code",
   "execution_count": null,
   "metadata": {
    "collapsed": true
   },
   "outputs": [],
   "source": []
  },
  {
   "cell_type": "code",
   "execution_count": null,
   "metadata": {
    "collapsed": true
   },
   "outputs": [],
   "source": []
  },
  {
   "cell_type": "code",
   "execution_count": 39,
   "metadata": {
    "collapsed": true
   },
   "outputs": [],
   "source": [
    "with pysftp.Connection(host, username=user, password=password) as sftp:\n",
    "    with sftp.cd('/home/abenassi'):             # temporarily chdir to public\n",
    "        sftp.put('/Users/abenassi/github/series-tiempo/catalogo/datos/datasets/1/63.csv')  # upload file to public/ on remote\n",
    "        # sftp.get('remote_file')         # get a remote file"
   ]
  },
  {
   "cell_type": "code",
   "execution_count": 41,
   "metadata": {
    "collapsed": true
   },
   "outputs": [],
   "source": [
    "url = url_api_ind\n",
    "headers = {\"Authorization\": auth_header}\n",
    "res = requests.get(url, headers=headers)"
   ]
  },
  {
   "cell_type": "code",
   "execution_count": 42,
   "metadata": {},
   "outputs": [
    {
     "data": {
      "text/plain": [
       "'<webresult>\\n  <result>OK</result>\\n  <message>Job started</message>\\n  <id>1ce9bc81-e519-4f7b-b921-ac2c1473e84f</id>\\n</webresult>\\n\\n'"
      ]
     },
     "execution_count": 42,
     "metadata": {},
     "output_type": "execute_result"
    }
   ],
   "source": [
    "res.content"
   ]
  },
  {
   "cell_type": "code",
   "execution_count": null,
   "metadata": {
    "collapsed": true
   },
   "outputs": [],
   "source": []
  },
  {
   "cell_type": "code",
   "execution_count": null,
   "metadata": {
    "collapsed": true
   },
   "outputs": [],
   "source": []
  },
  {
   "cell_type": "markdown",
   "metadata": {},
   "source": [
    "### Pruebas y chequeos"
   ]
  },
  {
   "cell_type": "code",
   "execution_count": 109,
   "metadata": {
    "collapsed": true
   },
   "outputs": [],
   "source": [
    "from pydatajson.readers import read_catalog\n",
    "from pydatajson import DataJson"
   ]
  },
  {
   "cell_type": "code",
   "execution_count": 35,
   "metadata": {
    "collapsed": true
   },
   "outputs": [],
   "source": [
    "dj = DataJson(\"catalog.json\", \"/Users/abenassi/github/series-tiempo/catalogo/codigo/schemas/\")"
   ]
  },
  {
   "cell_type": "code",
   "execution_count": 36,
   "metadata": {},
   "outputs": [
    {
     "data": {
      "text/plain": [
       "True"
      ]
     },
     "execution_count": 36,
     "metadata": {},
     "output_type": "execute_result"
    }
   ],
   "source": [
    "dj.is_valid_catalog(\"/Users/abenassi/github/series-tiempo/catalogo/datos/data.json\")"
   ]
  },
  {
   "cell_type": "code",
   "execution_count": 110,
   "metadata": {
    "collapsed": true
   },
   "outputs": [],
   "source": [
    "catalog = read_catalog(\"/Users/abenassi/github/series-tiempo/catalogo/datos/data.json\")"
   ]
  },
  {
   "cell_type": "code",
   "execution_count": 7,
   "metadata": {},
   "outputs": [
    {
     "data": {
      "text/plain": [
       "u'Datos Programaci\\xf3n Macroecon\\xf3mica'"
      ]
     },
     "execution_count": 7,
     "metadata": {},
     "output_type": "execute_result"
    }
   ],
   "source": [
    "catalog[0][\"title\"]"
   ]
  },
  {
   "cell_type": "code",
   "execution_count": null,
   "metadata": {
    "collapsed": true
   },
   "outputs": [],
   "source": []
  },
  {
   "cell_type": "markdown",
   "metadata": {},
   "source": [
    "### Chequeos webdav"
   ]
  },
  {
   "cell_type": "code",
   "execution_count": null,
   "metadata": {
    "collapsed": true
   },
   "outputs": [],
   "source": []
  },
  {
   "cell_type": "code",
   "execution_count": 5,
   "metadata": {
    "collapsed": true
   },
   "outputs": [],
   "source": [
    "import requests\n",
    "from requests.auth import HTTPBasicAuth"
   ]
  },
  {
   "cell_type": "code",
   "execution_count": null,
   "metadata": {
    "collapsed": true
   },
   "outputs": [],
   "source": []
  },
  {
   "cell_type": "code",
   "execution_count": 6,
   "metadata": {},
   "outputs": [
    {
     "name": "stderr",
     "output_type": "stream",
     "text": [
      "/Users/abenassi/anaconda/envs/series-tiempo/lib/python2.7/site-packages/urllib3/connectionpool.py:852: InsecureRequestWarning: Unverified HTTPS request is being made. Adding certificate verification is strongly advised. See: https://urllib3.readthedocs.io/en/latest/advanced-usage.html#ssl-warnings\n",
      "  InsecureRequestWarning)\n"
     ]
    }
   ],
   "source": [
    "res = requests.get(\"https://meconcd.mecon.gob.ar/remote.php/webdav/\", \n",
    "                   auth=HTTPBasicAuth(options[\"webdav_login\"], options[\"webdav_password\"]), verify=False)"
   ]
  },
  {
   "cell_type": "code",
   "execution_count": 9,
   "metadata": {
    "collapsed": true
   },
   "outputs": [],
   "source": [
    "import pycurl"
   ]
  },
  {
   "cell_type": "code",
   "execution_count": 32,
   "metadata": {},
   "outputs": [
    {
     "data": {
      "text/plain": [
       "<RequestsCookieJar[Cookie(version=0, name='oc41be7089f3', value='sj0jiee5lnk1pov11e98rs6vg7', port=None, port_specified=False, domain='meconcd.mecon.gob.ar', domain_specified=False, domain_initial_dot=False, path='/', path_specified=True, secure=True, expires=None, discard=True, comment=None, comment_url=None, rest={'HttpOnly': None}, rfc2109=False)]>"
      ]
     },
     "execution_count": 32,
     "metadata": {},
     "output_type": "execute_result"
    }
   ],
   "source": [
    "res."
   ]
  },
  {
   "cell_type": "code",
   "execution_count": 12,
   "metadata": {
    "collapsed": true
   },
   "outputs": [],
   "source": [
    "import easywebdav"
   ]
  },
  {
   "cell_type": "code",
   "execution_count": 21,
   "metadata": {
    "collapsed": true
   },
   "outputs": [],
   "source": [
    "webdav = easywebdav.connect('meconcd.mecon.gob.ar/remote.php/webdav/', username='abenassi', password='alpha1g13', protocol='http')"
   ]
  },
  {
   "cell_type": "code",
   "execution_count": 22,
   "metadata": {},
   "outputs": [
    {
     "ename": "OperationFailed",
     "evalue": "Failed to create directory \"some_dir\".\n  Operation     :  MKCOL some_dir\n  Expected code :  201 Created\n  Actual code   :  302 Found",
     "output_type": "error",
     "traceback": [
      "\u001b[0;31m---------------------------------------------------------------------------\u001b[0m",
      "\u001b[0;31mOperationFailed\u001b[0m                           Traceback (most recent call last)",
      "\u001b[0;32m<ipython-input-22-cd7919ffff22>\u001b[0m in \u001b[0;36m<module>\u001b[0;34m()\u001b[0m\n\u001b[0;32m----> 1\u001b[0;31m \u001b[0mwebdav\u001b[0m\u001b[0;34m.\u001b[0m\u001b[0mmkdir\u001b[0m\u001b[0;34m(\u001b[0m\u001b[0;34m'some_dir'\u001b[0m\u001b[0;34m)\u001b[0m\u001b[0;34m\u001b[0m\u001b[0m\n\u001b[0m",
      "\u001b[0;32m/Users/abenassi/anaconda/envs/series-tiempo/lib/python2.7/site-packages/easywebdav/client.pyc\u001b[0m in \u001b[0;36mmkdir\u001b[0;34m(self, path, safe)\u001b[0m\n\u001b[1;32m    121\u001b[0m     \u001b[0;32mdef\u001b[0m \u001b[0mmkdir\u001b[0m\u001b[0;34m(\u001b[0m\u001b[0mself\u001b[0m\u001b[0;34m,\u001b[0m \u001b[0mpath\u001b[0m\u001b[0;34m,\u001b[0m \u001b[0msafe\u001b[0m\u001b[0;34m=\u001b[0m\u001b[0mFalse\u001b[0m\u001b[0;34m)\u001b[0m\u001b[0;34m:\u001b[0m\u001b[0;34m\u001b[0m\u001b[0m\n\u001b[1;32m    122\u001b[0m         \u001b[0mexpected_codes\u001b[0m \u001b[0;34m=\u001b[0m \u001b[0;36m201\u001b[0m \u001b[0;32mif\u001b[0m \u001b[0;32mnot\u001b[0m \u001b[0msafe\u001b[0m \u001b[0;32melse\u001b[0m \u001b[0;34m(\u001b[0m\u001b[0;36m201\u001b[0m\u001b[0;34m,\u001b[0m \u001b[0;36m301\u001b[0m\u001b[0;34m,\u001b[0m \u001b[0;36m405\u001b[0m\u001b[0;34m)\u001b[0m\u001b[0;34m\u001b[0m\u001b[0m\n\u001b[0;32m--> 123\u001b[0;31m         \u001b[0mself\u001b[0m\u001b[0;34m.\u001b[0m\u001b[0m_send\u001b[0m\u001b[0;34m(\u001b[0m\u001b[0;34m'MKCOL'\u001b[0m\u001b[0;34m,\u001b[0m \u001b[0mpath\u001b[0m\u001b[0;34m,\u001b[0m \u001b[0mexpected_codes\u001b[0m\u001b[0;34m)\u001b[0m\u001b[0;34m\u001b[0m\u001b[0m\n\u001b[0m\u001b[1;32m    124\u001b[0m \u001b[0;34m\u001b[0m\u001b[0m\n\u001b[1;32m    125\u001b[0m     \u001b[0;32mdef\u001b[0m \u001b[0mmkdirs\u001b[0m\u001b[0;34m(\u001b[0m\u001b[0mself\u001b[0m\u001b[0;34m,\u001b[0m \u001b[0mpath\u001b[0m\u001b[0;34m)\u001b[0m\u001b[0;34m:\u001b[0m\u001b[0;34m\u001b[0m\u001b[0m\n",
      "\u001b[0;32m/Users/abenassi/anaconda/envs/series-tiempo/lib/python2.7/site-packages/easywebdav/client.pyc\u001b[0m in \u001b[0;36m_send\u001b[0;34m(self, method, path, expected_code, **kwargs)\u001b[0m\n\u001b[1;32m     98\u001b[0m         \u001b[0;32mif\u001b[0m \u001b[0misinstance\u001b[0m\u001b[0;34m(\u001b[0m\u001b[0mexpected_code\u001b[0m\u001b[0;34m,\u001b[0m \u001b[0mNumber\u001b[0m\u001b[0;34m)\u001b[0m \u001b[0;32mand\u001b[0m \u001b[0mresponse\u001b[0m\u001b[0;34m.\u001b[0m\u001b[0mstatus_code\u001b[0m \u001b[0;34m!=\u001b[0m \u001b[0mexpected_code\u001b[0m\u001b[0;31m \u001b[0m\u001b[0;31m\\\u001b[0m\u001b[0;34m\u001b[0m\u001b[0m\n\u001b[1;32m     99\u001b[0m             \u001b[0;32mor\u001b[0m \u001b[0;32mnot\u001b[0m \u001b[0misinstance\u001b[0m\u001b[0;34m(\u001b[0m\u001b[0mexpected_code\u001b[0m\u001b[0;34m,\u001b[0m \u001b[0mNumber\u001b[0m\u001b[0;34m)\u001b[0m \u001b[0;32mand\u001b[0m \u001b[0mresponse\u001b[0m\u001b[0;34m.\u001b[0m\u001b[0mstatus_code\u001b[0m \u001b[0;32mnot\u001b[0m \u001b[0;32min\u001b[0m \u001b[0mexpected_code\u001b[0m\u001b[0;34m:\u001b[0m\u001b[0;34m\u001b[0m\u001b[0m\n\u001b[0;32m--> 100\u001b[0;31m             \u001b[0;32mraise\u001b[0m \u001b[0mOperationFailed\u001b[0m\u001b[0;34m(\u001b[0m\u001b[0mmethod\u001b[0m\u001b[0;34m,\u001b[0m \u001b[0mpath\u001b[0m\u001b[0;34m,\u001b[0m \u001b[0mexpected_code\u001b[0m\u001b[0;34m,\u001b[0m \u001b[0mresponse\u001b[0m\u001b[0;34m.\u001b[0m\u001b[0mstatus_code\u001b[0m\u001b[0;34m)\u001b[0m\u001b[0;34m\u001b[0m\u001b[0m\n\u001b[0m\u001b[1;32m    101\u001b[0m         \u001b[0;32mreturn\u001b[0m \u001b[0mresponse\u001b[0m\u001b[0;34m\u001b[0m\u001b[0m\n\u001b[1;32m    102\u001b[0m \u001b[0;34m\u001b[0m\u001b[0m\n",
      "\u001b[0;31mOperationFailed\u001b[0m: Failed to create directory \"some_dir\".\n  Operation     :  MKCOL some_dir\n  Expected code :  201 Created\n  Actual code   :  302 Found"
     ]
    }
   ],
   "source": [
    "webdav.mkdir('some_dir')"
   ]
  },
  {
   "cell_type": "code",
   "execution_count": 10,
   "metadata": {},
   "outputs": [
    {
     "ename": "NotConnection",
     "evalue": "Not connection with https://meconcd.mecon.gob.ar/remote.php/webdav/",
     "output_type": "error",
     "traceback": [
      "\u001b[0;31m---------------------------------------------------------------------------\u001b[0m",
      "\u001b[0;31mNotConnection\u001b[0m                             Traceback (most recent call last)",
      "\u001b[0;32m<ipython-input-10-aea3099f834e>\u001b[0m in \u001b[0;36m<module>\u001b[0;34m()\u001b[0m\n\u001b[1;32m      9\u001b[0m }\n\u001b[1;32m     10\u001b[0m \u001b[0mclient\u001b[0m \u001b[0;34m=\u001b[0m \u001b[0mwc\u001b[0m\u001b[0;34m.\u001b[0m\u001b[0mClient\u001b[0m\u001b[0;34m(\u001b[0m\u001b[0moptions\u001b[0m\u001b[0;34m)\u001b[0m\u001b[0;34m\u001b[0m\u001b[0m\n\u001b[0;32m---> 11\u001b[0;31m \u001b[0mclient\u001b[0m\u001b[0;34m.\u001b[0m\u001b[0mlist\u001b[0m\u001b[0;34m(\u001b[0m\u001b[0;34m)\u001b[0m\u001b[0;34m\u001b[0m\u001b[0m\n\u001b[0m",
      "\u001b[0;32m/Users/abenassi/anaconda/envs/series-tiempo/lib/python2.7/site-packages/webdav/client.pyc\u001b[0m in \u001b[0;36mlist\u001b[0;34m(self, remote_path)\u001b[0m\n\u001b[1;32m    223\u001b[0m \u001b[0;34m\u001b[0m\u001b[0m\n\u001b[1;32m    224\u001b[0m         \u001b[0;32mexcept\u001b[0m \u001b[0mpycurl\u001b[0m\u001b[0;34m.\u001b[0m\u001b[0merror\u001b[0m\u001b[0;34m:\u001b[0m\u001b[0;34m\u001b[0m\u001b[0m\n\u001b[0;32m--> 225\u001b[0;31m             \u001b[0;32mraise\u001b[0m \u001b[0mNotConnection\u001b[0m\u001b[0;34m(\u001b[0m\u001b[0mself\u001b[0m\u001b[0;34m.\u001b[0m\u001b[0mwebdav\u001b[0m\u001b[0;34m.\u001b[0m\u001b[0mhostname\u001b[0m\u001b[0;34m)\u001b[0m\u001b[0;34m\u001b[0m\u001b[0m\n\u001b[0m\u001b[1;32m    226\u001b[0m \u001b[0;34m\u001b[0m\u001b[0m\n\u001b[1;32m    227\u001b[0m     \u001b[0;32mdef\u001b[0m \u001b[0mfree\u001b[0m\u001b[0;34m(\u001b[0m\u001b[0mself\u001b[0m\u001b[0;34m)\u001b[0m\u001b[0;34m:\u001b[0m\u001b[0;34m\u001b[0m\u001b[0m\n",
      "\u001b[0;31mNotConnection\u001b[0m: Not connection with https://meconcd.mecon.gob.ar/remote.php/webdav/"
     ]
    }
   ],
   "source": [
    "import webdav.client as wc\n",
    "options = {\n",
    " 'webdav_hostname': \"https://meconcd.mecon.gob.ar/remote.php/webdav/\",\n",
    " 'webdav_login':    \"abenassi\",\n",
    " 'webdav_password': \"alpha1g13\",\n",
    "  \"cert_path\": \"/Users/abenassi/github/series-tiempo/catalogo/codigo/certificate/AutoridadCertificantedelMinisteriodeEconomiaversionII.crt\",\n",
    "    \n",
    " \n",
    "}\n",
    "client = wc.Client(options)\n",
    "client.list()\n"
   ]
  },
  {
   "cell_type": "code",
   "execution_count": 14,
   "metadata": {},
   "outputs": [
    {
     "ename": "RemoteParentNotFound",
     "evalue": "Remote parent for: /new_dir/ not found",
     "output_type": "error",
     "traceback": [
      "\u001b[0;31m---------------------------------------------------------------------------\u001b[0m",
      "\u001b[0;31mRemoteParentNotFound\u001b[0m                      Traceback (most recent call last)",
      "\u001b[0;32m<ipython-input-14-e3e62bdf6636>\u001b[0m in \u001b[0;36m<module>\u001b[0;34m()\u001b[0m\n\u001b[0;32m----> 1\u001b[0;31m \u001b[0mclient\u001b[0m\u001b[0;34m.\u001b[0m\u001b[0mmkdir\u001b[0m\u001b[0;34m(\u001b[0m\u001b[0;34m\"new_dir\"\u001b[0m\u001b[0;34m)\u001b[0m\u001b[0;34m\u001b[0m\u001b[0m\n\u001b[0m",
      "\u001b[0;32m/Users/abenassi/anaconda/envs/series-tiempo/lib/python2.7/site-packages/webdav/client.pyc\u001b[0m in \u001b[0;36mmkdir\u001b[0;34m(self, remote_path)\u001b[0m\n\u001b[1;32m    309\u001b[0m \u001b[0;34m\u001b[0m\u001b[0m\n\u001b[1;32m    310\u001b[0m             \u001b[0;32mif\u001b[0m \u001b[0;32mnot\u001b[0m \u001b[0mself\u001b[0m\u001b[0;34m.\u001b[0m\u001b[0mcheck\u001b[0m\u001b[0;34m(\u001b[0m\u001b[0mdirectory_urn\u001b[0m\u001b[0;34m.\u001b[0m\u001b[0mparent\u001b[0m\u001b[0;34m(\u001b[0m\u001b[0;34m)\u001b[0m\u001b[0;34m)\u001b[0m\u001b[0;34m:\u001b[0m\u001b[0;34m\u001b[0m\u001b[0m\n\u001b[0;32m--> 311\u001b[0;31m                 \u001b[0;32mraise\u001b[0m \u001b[0mRemoteParentNotFound\u001b[0m\u001b[0;34m(\u001b[0m\u001b[0mdirectory_urn\u001b[0m\u001b[0;34m.\u001b[0m\u001b[0mpath\u001b[0m\u001b[0;34m(\u001b[0m\u001b[0;34m)\u001b[0m\u001b[0;34m)\u001b[0m\u001b[0;34m\u001b[0m\u001b[0m\n\u001b[0m\u001b[1;32m    312\u001b[0m \u001b[0;34m\u001b[0m\u001b[0m\n\u001b[1;32m    313\u001b[0m             \u001b[0murl\u001b[0m \u001b[0;34m=\u001b[0m \u001b[0;34m{\u001b[0m\u001b[0;34m'hostname'\u001b[0m\u001b[0;34m:\u001b[0m \u001b[0mself\u001b[0m\u001b[0;34m.\u001b[0m\u001b[0mwebdav\u001b[0m\u001b[0;34m.\u001b[0m\u001b[0mhostname\u001b[0m\u001b[0;34m,\u001b[0m \u001b[0;34m'root'\u001b[0m\u001b[0;34m:\u001b[0m \u001b[0mself\u001b[0m\u001b[0;34m.\u001b[0m\u001b[0mwebdav\u001b[0m\u001b[0;34m.\u001b[0m\u001b[0mroot\u001b[0m\u001b[0;34m,\u001b[0m \u001b[0;34m'path'\u001b[0m\u001b[0;34m:\u001b[0m \u001b[0mdirectory_urn\u001b[0m\u001b[0;34m.\u001b[0m\u001b[0mquote\u001b[0m\u001b[0;34m(\u001b[0m\u001b[0;34m)\u001b[0m\u001b[0;34m}\u001b[0m\u001b[0;34m\u001b[0m\u001b[0m\n",
      "\u001b[0;31mRemoteParentNotFound\u001b[0m: Remote parent for: /new_dir/ not found"
     ]
    }
   ],
   "source": [
    "client.mkdir(\"new_dir\")"
   ]
  },
  {
   "cell_type": "code",
   "execution_count": 12,
   "metadata": {
    "collapsed": true
   },
   "outputs": [],
   "source": [
    "client.clean(\"/\")"
   ]
  },
  {
   "cell_type": "code",
   "execution_count": 9,
   "metadata": {},
   "outputs": [
    {
     "ename": "RemoteParentNotFound",
     "evalue": "Remote parent for: /helpers.py not found",
     "output_type": "error",
     "traceback": [
      "\u001b[0;31m---------------------------------------------------------------------------\u001b[0m",
      "\u001b[0;31mRemoteParentNotFound\u001b[0m                      Traceback (most recent call last)",
      "\u001b[0;32m<ipython-input-9-915e39e3d74a>\u001b[0m in \u001b[0;36m<module>\u001b[0;34m()\u001b[0m\n\u001b[0;32m----> 1\u001b[0;31m \u001b[0mclient\u001b[0m\u001b[0;34m.\u001b[0m\u001b[0mupload_sync\u001b[0m\u001b[0;34m(\u001b[0m\u001b[0mremote_path\u001b[0m\u001b[0;34m=\u001b[0m\u001b[0;34m\"helpers.py\"\u001b[0m\u001b[0;34m,\u001b[0m \u001b[0mlocal_path\u001b[0m\u001b[0;34m=\u001b[0m\u001b[0;34m\"helpers.py\"\u001b[0m\u001b[0;34m)\u001b[0m\u001b[0;34m\u001b[0m\u001b[0m\n\u001b[0m",
      "\u001b[0;32m/Users/abenassi/anaconda/envs/series-tiempo/lib/python2.7/site-packages/webdav/client.pyc\u001b[0m in \u001b[0;36mupload_sync\u001b[0;34m(self, remote_path, local_path, callback)\u001b[0m\n\u001b[1;32m    538\u001b[0m     \u001b[0;32mdef\u001b[0m \u001b[0mupload_sync\u001b[0m\u001b[0;34m(\u001b[0m\u001b[0mself\u001b[0m\u001b[0;34m,\u001b[0m \u001b[0mremote_path\u001b[0m\u001b[0;34m,\u001b[0m \u001b[0mlocal_path\u001b[0m\u001b[0;34m,\u001b[0m \u001b[0mcallback\u001b[0m\u001b[0;34m=\u001b[0m\u001b[0mNone\u001b[0m\u001b[0;34m)\u001b[0m\u001b[0;34m:\u001b[0m\u001b[0;34m\u001b[0m\u001b[0m\n\u001b[1;32m    539\u001b[0m \u001b[0;34m\u001b[0m\u001b[0m\n\u001b[0;32m--> 540\u001b[0;31m         \u001b[0mself\u001b[0m\u001b[0;34m.\u001b[0m\u001b[0mupload\u001b[0m\u001b[0;34m(\u001b[0m\u001b[0mlocal_path\u001b[0m\u001b[0;34m=\u001b[0m\u001b[0mlocal_path\u001b[0m\u001b[0;34m,\u001b[0m \u001b[0mremote_path\u001b[0m\u001b[0;34m=\u001b[0m\u001b[0mremote_path\u001b[0m\u001b[0;34m)\u001b[0m\u001b[0;34m\u001b[0m\u001b[0m\n\u001b[0m\u001b[1;32m    541\u001b[0m \u001b[0;34m\u001b[0m\u001b[0m\n\u001b[1;32m    542\u001b[0m         \u001b[0;32mif\u001b[0m \u001b[0mcallback\u001b[0m\u001b[0;34m:\u001b[0m\u001b[0;34m\u001b[0m\u001b[0m\n",
      "\u001b[0;32m/Users/abenassi/anaconda/envs/series-tiempo/lib/python2.7/site-packages/webdav/client.pyc\u001b[0m in \u001b[0;36mupload\u001b[0;34m(self, remote_path, local_path, progress)\u001b[0m\n\u001b[1;32m    462\u001b[0m             \u001b[0mself\u001b[0m\u001b[0;34m.\u001b[0m\u001b[0mupload_directory\u001b[0m\u001b[0;34m(\u001b[0m\u001b[0mlocal_path\u001b[0m\u001b[0;34m=\u001b[0m\u001b[0mlocal_path\u001b[0m\u001b[0;34m,\u001b[0m \u001b[0mremote_path\u001b[0m\u001b[0;34m=\u001b[0m\u001b[0mremote_path\u001b[0m\u001b[0;34m,\u001b[0m \u001b[0mprogress\u001b[0m\u001b[0;34m=\u001b[0m\u001b[0mprogress\u001b[0m\u001b[0;34m)\u001b[0m\u001b[0;34m\u001b[0m\u001b[0m\n\u001b[1;32m    463\u001b[0m         \u001b[0;32melse\u001b[0m\u001b[0;34m:\u001b[0m\u001b[0;34m\u001b[0m\u001b[0m\n\u001b[0;32m--> 464\u001b[0;31m             \u001b[0mself\u001b[0m\u001b[0;34m.\u001b[0m\u001b[0mupload_file\u001b[0m\u001b[0;34m(\u001b[0m\u001b[0mlocal_path\u001b[0m\u001b[0;34m=\u001b[0m\u001b[0mlocal_path\u001b[0m\u001b[0;34m,\u001b[0m \u001b[0mremote_path\u001b[0m\u001b[0;34m=\u001b[0m\u001b[0mremote_path\u001b[0m\u001b[0;34m,\u001b[0m \u001b[0mprogress\u001b[0m\u001b[0;34m=\u001b[0m\u001b[0mprogress\u001b[0m\u001b[0;34m)\u001b[0m\u001b[0;34m\u001b[0m\u001b[0m\n\u001b[0m\u001b[1;32m    465\u001b[0m \u001b[0;34m\u001b[0m\u001b[0m\n\u001b[1;32m    466\u001b[0m     \u001b[0;32mdef\u001b[0m \u001b[0mupload_directory\u001b[0m\u001b[0;34m(\u001b[0m\u001b[0mself\u001b[0m\u001b[0;34m,\u001b[0m \u001b[0mremote_path\u001b[0m\u001b[0;34m,\u001b[0m \u001b[0mlocal_path\u001b[0m\u001b[0;34m,\u001b[0m \u001b[0mprogress\u001b[0m\u001b[0;34m=\u001b[0m\u001b[0mNone\u001b[0m\u001b[0;34m)\u001b[0m\u001b[0;34m:\u001b[0m\u001b[0;34m\u001b[0m\u001b[0m\n",
      "\u001b[0;32m/Users/abenassi/anaconda/envs/series-tiempo/lib/python2.7/site-packages/webdav/client.pyc\u001b[0m in \u001b[0;36mupload_file\u001b[0;34m(self, remote_path, local_path, progress)\u001b[0m\n\u001b[1;32m    502\u001b[0m \u001b[0;34m\u001b[0m\u001b[0m\n\u001b[1;32m    503\u001b[0m             \u001b[0;32mif\u001b[0m \u001b[0;32mnot\u001b[0m \u001b[0mself\u001b[0m\u001b[0;34m.\u001b[0m\u001b[0mcheck\u001b[0m\u001b[0;34m(\u001b[0m\u001b[0murn\u001b[0m\u001b[0;34m.\u001b[0m\u001b[0mparent\u001b[0m\u001b[0;34m(\u001b[0m\u001b[0;34m)\u001b[0m\u001b[0;34m)\u001b[0m\u001b[0;34m:\u001b[0m\u001b[0;34m\u001b[0m\u001b[0m\n\u001b[0;32m--> 504\u001b[0;31m                 \u001b[0;32mraise\u001b[0m \u001b[0mRemoteParentNotFound\u001b[0m\u001b[0;34m(\u001b[0m\u001b[0murn\u001b[0m\u001b[0;34m.\u001b[0m\u001b[0mpath\u001b[0m\u001b[0;34m(\u001b[0m\u001b[0;34m)\u001b[0m\u001b[0;34m)\u001b[0m\u001b[0;34m\u001b[0m\u001b[0m\n\u001b[0m\u001b[1;32m    505\u001b[0m \u001b[0;34m\u001b[0m\u001b[0m\n\u001b[1;32m    506\u001b[0m             \u001b[0;32mwith\u001b[0m \u001b[0mopen\u001b[0m\u001b[0;34m(\u001b[0m\u001b[0mlocal_path\u001b[0m\u001b[0;34m,\u001b[0m \u001b[0;34m\"rb\"\u001b[0m\u001b[0;34m)\u001b[0m \u001b[0;32mas\u001b[0m \u001b[0mlocal_file\u001b[0m\u001b[0;34m:\u001b[0m\u001b[0;34m\u001b[0m\u001b[0m\n",
      "\u001b[0;31mRemoteParentNotFound\u001b[0m: Remote parent for: /helpers.py not found"
     ]
    }
   ],
   "source": [
    "client.upload_sync(remote_path=\"helpers.py\", local_path=\"helpers.py\")"
   ]
  },
  {
   "cell_type": "code",
   "execution_count": null,
   "metadata": {
    "collapsed": true
   },
   "outputs": [],
   "source": []
  }
 ],
 "metadata": {
  "anaconda-cloud": {},
  "kernelspec": {
   "display_name": "Python 2",
   "language": "python",
   "name": "python2"
  },
  "language_info": {
   "codemirror_mode": {
    "name": "ipython",
    "version": 2
   },
   "file_extension": ".py",
   "mimetype": "text/x-python",
   "name": "python",
   "nbconvert_exporter": "python",
   "pygments_lexer": "ipython2",
   "version": "2.7.13"
  },
  "toc": {
   "colors": {
    "hover_highlight": "#DAA520",
    "running_highlight": "#FF0000",
    "selected_highlight": "#FFD700"
   },
   "moveMenuLeft": true,
   "nav_menu": {
    "height": "233px",
    "width": "253px"
   },
   "navigate_menu": true,
   "number_sections": true,
   "sideBar": true,
   "threshold": 4,
   "toc_cell": false,
   "toc_section_display": "block",
   "toc_window_display": false
  }
 },
 "nbformat": 4,
 "nbformat_minor": 1
}
