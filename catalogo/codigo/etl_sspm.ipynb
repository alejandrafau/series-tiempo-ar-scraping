{
 "cells": [
  {
   "cell_type": "markdown",
   "metadata": {},
   "source": [
    "# ETL del catálogo de la SSPM"
   ]
  },
  {
   "cell_type": "markdown",
   "metadata": {},
   "source": [
    "## Generación del catálogo"
   ]
  },
  {
   "cell_type": "markdown",
   "metadata": {},
   "source": [
    "### Setup"
   ]
  },
  {
   "cell_type": "code",
   "execution_count": 3,
   "metadata": {
    "collapsed": true
   },
   "outputs": [],
   "source": [
    "import generate_catalog\n",
    "import json"
   ]
  },
  {
   "cell_type": "code",
   "execution_count": 4,
   "metadata": {
    "collapsed": true
   },
   "outputs": [],
   "source": [
    "#completar con lo que corresponda\n",
    "catalog_xlsx_path = \"/Users/abenassi/github/series-tiempo/catalogo/datos/catalogo-sspm.xlsx\"\n",
    "catalog_json_path = \"/Users/abenassi/github/series-tiempo/catalogo/datos/data.json\""
   ]
  },
  {
   "cell_type": "markdown",
   "metadata": {},
   "source": [
    "### Main steps"
   ]
  },
  {
   "cell_type": "code",
   "execution_count": 36,
   "metadata": {
    "collapsed": true
   },
   "outputs": [],
   "source": [
    "# leo catalogo en excel\n",
    "catalog = generate_catalog.read_xlsx_catalog(catalog_xlsx_path)\n",
    "\n",
    "# escribo catalogo en json\n",
    "generate_catalog.write_json_catalog(catalog, catalog_json_path)\n",
    "\n",
    "# genero reportes de validación y catálogo filtrado\n",
    "catalog_filtered = generate_catalog.validate_and_filter(catalog)\n",
    "\n",
    "# escribo catalogo en json\n",
    "generate_catalog.write_json_catalog(catalog_filtered, catalog_json_path)"
   ]
  },
  {
   "cell_type": "markdown",
   "metadata": {},
   "source": [
    "### Pruebas y chequeos"
   ]
  },
  {
   "cell_type": "code",
   "execution_count": 37,
   "metadata": {
    "collapsed": true
   },
   "outputs": [],
   "source": [
    "catalog_sspm = generate_catalog.readers.read_catalog(catalog_json_path)[0]"
   ]
  },
  {
   "cell_type": "code",
   "execution_count": 42,
   "metadata": {},
   "outputs": [
    {
     "data": {
      "text/plain": [
       "(34, 34, 34)"
      ]
     },
     "execution_count": 42,
     "metadata": {},
     "output_type": "execute_result"
    }
   ],
   "source": [
    "len(catalog_sspm[\"dataset\"]), len(catalog[\"dataset\"]), len(catalog_filtered[0][\"dataset\"])"
   ]
  },
  {
   "cell_type": "code",
   "execution_count": null,
   "metadata": {
    "collapsed": true
   },
   "outputs": [],
   "source": []
  },
  {
   "cell_type": "markdown",
   "metadata": {},
   "source": [
    "## Scrape datasets IED"
   ]
  },
  {
   "cell_type": "markdown",
   "metadata": {},
   "source": [
    "### Setup"
   ]
  },
  {
   "cell_type": "code",
   "execution_count": 5,
   "metadata": {
    "collapsed": true
   },
   "outputs": [],
   "source": [
    "from xlseries import XlSeries\n",
    "import pandas as pd\n",
    "import pydatajson.readers\n",
    "from copy import deepcopy\n",
    "from scrape_datasets import scrape_distribution"
   ]
  },
  {
   "cell_type": "code",
   "execution_count": 6,
   "metadata": {
    "collapsed": true
   },
   "outputs": [],
   "source": [
    "catalog_json_path = \"/Users/abenassi/github/series-tiempo/catalogo/datos/data.json\"\n",
    "etl_params_path = \"/Users/abenassi/github/series-tiempo/catalogo/datos/etl_params.csv\"\n",
    "ied_data_dir = \"/Users/abenassi/github/series-tiempo/catalogo/datos/ied/\""
   ]
  },
  {
   "cell_type": "markdown",
   "metadata": {},
   "source": [
    "### Main steps"
   ]
  },
  {
   "cell_type": "code",
   "execution_count": 7,
   "metadata": {
    "collapsed": true
   },
   "outputs": [],
   "source": [
    "etl_params = pd.read_csv(etl_params_path, dtype={\"distribution_identifier\": \"str\"})"
   ]
  },
  {
   "cell_type": "code",
   "execution_count": 8,
   "metadata": {
    "collapsed": true
   },
   "outputs": [],
   "source": [
    "catalog = pydatajson.readers.read_catalog(catalog_json_path)[0]"
   ]
  },
  {
   "cell_type": "code",
   "execution_count": 9,
   "metadata": {
    "collapsed": true
   },
   "outputs": [],
   "source": [
    "xl = XlSeries(\"/Users/abenassi/github/series-tiempo/catalogo/datos/ied/actividad_ied.xlsx\")"
   ]
  },
  {
   "cell_type": "code",
   "execution_count": 10,
   "metadata": {
    "collapsed": true
   },
   "outputs": [],
   "source": [
    "distribution_identifier = \"1.1\""
   ]
  },
  {
   "cell_type": "code",
   "execution_count": 11,
   "metadata": {
    "scrolled": false
   },
   "outputs": [],
   "source": [
    "df = scrape_distribution(xl, etl_params, catalog, distribution_identifier)"
   ]
  },
  {
   "cell_type": "code",
   "execution_count": 12,
   "metadata": {},
   "outputs": [
    {
     "data": {
      "text/html": [
       "<div>\n",
       "<table border=\"1\" class=\"dataframe\">\n",
       "  <thead>\n",
       "    <tr style=\"text-align: right;\">\n",
       "      <th></th>\n",
       "      <th>oferta_global_pbi</th>\n",
       "      <th>oferta_global_importacion</th>\n",
       "      <th>demanda_global_exportacion</th>\n",
       "      <th>demanda_global_ibif</th>\n",
       "      <th>demanda_global_consumo_priv</th>\n",
       "      <th>demanda_global_consumo_publico</th>\n",
       "    </tr>\n",
       "  </thead>\n",
       "  <tbody>\n",
       "    <tr>\n",
       "      <th>1993</th>\n",
       "      <td>236520.033577</td>\n",
       "      <td>22027.599994</td>\n",
       "      <td>16340.959752</td>\n",
       "      <td>45069.413480</td>\n",
       "      <td>31952.717001</td>\n",
       "      <td>163675.543497</td>\n",
       "    </tr>\n",
       "    <tr>\n",
       "      <th>1994</th>\n",
       "      <td>250307.886000</td>\n",
       "      <td>26682.259750</td>\n",
       "      <td>18840.403000</td>\n",
       "      <td>51231.425500</td>\n",
       "      <td>32094.804000</td>\n",
       "      <td>173608.052500</td>\n",
       "    </tr>\n",
       "    <tr>\n",
       "      <th>1995</th>\n",
       "      <td>243186.101750</td>\n",
       "      <td>24065.629250</td>\n",
       "      <td>23084.796250</td>\n",
       "      <td>44528.277250</td>\n",
       "      <td>32338.899250</td>\n",
       "      <td>166008.046500</td>\n",
       "    </tr>\n",
       "    <tr>\n",
       "      <th>1996</th>\n",
       "      <td>256626.244000</td>\n",
       "      <td>28284.114750</td>\n",
       "      <td>24850.043000</td>\n",
       "      <td>48483.861500</td>\n",
       "      <td>33040.554750</td>\n",
       "      <td>175195.864750</td>\n",
       "    </tr>\n",
       "    <tr>\n",
       "      <th>1997</th>\n",
       "      <td>277441.317250</td>\n",
       "      <td>35884.496000</td>\n",
       "      <td>27876.142250</td>\n",
       "      <td>57047.500000</td>\n",
       "      <td>34104.323250</td>\n",
       "      <td>190922.434500</td>\n",
       "    </tr>\n",
       "    <tr>\n",
       "      <th>1998</th>\n",
       "      <td>288123.306750</td>\n",
       "      <td>38903.791750</td>\n",
       "      <td>30837.534250</td>\n",
       "      <td>60780.669500</td>\n",
       "      <td>35249.164500</td>\n",
       "      <td>197557.137500</td>\n",
       "    </tr>\n",
       "    <tr>\n",
       "      <th>1999</th>\n",
       "      <td>278369.013750</td>\n",
       "      <td>34520.591250</td>\n",
       "      <td>30448.895750</td>\n",
       "      <td>53116.315500</td>\n",
       "      <td>36173.340750</td>\n",
       "      <td>193609.614000</td>\n",
       "    </tr>\n",
       "    <tr>\n",
       "      <th>2000</th>\n",
       "      <td>276172.686250</td>\n",
       "      <td>34466.198000</td>\n",
       "      <td>31271.744000</td>\n",
       "      <td>49502.143250</td>\n",
       "      <td>36382.081250</td>\n",
       "      <td>192332.463500</td>\n",
       "    </tr>\n",
       "    <tr>\n",
       "      <th>2001</th>\n",
       "      <td>263996.674500</td>\n",
       "      <td>29659.341500</td>\n",
       "      <td>32128.899750</td>\n",
       "      <td>41749.587000</td>\n",
       "      <td>35629.189250</td>\n",
       "      <td>181289.983750</td>\n",
       "    </tr>\n",
       "    <tr>\n",
       "      <th>2002</th>\n",
       "      <td>235235.597500</td>\n",
       "      <td>14812.007250</td>\n",
       "      <td>33122.632000</td>\n",
       "      <td>26532.874000</td>\n",
       "      <td>33819.889500</td>\n",
       "      <td>155267.267500</td>\n",
       "    </tr>\n",
       "    <tr>\n",
       "      <th>2003</th>\n",
       "      <td>256301.800750</td>\n",
       "      <td>20376.193000</td>\n",
       "      <td>35108.456000</td>\n",
       "      <td>36659.459000</td>\n",
       "      <td>34313.937750</td>\n",
       "      <td>167951.003250</td>\n",
       "    </tr>\n",
       "    <tr>\n",
       "      <th>2004</th>\n",
       "      <td>279141.288000</td>\n",
       "      <td>28551.484250</td>\n",
       "      <td>37957.211500</td>\n",
       "      <td>49279.552750</td>\n",
       "      <td>35246.590750</td>\n",
       "      <td>183905.706750</td>\n",
       "    </tr>\n",
       "    <tr>\n",
       "      <th>2005</th>\n",
       "      <td>304763.529750</td>\n",
       "      <td>34301.406000</td>\n",
       "      <td>43083.112500</td>\n",
       "      <td>60458.442750</td>\n",
       "      <td>37402.563250</td>\n",
       "      <td>200316.777500</td>\n",
       "    </tr>\n",
       "    <tr>\n",
       "      <th>2006</th>\n",
       "      <td>330564.970250</td>\n",
       "      <td>39575.418500</td>\n",
       "      <td>46241.699750</td>\n",
       "      <td>71438.171500</td>\n",
       "      <td>39365.064750</td>\n",
       "      <td>215881.604250</td>\n",
       "    </tr>\n",
       "    <tr>\n",
       "      <th>2007</th>\n",
       "      <td>359169.902750</td>\n",
       "      <td>47685.416500</td>\n",
       "      <td>50446.204000</td>\n",
       "      <td>81187.477500</td>\n",
       "      <td>42341.265750</td>\n",
       "      <td>235240.645000</td>\n",
       "    </tr>\n",
       "    <tr>\n",
       "      <th>2008</th>\n",
       "      <td>383444.183250</td>\n",
       "      <td>54406.184250</td>\n",
       "      <td>51029.939000</td>\n",
       "      <td>88553.153000</td>\n",
       "      <td>45260.783500</td>\n",
       "      <td>250628.787500</td>\n",
       "    </tr>\n",
       "    <tr>\n",
       "      <th>2009</th>\n",
       "      <td>386704.384500</td>\n",
       "      <td>44055.196250</td>\n",
       "      <td>47761.158000</td>\n",
       "      <td>79527.281000</td>\n",
       "      <td>48535.014250</td>\n",
       "      <td>251762.880250</td>\n",
       "    </tr>\n",
       "    <tr>\n",
       "      <th>2010</th>\n",
       "      <td>422136.130250</td>\n",
       "      <td>59023.550000</td>\n",
       "      <td>54734.016000</td>\n",
       "      <td>96409.314000</td>\n",
       "      <td>53097.343000</td>\n",
       "      <td>274395.576250</td>\n",
       "    </tr>\n",
       "    <tr>\n",
       "      <th>2011</th>\n",
       "      <td>459571.104500</td>\n",
       "      <td>69527.173500</td>\n",
       "      <td>57064.309750</td>\n",
       "      <td>112365.921750</td>\n",
       "      <td>58881.473000</td>\n",
       "      <td>303623.485000</td>\n",
       "    </tr>\n",
       "    <tr>\n",
       "      <th>2012</th>\n",
       "      <td>468301.014942</td>\n",
       "      <td>65655.983349</td>\n",
       "      <td>53141.113279</td>\n",
       "      <td>106706.819487</td>\n",
       "      <td>62643.770104</td>\n",
       "      <td>316988.170499</td>\n",
       "    </tr>\n",
       "  </tbody>\n",
       "</table>\n",
       "</div>"
      ],
      "text/plain": [
       "      oferta_global_pbi  oferta_global_importacion  \\\n",
       "1993      236520.033577               22027.599994   \n",
       "1994      250307.886000               26682.259750   \n",
       "1995      243186.101750               24065.629250   \n",
       "1996      256626.244000               28284.114750   \n",
       "1997      277441.317250               35884.496000   \n",
       "1998      288123.306750               38903.791750   \n",
       "1999      278369.013750               34520.591250   \n",
       "2000      276172.686250               34466.198000   \n",
       "2001      263996.674500               29659.341500   \n",
       "2002      235235.597500               14812.007250   \n",
       "2003      256301.800750               20376.193000   \n",
       "2004      279141.288000               28551.484250   \n",
       "2005      304763.529750               34301.406000   \n",
       "2006      330564.970250               39575.418500   \n",
       "2007      359169.902750               47685.416500   \n",
       "2008      383444.183250               54406.184250   \n",
       "2009      386704.384500               44055.196250   \n",
       "2010      422136.130250               59023.550000   \n",
       "2011      459571.104500               69527.173500   \n",
       "2012      468301.014942               65655.983349   \n",
       "\n",
       "      demanda_global_exportacion  demanda_global_ibif  \\\n",
       "1993                16340.959752         45069.413480   \n",
       "1994                18840.403000         51231.425500   \n",
       "1995                23084.796250         44528.277250   \n",
       "1996                24850.043000         48483.861500   \n",
       "1997                27876.142250         57047.500000   \n",
       "1998                30837.534250         60780.669500   \n",
       "1999                30448.895750         53116.315500   \n",
       "2000                31271.744000         49502.143250   \n",
       "2001                32128.899750         41749.587000   \n",
       "2002                33122.632000         26532.874000   \n",
       "2003                35108.456000         36659.459000   \n",
       "2004                37957.211500         49279.552750   \n",
       "2005                43083.112500         60458.442750   \n",
       "2006                46241.699750         71438.171500   \n",
       "2007                50446.204000         81187.477500   \n",
       "2008                51029.939000         88553.153000   \n",
       "2009                47761.158000         79527.281000   \n",
       "2010                54734.016000         96409.314000   \n",
       "2011                57064.309750        112365.921750   \n",
       "2012                53141.113279        106706.819487   \n",
       "\n",
       "      demanda_global_consumo_priv  demanda_global_consumo_publico  \n",
       "1993                 31952.717001                   163675.543497  \n",
       "1994                 32094.804000                   173608.052500  \n",
       "1995                 32338.899250                   166008.046500  \n",
       "1996                 33040.554750                   175195.864750  \n",
       "1997                 34104.323250                   190922.434500  \n",
       "1998                 35249.164500                   197557.137500  \n",
       "1999                 36173.340750                   193609.614000  \n",
       "2000                 36382.081250                   192332.463500  \n",
       "2001                 35629.189250                   181289.983750  \n",
       "2002                 33819.889500                   155267.267500  \n",
       "2003                 34313.937750                   167951.003250  \n",
       "2004                 35246.590750                   183905.706750  \n",
       "2005                 37402.563250                   200316.777500  \n",
       "2006                 39365.064750                   215881.604250  \n",
       "2007                 42341.265750                   235240.645000  \n",
       "2008                 45260.783500                   250628.787500  \n",
       "2009                 48535.014250                   251762.880250  \n",
       "2010                 53097.343000                   274395.576250  \n",
       "2011                 58881.473000                   303623.485000  \n",
       "2012                 62643.770104                   316988.170499  "
      ]
     },
     "execution_count": 12,
     "metadata": {},
     "output_type": "execute_result"
    }
   ],
   "source": [
    "df"
   ]
  },
  {
   "cell_type": "code",
   "execution_count": null,
   "metadata": {
    "collapsed": true
   },
   "outputs": [],
   "source": []
  }
 ],
 "metadata": {
  "anaconda-cloud": {},
  "kernelspec": {
   "display_name": "Python 2",
   "language": "python",
   "name": "python2"
  },
  "language_info": {
   "codemirror_mode": {
    "name": "ipython",
    "version": 2
   },
   "file_extension": ".py",
   "mimetype": "text/x-python",
   "name": "python",
   "nbconvert_exporter": "python",
   "pygments_lexer": "ipython2",
   "version": "2.7.13"
  },
  "toc": {
   "colors": {
    "hover_highlight": "#DAA520",
    "running_highlight": "#FF0000",
    "selected_highlight": "#FFD700"
   },
   "moveMenuLeft": true,
   "nav_menu": {
    "height": "233px",
    "width": "253px"
   },
   "navigate_menu": true,
   "number_sections": true,
   "sideBar": true,
   "threshold": 4,
   "toc_cell": false,
   "toc_section_display": "block",
   "toc_window_display": false
  }
 },
 "nbformat": 4,
 "nbformat_minor": 1
}
