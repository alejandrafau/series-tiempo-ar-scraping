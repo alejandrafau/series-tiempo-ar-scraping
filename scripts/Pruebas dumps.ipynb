{
 "cells": [
  {
   "cell_type": "code",
   "execution_count": 1,
   "metadata": {
    "collapsed": true
   },
   "outputs": [],
   "source": [
    "from __future__ import print_function\n",
    "from unicodecsv import DictReader\n",
    "import pandas as pd\n",
    "from paths import DATASETS_DIR, DUMPS_DIR\n",
    "from pprint import pprint\n",
    "from data import generate_dump\n",
    "import os\n",
    "from collections import OrderedDict\n",
    "# import mysql.connector\n",
    "from sqlalchemy import create_engine\n",
    "# import pyodbc\n",
    "from helpers import freq_iso_to_pandas\n",
    "from pydatajson.helpers import parse_repeating_time_interval_to_days\n",
    "from generate_dumps import save_to_dta\n",
    "import numpy as np"
   ]
  },
  {
   "cell_type": "code",
   "execution_count": 2,
   "metadata": {
    "collapsed": true
   },
   "outputs": [],
   "source": [
    "dump_path = os.path.join(DUMPS_DIR, \"series-tiempo.{}\")"
   ]
  },
  {
   "cell_type": "markdown",
   "metadata": {},
   "source": [
    "## Genero dataframe con el dump"
   ]
  },
  {
   "cell_type": "code",
   "execution_count": 3,
   "metadata": {},
   "outputs": [
    {
     "name": "stdout",
     "output_type": "stream",
     "text": [
      "0 datasets para agregar del catalogo modernizacion\n",
      "239 datasets para agregar del catalogo sspm\n",
      "Distribucion 34.2 no tiene `field`\n",
      "CPU times: user 1min 36s, sys: 4.08 s, total: 1min 40s\n",
      "Wall time: 1min 40s\n"
     ]
    }
   ],
   "source": [
    "%time df = generate_dump()"
   ]
  },
  {
   "cell_type": "code",
   "execution_count": 36,
   "metadata": {
    "collapsed": true
   },
   "outputs": [],
   "source": [
    "def remove_leading_nans(df, serie_id):\n",
    "    df_serie = df[df.serie_id == serie_id]\n",
    "    first_positive = df_serie[df_serie.valor.notnull()].index[0]\n",
    "    df[df.serie_id == serie_id] = df_serie.loc[first_positive:]"
   ]
  },
  {
   "cell_type": "code",
   "execution_count": 37,
   "metadata": {},
   "outputs": [
    {
     "ename": "IndexError",
     "evalue": "index 0 is out of bounds for axis 0 with size 0",
     "output_type": "error",
     "traceback": [
      "\u001b[0;31m---------------------------------------------------------------------------\u001b[0m",
      "\u001b[0;31mIndexError\u001b[0m                                Traceback (most recent call last)",
      "\u001b[0;32m<ipython-input-37-8625fce1079e>\u001b[0m in \u001b[0;36m<module>\u001b[0;34m()\u001b[0m\n\u001b[0;32m----> 1\u001b[0;31m \u001b[0mget_ipython\u001b[0m\u001b[0;34m(\u001b[0m\u001b[0;34m)\u001b[0m\u001b[0;34m.\u001b[0m\u001b[0mrun_cell_magic\u001b[0m\u001b[0;34m(\u001b[0m\u001b[0;34mu'time'\u001b[0m\u001b[0;34m,\u001b[0m \u001b[0;34mu''\u001b[0m\u001b[0;34m,\u001b[0m \u001b[0;34mu'for serie_id in df_sorted.serie_id.unique():\\n    remove_leading_nans(df_sorted, serie_id)'\u001b[0m\u001b[0;34m)\u001b[0m\u001b[0;34m\u001b[0m\u001b[0m\n\u001b[0m",
      "\u001b[0;32m/Users/abenassi/anaconda/envs/series-tiempo/lib/python2.7/site-packages/IPython/core/interactiveshell.pyc\u001b[0m in \u001b[0;36mrun_cell_magic\u001b[0;34m(self, magic_name, line, cell)\u001b[0m\n\u001b[1;32m   2113\u001b[0m             \u001b[0mmagic_arg_s\u001b[0m \u001b[0;34m=\u001b[0m \u001b[0mself\u001b[0m\u001b[0;34m.\u001b[0m\u001b[0mvar_expand\u001b[0m\u001b[0;34m(\u001b[0m\u001b[0mline\u001b[0m\u001b[0;34m,\u001b[0m \u001b[0mstack_depth\u001b[0m\u001b[0;34m)\u001b[0m\u001b[0;34m\u001b[0m\u001b[0m\n\u001b[1;32m   2114\u001b[0m             \u001b[0;32mwith\u001b[0m \u001b[0mself\u001b[0m\u001b[0;34m.\u001b[0m\u001b[0mbuiltin_trap\u001b[0m\u001b[0;34m:\u001b[0m\u001b[0;34m\u001b[0m\u001b[0m\n\u001b[0;32m-> 2115\u001b[0;31m                 \u001b[0mresult\u001b[0m \u001b[0;34m=\u001b[0m \u001b[0mfn\u001b[0m\u001b[0;34m(\u001b[0m\u001b[0mmagic_arg_s\u001b[0m\u001b[0;34m,\u001b[0m \u001b[0mcell\u001b[0m\u001b[0;34m)\u001b[0m\u001b[0;34m\u001b[0m\u001b[0m\n\u001b[0m\u001b[1;32m   2116\u001b[0m             \u001b[0;32mreturn\u001b[0m \u001b[0mresult\u001b[0m\u001b[0;34m\u001b[0m\u001b[0m\n\u001b[1;32m   2117\u001b[0m \u001b[0;34m\u001b[0m\u001b[0m\n",
      "\u001b[0;32m<decorator-gen-59>\u001b[0m in \u001b[0;36mtime\u001b[0;34m(self, line, cell, local_ns)\u001b[0m\n",
      "\u001b[0;32m/Users/abenassi/anaconda/envs/series-tiempo/lib/python2.7/site-packages/IPython/core/magic.pyc\u001b[0m in \u001b[0;36m<lambda>\u001b[0;34m(f, *a, **k)\u001b[0m\n\u001b[1;32m    186\u001b[0m     \u001b[0;31m# but it's overkill for just that one bit of state.\u001b[0m\u001b[0;34m\u001b[0m\u001b[0;34m\u001b[0m\u001b[0m\n\u001b[1;32m    187\u001b[0m     \u001b[0;32mdef\u001b[0m \u001b[0mmagic_deco\u001b[0m\u001b[0;34m(\u001b[0m\u001b[0marg\u001b[0m\u001b[0;34m)\u001b[0m\u001b[0;34m:\u001b[0m\u001b[0;34m\u001b[0m\u001b[0m\n\u001b[0;32m--> 188\u001b[0;31m         \u001b[0mcall\u001b[0m \u001b[0;34m=\u001b[0m \u001b[0;32mlambda\u001b[0m \u001b[0mf\u001b[0m\u001b[0;34m,\u001b[0m \u001b[0;34m*\u001b[0m\u001b[0ma\u001b[0m\u001b[0;34m,\u001b[0m \u001b[0;34m**\u001b[0m\u001b[0mk\u001b[0m\u001b[0;34m:\u001b[0m \u001b[0mf\u001b[0m\u001b[0;34m(\u001b[0m\u001b[0;34m*\u001b[0m\u001b[0ma\u001b[0m\u001b[0;34m,\u001b[0m \u001b[0;34m**\u001b[0m\u001b[0mk\u001b[0m\u001b[0;34m)\u001b[0m\u001b[0;34m\u001b[0m\u001b[0m\n\u001b[0m\u001b[1;32m    189\u001b[0m \u001b[0;34m\u001b[0m\u001b[0m\n\u001b[1;32m    190\u001b[0m         \u001b[0;32mif\u001b[0m \u001b[0mcallable\u001b[0m\u001b[0;34m(\u001b[0m\u001b[0marg\u001b[0m\u001b[0;34m)\u001b[0m\u001b[0;34m:\u001b[0m\u001b[0;34m\u001b[0m\u001b[0m\n",
      "\u001b[0;32m/Users/abenassi/anaconda/envs/series-tiempo/lib/python2.7/site-packages/IPython/core/magics/execution.pyc\u001b[0m in \u001b[0;36mtime\u001b[0;34m(self, line, cell, local_ns)\u001b[0m\n\u001b[1;32m   1183\u001b[0m         \u001b[0;32melse\u001b[0m\u001b[0;34m:\u001b[0m\u001b[0;34m\u001b[0m\u001b[0m\n\u001b[1;32m   1184\u001b[0m             \u001b[0mst\u001b[0m \u001b[0;34m=\u001b[0m \u001b[0mclock2\u001b[0m\u001b[0;34m(\u001b[0m\u001b[0;34m)\u001b[0m\u001b[0;34m\u001b[0m\u001b[0m\n\u001b[0;32m-> 1185\u001b[0;31m             \u001b[0;32mexec\u001b[0m\u001b[0;34m(\u001b[0m\u001b[0mcode\u001b[0m\u001b[0;34m,\u001b[0m \u001b[0mglob\u001b[0m\u001b[0;34m,\u001b[0m \u001b[0mlocal_ns\u001b[0m\u001b[0;34m)\u001b[0m\u001b[0;34m\u001b[0m\u001b[0m\n\u001b[0m\u001b[1;32m   1186\u001b[0m             \u001b[0mend\u001b[0m \u001b[0;34m=\u001b[0m \u001b[0mclock2\u001b[0m\u001b[0;34m(\u001b[0m\u001b[0;34m)\u001b[0m\u001b[0;34m\u001b[0m\u001b[0m\n\u001b[1;32m   1187\u001b[0m             \u001b[0mout\u001b[0m \u001b[0;34m=\u001b[0m \u001b[0mNone\u001b[0m\u001b[0;34m\u001b[0m\u001b[0m\n",
      "\u001b[0;32m<timed exec>\u001b[0m in \u001b[0;36m<module>\u001b[0;34m()\u001b[0m\n",
      "\u001b[0;32m<ipython-input-36-d8c167d9736d>\u001b[0m in \u001b[0;36mremove_leading_nans\u001b[0;34m(df, serie_id)\u001b[0m\n\u001b[1;32m      1\u001b[0m \u001b[0;32mdef\u001b[0m \u001b[0mremove_leading_nans\u001b[0m\u001b[0;34m(\u001b[0m\u001b[0mdf\u001b[0m\u001b[0;34m,\u001b[0m \u001b[0mserie_id\u001b[0m\u001b[0;34m)\u001b[0m\u001b[0;34m:\u001b[0m\u001b[0;34m\u001b[0m\u001b[0m\n\u001b[1;32m      2\u001b[0m     \u001b[0mdf_serie\u001b[0m \u001b[0;34m=\u001b[0m \u001b[0mdf\u001b[0m\u001b[0;34m[\u001b[0m\u001b[0mdf\u001b[0m\u001b[0;34m.\u001b[0m\u001b[0mserie_id\u001b[0m \u001b[0;34m==\u001b[0m \u001b[0mserie_id\u001b[0m\u001b[0;34m]\u001b[0m\u001b[0;34m\u001b[0m\u001b[0m\n\u001b[0;32m----> 3\u001b[0;31m     \u001b[0mfirst_positive\u001b[0m \u001b[0;34m=\u001b[0m \u001b[0mdf_serie\u001b[0m\u001b[0;34m[\u001b[0m\u001b[0mdf_serie\u001b[0m\u001b[0;34m.\u001b[0m\u001b[0mvalor\u001b[0m\u001b[0;34m.\u001b[0m\u001b[0mnotnull\u001b[0m\u001b[0;34m(\u001b[0m\u001b[0;34m)\u001b[0m\u001b[0;34m]\u001b[0m\u001b[0;34m.\u001b[0m\u001b[0mindex\u001b[0m\u001b[0;34m[\u001b[0m\u001b[0;36m0\u001b[0m\u001b[0;34m]\u001b[0m\u001b[0;34m\u001b[0m\u001b[0m\n\u001b[0m\u001b[1;32m      4\u001b[0m     \u001b[0mdf\u001b[0m\u001b[0;34m[\u001b[0m\u001b[0mdf\u001b[0m\u001b[0;34m.\u001b[0m\u001b[0mserie_id\u001b[0m \u001b[0;34m==\u001b[0m \u001b[0mserie_id\u001b[0m\u001b[0;34m]\u001b[0m \u001b[0;34m=\u001b[0m \u001b[0mdf_serie\u001b[0m\u001b[0;34m.\u001b[0m\u001b[0mloc\u001b[0m\u001b[0;34m[\u001b[0m\u001b[0mfirst_positive\u001b[0m\u001b[0;34m:\u001b[0m\u001b[0;34m]\u001b[0m\u001b[0;34m\u001b[0m\u001b[0m\n",
      "\u001b[0;32m/Users/abenassi/anaconda/envs/series-tiempo/lib/python2.7/site-packages/pandas/core/indexes/base.pyc\u001b[0m in \u001b[0;36m__getitem__\u001b[0;34m(self, key)\u001b[0m\n\u001b[1;32m   1687\u001b[0m \u001b[0;34m\u001b[0m\u001b[0m\n\u001b[1;32m   1688\u001b[0m         \u001b[0;32mif\u001b[0m \u001b[0mis_scalar\u001b[0m\u001b[0;34m(\u001b[0m\u001b[0mkey\u001b[0m\u001b[0;34m)\u001b[0m\u001b[0;34m:\u001b[0m\u001b[0;34m\u001b[0m\u001b[0m\n\u001b[0;32m-> 1689\u001b[0;31m             \u001b[0;32mreturn\u001b[0m \u001b[0mgetitem\u001b[0m\u001b[0;34m(\u001b[0m\u001b[0mkey\u001b[0m\u001b[0;34m)\u001b[0m\u001b[0;34m\u001b[0m\u001b[0m\n\u001b[0m\u001b[1;32m   1690\u001b[0m \u001b[0;34m\u001b[0m\u001b[0m\n\u001b[1;32m   1691\u001b[0m         \u001b[0;32mif\u001b[0m \u001b[0misinstance\u001b[0m\u001b[0;34m(\u001b[0m\u001b[0mkey\u001b[0m\u001b[0;34m,\u001b[0m \u001b[0mslice\u001b[0m\u001b[0;34m)\u001b[0m\u001b[0;34m:\u001b[0m\u001b[0;34m\u001b[0m\u001b[0m\n",
      "\u001b[0;31mIndexError\u001b[0m: index 0 is out of bounds for axis 0 with size 0"
     ]
    }
   ],
   "source": [
    "%%time\n",
    "for serie_id in df_sorted.serie_id.unique():\n",
    "    remove_leading_nans(df_sorted, serie_id)"
   ]
  },
  {
   "cell_type": "code",
   "execution_count": null,
   "metadata": {
    "collapsed": true
   },
   "outputs": [],
   "source": [
    "len(df_sorted)"
   ]
  },
  {
   "cell_type": "code",
   "execution_count": 29,
   "metadata": {
    "collapsed": true
   },
   "outputs": [],
   "source": [
    "df[df.serie_id == \"149.1_TL_INDIIOS_OCTU_0_21\"] = df[df.serie_id == \"149.1_TL_INDIIOS_OCTU_0_21\"].loc[first:]"
   ]
  },
  {
   "cell_type": "code",
   "execution_count": 23,
   "metadata": {},
   "outputs": [
    {
     "name": "stderr",
     "output_type": "stream",
     "text": [
      "/Users/abenassi/anaconda/envs/series-tiempo/lib/python2.7/site-packages/ipykernel_launcher.py:1: UserWarning: Boolean Series key will be reindexed to match DataFrame index.\n",
      "  \"\"\"Entry point for launching an IPython kernel.\n"
     ]
    }
   ],
   "source": [
    "first = df[df.serie_id == \"149.1_TL_INDIIOS_OCTU_0_21\"][df.valor.notnull()].index[0]"
   ]
  },
  {
   "cell_type": "markdown",
   "metadata": {},
   "source": [
    "## Genero resumen de series"
   ]
  },
  {
   "cell_type": "code",
   "execution_count": 32,
   "metadata": {
    "collapsed": true
   },
   "outputs": [],
   "source": [
    "drop_cols = [\"indice_tiempo\", \"valor\"]\n",
    "index_cols = [\"catalog_id\", \"dataset_id\", \"distribucion_id\", \"serie_id\"]\n",
    "series_cols = df.columns.drop(drop_cols)\n",
    "series_group = df.groupby(index_cols)"
   ]
  },
  {
   "cell_type": "code",
   "execution_count": 33,
   "metadata": {
    "collapsed": true
   },
   "outputs": [],
   "source": [
    "df_series = df.drop(drop_cols, axis=1).drop_duplicates().set_index(index_cols)"
   ]
  },
  {
   "cell_type": "code",
   "execution_count": 43,
   "metadata": {
    "collapsed": true
   },
   "outputs": [],
   "source": [
    "def _is_series_updated(row):\n",
    "    index_freq = row[\"indice_tiempo_frecuencia\"]\n",
    "    period_days = parse_repeating_time_interval_to_days(index_freq)\n",
    "    periods_tolerance = {\n",
    "        \"R/P1Y\": 2,\n",
    "        \"R/P6M\": 2,\n",
    "        \"R/P3M\": 2,\n",
    "        \"R/P1M\": 3,\n",
    "        \"R/P1D\": 14\n",
    "    }\n",
    "    days_tolerance = periods_tolerance.get(index_freq, 2) * period_days\n",
    "    return row[\"serie_dias_no_cubiertos\"] < days_tolerance    "
   ]
  },
  {
   "cell_type": "code",
   "execution_count": 44,
   "metadata": {
    "collapsed": true
   },
   "outputs": [],
   "source": [
    "def _get_serie_valor_anterior_anio(series_dataframe):\n",
    "    series = pd.Series(list(series_dataframe.valor), list(\n",
    "        series_dataframe.indice_tiempo)).sort_index()\n",
    "    return series.get(series.index[-1] - pd.DateOffset(years=1))"
   ]
  },
  {
   "cell_type": "code",
   "execution_count": 45,
   "metadata": {
    "collapsed": true
   },
   "outputs": [],
   "source": [
    "# CALCULA INDICADORES resumen sobre las series\n",
    "# rango temporal de la serie\n",
    "df_series[\"serie_indice_inicio\"] = series_group[\"indice_tiempo\"].min()\n",
    "df_series[\"serie_indice_final\"] = series_group[\"indice_tiempo\"].max()\n",
    "df_series[\"serie_valores_cant\"] = series_group[\"indice_tiempo\"].count()\n",
    "\n",
    "# estado de actualización de los datos\n",
    "# calcula días que pasaron por encima de período cubierto por datos\n",
    "df_series[\"serie_dias_no_cubiertos\"] = df_series.apply(\n",
    "    lambda x: (pd.datetime.now() - pd.to_datetime(x[\n",
    "        \"serie_indice_final\"]).to_period(\n",
    "        freq_iso_to_pandas(x[\n",
    "            \"indice_tiempo_frecuencia\"],\n",
    "            how=\"end\")).to_timestamp(how=\"end\")).days,\n",
    "    axis=1)\n",
    "# si pasaron 2 períodos no cubiertos por datos, serie está desactualizada\n",
    "df_series[\"serie_actualizada\"] = df_series.apply(\n",
    "    _is_series_updated, axis=1)\n",
    "\n",
    "# valores representativos nominales\n",
    "df_series[\"serie_valor_ultimo\"] = series_group.apply(\n",
    "    lambda x: x.loc[x.indice_tiempo.argmax(), \"valor\"])\n",
    "df_series[\"serie_valor_anterior\"] = series_group.apply(\n",
    "    lambda x: pd.Series(list(x.valor), list(\n",
    "        x.indice_tiempo)).sort_index()[-2]\n",
    ")\n",
    "df_series[\"serie_valor_anterior_anio\"] = series_group.apply(\n",
    "    _get_serie_valor_anterior_anio)\n",
    "\n",
    "# valores representativos en variación porcentual\n",
    "df_series[\"serie_var_pct_anterior\"] = df_series[\n",
    "    \"serie_valor_ultimo\"] / df_series[\"serie_valor_anterior\"] - 1\n",
    "df_series[\"serie_var_pct_anterior_anio\"] = df_series[\n",
    "    \"serie_valor_ultimo\"] / df_series[\"serie_valor_anterior_anio\"] - 1"
   ]
  },
  {
   "cell_type": "code",
   "execution_count": 56,
   "metadata": {
    "collapsed": true
   },
   "outputs": [],
   "source": [
    "group_fuentes = df_series.groupby(\"dataset_fuente\")"
   ]
  },
  {
   "cell_type": "code",
   "execution_count": 48,
   "metadata": {
    "collapsed": true
   },
   "outputs": [],
   "source": [
    "df_fuentes_valores = group_fuentes.sum()[[\"serie_valores_cant\"]].rename(columns={\"serie_valores_cant\": \"valores_cant\"})"
   ]
  },
  {
   "cell_type": "code",
   "execution_count": 49,
   "metadata": {
    "collapsed": true
   },
   "outputs": [],
   "source": [
    "df_fuentes_series = group_fuentes.count()[[\"serie_titulo\"]].rename(columns={\"serie_titulo\": \"series_cant\"})"
   ]
  },
  {
   "cell_type": "code",
   "execution_count": 63,
   "metadata": {},
   "outputs": [
    {
     "data": {
      "text/html": [
       "<div>\n",
       "<style>\n",
       "    .dataframe thead tr:only-child th {\n",
       "        text-align: right;\n",
       "    }\n",
       "\n",
       "    .dataframe thead th {\n",
       "        text-align: left;\n",
       "    }\n",
       "\n",
       "    .dataframe tbody tr th {\n",
       "        vertical-align: top;\n",
       "    }\n",
       "</style>\n",
       "<table border=\"1\" class=\"dataframe\">\n",
       "  <thead>\n",
       "    <tr style=\"text-align: right;\">\n",
       "      <th></th>\n",
       "      <th>fecha_ultimo_valor</th>\n",
       "    </tr>\n",
       "    <tr>\n",
       "      <th>dataset_fuente</th>\n",
       "      <th></th>\n",
       "    </tr>\n",
       "  </thead>\n",
       "  <tbody>\n",
       "    <tr>\n",
       "      <th>Administración Nacional de la Seguridad Social</th>\n",
       "      <td>2017-08-01</td>\n",
       "    </tr>\n",
       "    <tr>\n",
       "      <th>Banco Central de la República Argentina</th>\n",
       "      <td>2017-08-31</td>\n",
       "    </tr>\n",
       "    <tr>\n",
       "      <th>Bancos Centrales</th>\n",
       "      <td>2017-09-14</td>\n",
       "    </tr>\n",
       "    <tr>\n",
       "      <th>Bloomberg</th>\n",
       "      <td>2017-09-14</td>\n",
       "    </tr>\n",
       "    <tr>\n",
       "      <th>Cámara Argentina de Fondos Comunes de Inversión (CAFCI)</th>\n",
       "      <td>2017-07-01</td>\n",
       "    </tr>\n",
       "    <tr>\n",
       "      <th>Fondo Monetario Internacional</th>\n",
       "      <td>2017-06-01</td>\n",
       "    </tr>\n",
       "    <tr>\n",
       "      <th>Instituto Nacional de Estadística y Censos</th>\n",
       "      <td>2017-08-01</td>\n",
       "    </tr>\n",
       "    <tr>\n",
       "      <th>Instituto Nacional de Estadísticas y Censos</th>\n",
       "      <td>2017-08-01</td>\n",
       "    </tr>\n",
       "    <tr>\n",
       "      <th>Ministerio de Agroindustria</th>\n",
       "      <td>2017-08-01</td>\n",
       "    </tr>\n",
       "    <tr>\n",
       "      <th>Ministerio de Hacienda</th>\n",
       "      <td>2017-08-01</td>\n",
       "    </tr>\n",
       "    <tr>\n",
       "      <th>Ministerio de Trabajo, Empleo y Seguridad Social</th>\n",
       "      <td>2018-07-01</td>\n",
       "    </tr>\n",
       "    <tr>\n",
       "      <th>Secretaría de Asuntos Económicos</th>\n",
       "      <td>1962-01-01</td>\n",
       "    </tr>\n",
       "  </tbody>\n",
       "</table>\n",
       "</div>"
      ],
      "text/plain": [
       "                                                   fecha_ultimo_valor\n",
       "dataset_fuente                                                       \n",
       "Administración Nacional de la Seguridad Social             2017-08-01\n",
       "Banco Central de la República Argentina                    2017-08-31\n",
       "Bancos Centrales                                           2017-09-14\n",
       "Bloomberg                                                  2017-09-14\n",
       "Cámara Argentina de Fondos Comunes de Inversión...         2017-07-01\n",
       "Fondo Monetario Internacional                              2017-06-01\n",
       "Instituto Nacional de Estadística y Censos                 2017-08-01\n",
       "Instituto Nacional de Estadísticas y Censos                2017-08-01\n",
       "Ministerio de Agroindustria                                2017-08-01\n",
       "Ministerio de Hacienda                                     2017-08-01\n",
       "Ministerio de Trabajo, Empleo y Seguridad Social           2018-07-01\n",
       "Secretaría de Asuntos Económicos                           1962-01-01"
      ]
     },
     "execution_count": 63,
     "metadata": {},
     "output_type": "execute_result"
    }
   ],
   "source": [
    "group_fuentes.max()[[\"serie_indice_final\"]].rename(columns={\"serie_indice_final\": \"fecha_ultimo_valor\"})"
   ]
  },
  {
   "cell_type": "code",
   "execution_count": 64,
   "metadata": {},
   "outputs": [
    {
     "data": {
      "text/html": [
       "<div>\n",
       "<style>\n",
       "    .dataframe thead tr:only-child th {\n",
       "        text-align: right;\n",
       "    }\n",
       "\n",
       "    .dataframe thead th {\n",
       "        text-align: left;\n",
       "    }\n",
       "\n",
       "    .dataframe tbody tr th {\n",
       "        vertical-align: top;\n",
       "    }\n",
       "</style>\n",
       "<table border=\"1\" class=\"dataframe\">\n",
       "  <thead>\n",
       "    <tr style=\"text-align: right;\">\n",
       "      <th></th>\n",
       "      <th>fecha_primer_valor</th>\n",
       "    </tr>\n",
       "    <tr>\n",
       "      <th>dataset_fuente</th>\n",
       "      <th></th>\n",
       "    </tr>\n",
       "  </thead>\n",
       "  <tbody>\n",
       "    <tr>\n",
       "      <th>Administración Nacional de la Seguridad Social</th>\n",
       "      <td>1971-01-01</td>\n",
       "    </tr>\n",
       "    <tr>\n",
       "      <th>Banco Central de la República Argentina</th>\n",
       "      <td>1950-01-01</td>\n",
       "    </tr>\n",
       "    <tr>\n",
       "      <th>Bancos Centrales</th>\n",
       "      <td>2001-01-01</td>\n",
       "    </tr>\n",
       "    <tr>\n",
       "      <th>Bloomberg</th>\n",
       "      <td>1990-12-01</td>\n",
       "    </tr>\n",
       "    <tr>\n",
       "      <th>Cámara Argentina de Fondos Comunes de Inversión (CAFCI)</th>\n",
       "      <td>2011-01-01</td>\n",
       "    </tr>\n",
       "    <tr>\n",
       "      <th>Fondo Monetario Internacional</th>\n",
       "      <td>1980-01-01</td>\n",
       "    </tr>\n",
       "    <tr>\n",
       "      <th>Instituto Nacional de Estadística y Censos</th>\n",
       "      <td>1980-01-01</td>\n",
       "    </tr>\n",
       "    <tr>\n",
       "      <th>Instituto Nacional de Estadísticas y Censos</th>\n",
       "      <td>2006-01-01</td>\n",
       "    </tr>\n",
       "    <tr>\n",
       "      <th>Ministerio de Agroindustria</th>\n",
       "      <td>1979-01-01</td>\n",
       "    </tr>\n",
       "    <tr>\n",
       "      <th>Ministerio de Hacienda</th>\n",
       "      <td>1990-01-01</td>\n",
       "    </tr>\n",
       "    <tr>\n",
       "      <th>Ministerio de Trabajo, Empleo y Seguridad Social</th>\n",
       "      <td>1965-01-01</td>\n",
       "    </tr>\n",
       "    <tr>\n",
       "      <th>Secretaría de Asuntos Económicos</th>\n",
       "      <td>1935-01-01</td>\n",
       "    </tr>\n",
       "  </tbody>\n",
       "</table>\n",
       "</div>"
      ],
      "text/plain": [
       "                                                   fecha_primer_valor\n",
       "dataset_fuente                                                       \n",
       "Administración Nacional de la Seguridad Social             1971-01-01\n",
       "Banco Central de la República Argentina                    1950-01-01\n",
       "Bancos Centrales                                           2001-01-01\n",
       "Bloomberg                                                  1990-12-01\n",
       "Cámara Argentina de Fondos Comunes de Inversión...         2011-01-01\n",
       "Fondo Monetario Internacional                              1980-01-01\n",
       "Instituto Nacional de Estadística y Censos                 1980-01-01\n",
       "Instituto Nacional de Estadísticas y Censos                2006-01-01\n",
       "Ministerio de Agroindustria                                1979-01-01\n",
       "Ministerio de Hacienda                                     1990-01-01\n",
       "Ministerio de Trabajo, Empleo y Seguridad Social           1965-01-01\n",
       "Secretaría de Asuntos Económicos                           1935-01-01"
      ]
     },
     "execution_count": 64,
     "metadata": {},
     "output_type": "execute_result"
    }
   ],
   "source": [
    "group_fuentes.min()[[\"serie_indice_inicio\"]].rename(columns={\"serie_indice_inicio\": \"fecha_primer_valor\"})"
   ]
  },
  {
   "cell_type": "code",
   "execution_count": 53,
   "metadata": {},
   "outputs": [
    {
     "data": {
      "text/html": [
       "<div>\n",
       "<style>\n",
       "    .dataframe thead tr:only-child th {\n",
       "        text-align: right;\n",
       "    }\n",
       "\n",
       "    .dataframe thead th {\n",
       "        text-align: left;\n",
       "    }\n",
       "\n",
       "    .dataframe tbody tr th {\n",
       "        vertical-align: top;\n",
       "    }\n",
       "</style>\n",
       "<table border=\"1\" class=\"dataframe\">\n",
       "  <thead>\n",
       "    <tr style=\"text-align: right;\">\n",
       "      <th></th>\n",
       "      <th>series_cant</th>\n",
       "      <th>valores_cant</th>\n",
       "    </tr>\n",
       "  </thead>\n",
       "  <tbody>\n",
       "    <tr>\n",
       "      <th>Instituto Nacional de Estadística y Censos</th>\n",
       "      <td>5252</td>\n",
       "      <td>346871</td>\n",
       "    </tr>\n",
       "    <tr>\n",
       "      <th>Ministerio de Hacienda</th>\n",
       "      <td>1019</td>\n",
       "      <td>150358</td>\n",
       "    </tr>\n",
       "    <tr>\n",
       "      <th>Banco Central de la República Argentina</th>\n",
       "      <td>572</td>\n",
       "      <td>58623</td>\n",
       "    </tr>\n",
       "    <tr>\n",
       "      <th>Fondo Monetario Internacional</th>\n",
       "      <td>381</td>\n",
       "      <td>79011</td>\n",
       "    </tr>\n",
       "    <tr>\n",
       "      <th>Bloomberg</th>\n",
       "      <td>219</td>\n",
       "      <td>98867</td>\n",
       "    </tr>\n",
       "    <tr>\n",
       "      <th>Ministerio de Agroindustria</th>\n",
       "      <td>151</td>\n",
       "      <td>13942</td>\n",
       "    </tr>\n",
       "    <tr>\n",
       "      <th>Ministerio de Trabajo, Empleo y Seguridad Social</th>\n",
       "      <td>129</td>\n",
       "      <td>16790</td>\n",
       "    </tr>\n",
       "    <tr>\n",
       "      <th>Secretaría de Asuntos Económicos</th>\n",
       "      <td>115</td>\n",
       "      <td>2996</td>\n",
       "    </tr>\n",
       "    <tr>\n",
       "      <th>Instituto Nacional de Estadísticas y Censos</th>\n",
       "      <td>63</td>\n",
       "      <td>1674</td>\n",
       "    </tr>\n",
       "    <tr>\n",
       "      <th>Bancos Centrales</th>\n",
       "      <td>11</td>\n",
       "      <td>4630</td>\n",
       "    </tr>\n",
       "    <tr>\n",
       "      <th>Cámara Argentina de Fondos Comunes de Inversión (CAFCI)</th>\n",
       "      <td>8</td>\n",
       "      <td>590</td>\n",
       "    </tr>\n",
       "    <tr>\n",
       "      <th>Administración Nacional de la Seguridad Social</th>\n",
       "      <td>3</td>\n",
       "      <td>1214</td>\n",
       "    </tr>\n",
       "  </tbody>\n",
       "</table>\n",
       "</div>"
      ],
      "text/plain": [
       "                                                    series_cant  valores_cant\n",
       "Instituto Nacional de Estadística y Censos                 5252        346871\n",
       "Ministerio de Hacienda                                     1019        150358\n",
       "Banco Central de la República Argentina                     572         58623\n",
       "Fondo Monetario Internacional                               381         79011\n",
       "Bloomberg                                                   219         98867\n",
       "Ministerio de Agroindustria                                 151         13942\n",
       "Ministerio de Trabajo, Empleo y Seguridad Social            129         16790\n",
       "Secretaría de Asuntos Económicos                            115          2996\n",
       "Instituto Nacional de Estadísticas y Censos                  63          1674\n",
       "Bancos Centrales                                             11          4630\n",
       "Cámara Argentina de Fondos Comunes de Inversión...            8           590\n",
       "Administración Nacional de la Seguridad Social                3          1214"
      ]
     },
     "execution_count": 53,
     "metadata": {},
     "output_type": "execute_result"
    }
   ],
   "source": [
    "pd.concat([df_fuentes_series, df_fuentes_valores], axis=1).sort_values(\"series_cant\", ascending=False)"
   ]
  },
  {
   "cell_type": "code",
   "execution_count": 20,
   "metadata": {
    "collapsed": true
   },
   "outputs": [],
   "source": [
    "df_series.to_excel(\"series-tiempo-resumen.xlsx\", \"resumen\", index=True, index_label=True, merge_cells=False)"
   ]
  },
  {
   "cell_type": "code",
   "execution_count": 29,
   "metadata": {
    "collapsed": true
   },
   "outputs": [],
   "source": [
    "df_stata = df_series.copy()"
   ]
  },
  {
   "cell_type": "code",
   "execution_count": 35,
   "metadata": {
    "collapsed": true
   },
   "outputs": [],
   "source": [
    "for col in df_series.columns:\n",
    "    \n",
    "    # limita el largo de los campos de texto\n",
    "    if df_stata[col].dtype.name == \"object\":\n",
    "        df_stata[col] = df_stata[col].str[:244]\n",
    "    \n",
    "    # elimina los valores infinitos de los tipos decimales\n",
    "    elif \"float\" in df_stata[col].dtype.name:\n",
    "        df_stata[col] = df_stata[col].apply(lambda x: np.nan if np.isinf(x) else x)"
   ]
  },
  {
   "cell_type": "code",
   "execution_count": 36,
   "metadata": {
    "collapsed": true
   },
   "outputs": [],
   "source": [
    "df_stata.to_stata(\"series-tiempo-resumen.dta\", write_index=False)"
   ]
  },
  {
   "cell_type": "code",
   "execution_count": 34,
   "metadata": {},
   "outputs": [
    {
     "data": {
      "text/plain": [
       "inf"
      ]
     },
     "execution_count": 34,
     "metadata": {},
     "output_type": "execute_result"
    }
   ],
   "source": [
    "df_series.var_pct_anterior.max()"
   ]
  },
  {
   "cell_type": "code",
   "execution_count": null,
   "metadata": {
    "collapsed": true
   },
   "outputs": [],
   "source": [
    "df_series.to_sql()"
   ]
  },
  {
   "cell_type": "markdown",
   "metadata": {},
   "source": [
    "## Genero distribuciones de distintos formatos"
   ]
  },
  {
   "cell_type": "code",
   "execution_count": null,
   "metadata": {
    "collapsed": true
   },
   "outputs": [],
   "source": [
    "%%time\n",
    "# CSV\n",
    "path = dump_path.format(\"csv\")\n",
    "df.to_csv(path, encoding=\"utf-8\", sep=\",\", index=False)\n",
    "print(\"{}MB\".format(os.path.getsize(path) / 1000000))"
   ]
  },
  {
   "cell_type": "code",
   "execution_count": null,
   "metadata": {
    "collapsed": true
   },
   "outputs": [],
   "source": [
    "%%time \n",
    "# EXCEL\n",
    "path = dump_path.format(\"xlsx\")\n",
    "writer = pd.ExcelWriter(path, engine='xlsxwriter')\n",
    "df.to_excel(writer, \"data\", merge_cells=False, encoding=\"utf-8\", index=False)\n",
    "writer.save()\n",
    "print(\"{}MB\".format(os.path.getsize(path) / 1000000))"
   ]
  },
  {
   "cell_type": "code",
   "execution_count": null,
   "metadata": {
    "collapsed": true
   },
   "outputs": [],
   "source": [
    "%%time \n",
    "# SQLITE\n",
    "path = dump_path.format(\"db\")\n",
    "engine = create_engine('sqlite:///{}'.format(path), echo=True)\n",
    "df.to_sql(\"series_tiempo\", engine, index=False, if_exists=\"replace\")\n",
    "print(\"{}MB\".format(os.path.getsize(path) / 1000000))"
   ]
  },
  {
   "cell_type": "code",
   "execution_count": null,
   "metadata": {
    "collapsed": true
   },
   "outputs": [],
   "source": [
    "%%time \n",
    "# ACCESS\n",
    "# set up some constants\n",
    "DRV = '{Microsoft Access Driver (*.mdb)}'; PWD = 'pw'\n",
    "\n",
    "# connect to db\n",
    "path = dump_path.format(\"mdb\")\n",
    "con = pyodbc.connect('DRIVER={};DBQ={};PWD={}'.format(DRV, path, PWD))\n",
    "cur = con.cursor()\n",
    "\n",
    "df.to_sql(\"series_tiempo\", con, index=False, if_exists=\"replace\")\n",
    "print(\"{}MB\".format(os.path.getsize(path) / 1000000))"
   ]
  },
  {
   "cell_type": "code",
   "execution_count": null,
   "metadata": {
    "collapsed": true
   },
   "outputs": [],
   "source": [
    "%%time \n",
    "# SQL\n",
    "# la gracia acá es hacer bien las tablas con sus índices y pensar si MySQL, Postgresql o SQLite\n",
    "path = dump_path.format(\"sql\")\n",
    "df.to_sql(path, \"data\", merge_cells=False, encoding=\"utf-8\", index=False)\n",
    "print(\"{}MB\".format(os.path.getsize(path) / 1000000))"
   ]
  },
  {
   "cell_type": "code",
   "execution_count": 19,
   "metadata": {
    "collapsed": true
   },
   "outputs": [],
   "source": []
  },
  {
   "cell_type": "code",
   "execution_count": 20,
   "metadata": {
    "collapsed": true
   },
   "outputs": [],
   "source": []
  },
  {
   "cell_type": "code",
   "execution_count": 22,
   "metadata": {},
   "outputs": [
    {
     "name": "stdout",
     "output_type": "stream",
     "text": [
      "1097MB\n",
      "CPU times: user 20.1 s, sys: 5.21 s, total: 25.3 s\n",
      "Wall time: 25.6 s\n"
     ]
    }
   ],
   "source": [
    "%%time \n",
    "# DTA\n",
    "# hay que ver cómo manejar el límite de caracteres\n",
    "path = dump_path.format(\"dta\")\n",
    "df_stata = df.copy()\n",
    "for col in df_stata.columns:\n",
    "    if df_stata[col].dtype.name == \"object\":\n",
    "        # trunca campos de texto a 244 caracteres aceptados por STATA\n",
    "        df_stata[col] = df_stata[col].str[:244]\n",
    "df_stata.to_stata(path, write_index=False)\n",
    "print(\"{}MB\".format(os.path.getsize(path) / 1000000))"
   ]
  },
  {
   "cell_type": "code",
   "execution_count": null,
   "metadata": {
    "collapsed": true
   },
   "outputs": [],
   "source": []
  },
  {
   "cell_type": "code",
   "execution_count": null,
   "metadata": {
    "collapsed": true
   },
   "outputs": [],
   "source": []
  },
  {
   "cell_type": "code",
   "execution_count": null,
   "metadata": {
    "collapsed": true
   },
   "outputs": [],
   "source": []
  },
  {
   "cell_type": "code",
   "execution_count": null,
   "metadata": {
    "collapsed": true
   },
   "outputs": [],
   "source": []
  },
  {
   "cell_type": "code",
   "execution_count": null,
   "metadata": {
    "collapsed": true
   },
   "outputs": [],
   "source": []
  },
  {
   "cell_type": "code",
   "execution_count": null,
   "metadata": {
    "collapsed": true
   },
   "outputs": [],
   "source": []
  },
  {
   "cell_type": "code",
   "execution_count": null,
   "metadata": {
    "collapsed": true
   },
   "outputs": [],
   "source": []
  },
  {
   "cell_type": "code",
   "execution_count": null,
   "metadata": {
    "collapsed": true
   },
   "outputs": [],
   "source": [
    "df.head()"
   ]
  },
  {
   "cell_type": "code",
   "execution_count": null,
   "metadata": {
    "collapsed": true
   },
   "outputs": [],
   "source": []
  }
 ],
 "metadata": {
  "kernelspec": {
   "display_name": "Python 2",
   "language": "python",
   "name": "python2"
  },
  "language_info": {
   "codemirror_mode": {
    "name": "ipython",
    "version": 2
   },
   "file_extension": ".py",
   "mimetype": "text/x-python",
   "name": "python",
   "nbconvert_exporter": "python",
   "pygments_lexer": "ipython2",
   "version": "2.7.13"
  },
  "toc": {
   "colors": {
    "hover_highlight": "#DAA520",
    "running_highlight": "#FF0000",
    "selected_highlight": "#FFD700"
   },
   "moveMenuLeft": true,
   "nav_menu": {
    "height": "48px",
    "width": "252px"
   },
   "navigate_menu": true,
   "number_sections": true,
   "sideBar": true,
   "threshold": 4,
   "toc_cell": false,
   "toc_section_display": "block",
   "toc_window_display": false
  }
 },
 "nbformat": 4,
 "nbformat_minor": 2
}
