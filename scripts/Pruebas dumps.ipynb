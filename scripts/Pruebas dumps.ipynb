{
 "cells": [
  {
   "cell_type": "code",
   "execution_count": 16,
   "metadata": {},
   "outputs": [],
   "source": [
    "from __future__ import print_function\n",
    "from unicodecsv import DictReader\n",
    "import pandas as pd\n",
    "from paths import DATASETS_DIR, DUMPS_DIR\n",
    "from pprint import pprint\n",
    "from data import generate_dump\n",
    "import os\n",
    "from collections import OrderedDict\n",
    "# import mysql.connector\n",
    "from sqlalchemy import create_engine\n",
    "# import pyodbc\n",
    "from helpers import freq_iso_to_pandas\n",
    "from pydatajson.helpers import parse_repeating_time_interval_to_days\n",
    "from generate_dumps import save_to_dta\n",
    "import numpy as np"
   ]
  },
  {
   "cell_type": "code",
   "execution_count": 5,
   "metadata": {
    "collapsed": true
   },
   "outputs": [],
   "source": [
    "dump_path = os.path.join(DUMPS_DIR, \"series-tiempo.{}\")"
   ]
  },
  {
   "cell_type": "markdown",
   "metadata": {},
   "source": [
    "## Genero dataframe con el dump"
   ]
  },
  {
   "cell_type": "code",
   "execution_count": 6,
   "metadata": {},
   "outputs": [
    {
     "name": "stdout",
     "output_type": "stream",
     "text": [
      "CPU times: user 31.6 s, sys: 1.86 s, total: 33.5 s\n",
      "Wall time: 33.8 s\n"
     ]
    }
   ],
   "source": [
    "%time df = generate_dump()"
   ]
  },
  {
   "cell_type": "code",
   "execution_count": 7,
   "metadata": {},
   "outputs": [],
   "source": [
    "drop_cols = [\"distribucion_indice_tiempo\", \"valor\"]\n",
    "index_cols = [\"dataset_id\", \"distribucion_id\", \"serie_id\"]\n",
    "series_cols = df.columns.drop(drop_cols)\n",
    "series_group = df.groupby(index_cols)"
   ]
  },
  {
   "cell_type": "code",
   "execution_count": 8,
   "metadata": {},
   "outputs": [],
   "source": [
    "df_series = df.drop(drop_cols, axis=1).drop_duplicates().set_index(index_cols)"
   ]
  },
  {
   "cell_type": "code",
   "execution_count": 9,
   "metadata": {
    "collapsed": true
   },
   "outputs": [],
   "source": [
    "def _get_valor_anterior_anio(series_dataframe):\n",
    "    series = pd.Series(list(series_dataframe.valor), list(series_dataframe.distribucion_indice_tiempo)).sort_index()\n",
    "    return series.get(series.index[-1] - pd.DateOffset(years=1))"
   ]
  },
  {
   "cell_type": "code",
   "execution_count": 10,
   "metadata": {
    "collapsed": true
   },
   "outputs": [],
   "source": [
    "# rango temporal de la serie\n",
    "df_series[\"serie_indice_inicio\"] = series_group[\"distribucion_indice_tiempo\"].min()\n",
    "df_series[\"serie_indice_final\"] = series_group[\"distribucion_indice_tiempo\"].max()\n",
    "df_series[\"serie_valores_cant\"] = series_group[\"distribucion_indice_tiempo\"].count()\n",
    "\n",
    "# estado de actualización de los datos\n",
    "df_series[\"serie_dias_no_cubiertos\"] = df_series.apply(\n",
    "    lambda x: (pd.datetime.now() - pd.to_datetime(x[\"serie_indice_final\"]).to_period(\n",
    "        freq_iso_to_pandas(\"R/P3M\", how=\"end\")).to_timestamp(how=\"end\")).days,\n",
    "    axis=1)\n",
    "df_series[\"serie_actualizada\"] = df_series.apply(\n",
    "    lambda x: x[\"serie_dias_no_cubiertos\"] < 2 * parse_repeating_time_interval_to_days(x[\"distribucion_indice_frecuencia\"]),\n",
    "    axis=1)\n",
    "\n",
    "# valores representativos nominales\n",
    "df_series[\"valor_ultimo\"] = series_group.apply(\n",
    "    lambda x: x.loc[x.distribucion_indice_tiempo.argmax(), \"valor\"])\n",
    "df_series[\"valor_anterior\"] = series_group.apply(\n",
    "    lambda x: pd.Series(list(x.valor), list(x.distribucion_indice_tiempo)).sort_index()[-2]\n",
    ")\n",
    "df_series[\"valor_anterior_anio\"] = series_group.apply(_get_valor_anterior_anio)\n",
    "\n",
    "# valores representativos en variación porcentual\n",
    "df_series[\"var_pct_anterior\"] = df_series[\"valor_ultimo\"] / df_series[\"valor_anterior\"] - 1\n",
    "df_series[\"var_pct_anterior_anio\"] = df_series[\"valor_ultimo\"] / df_series[\"valor_anterior_anio\"] - 1"
   ]
  },
  {
   "cell_type": "code",
   "execution_count": 12,
   "metadata": {},
   "outputs": [],
   "source": [
    "df_series.to_excel(\"series-tiempo-resumen.xlsx\", \"resumen\", index=True, index_label=True, merge_cells=False)"
   ]
  },
  {
   "cell_type": "code",
   "execution_count": 28,
   "metadata": {
    "collapsed": true
   },
   "outputs": [],
   "source": [
    "df_stata = df_series"
   ]
  },
  {
   "cell_type": "code",
   "execution_count": 33,
   "metadata": {},
   "outputs": [],
   "source": [
    "for col in df_series.columns:\n",
    "    \n",
    "    # limita el largo de los campos de texto\n",
    "    if df_stata[col].dtype.name == \"object\":\n",
    "        df_stata[col] = df_stata[col].str[:244]\n",
    "    \n",
    "    # limita la precisión de los números decimales\n",
    "    elif \"float\" in df_stata[col].dtype.name:\n",
    "        df_stata[col] = df_stata[col].astype(np.float32)"
   ]
  },
  {
   "cell_type": "code",
   "execution_count": 34,
   "metadata": {},
   "outputs": [
    {
     "ename": "ValueError",
     "evalue": "Column valor_ultimo has a maximum value of infinity which is outside the range supported by Stata.",
     "output_type": "error",
     "traceback": [
      "\u001b[0;31m---------------------------------------------------------------------------\u001b[0m",
      "\u001b[0;31mValueError\u001b[0m                                Traceback (most recent call last)",
      "\u001b[0;32m<ipython-input-34-f3fdd26808d7>\u001b[0m in \u001b[0;36m<module>\u001b[0;34m()\u001b[0m\n\u001b[0;32m----> 1\u001b[0;31m \u001b[0mdf_series\u001b[0m\u001b[0;34m.\u001b[0m\u001b[0mto_stata\u001b[0m\u001b[0;34m(\u001b[0m\u001b[0;34m\"series-tiempo-resumen.dta\"\u001b[0m\u001b[0;34m,\u001b[0m \u001b[0mwrite_index\u001b[0m\u001b[0;34m=\u001b[0m\u001b[0mFalse\u001b[0m\u001b[0;34m)\u001b[0m\u001b[0;34m\u001b[0m\u001b[0m\n\u001b[0m",
      "\u001b[0;32m/Users/abenassi/anaconda/envs/series-tiempo/lib/python2.7/site-packages/pandas/core/frame.pyc\u001b[0m in \u001b[0;36mto_stata\u001b[0;34m(self, fname, convert_dates, write_index, encoding, byteorder, time_stamp, data_label, variable_labels)\u001b[0m\n\u001b[1;32m   1486\u001b[0m                              \u001b[0mtime_stamp\u001b[0m\u001b[0;34m=\u001b[0m\u001b[0mtime_stamp\u001b[0m\u001b[0;34m,\u001b[0m \u001b[0mdata_label\u001b[0m\u001b[0;34m=\u001b[0m\u001b[0mdata_label\u001b[0m\u001b[0;34m,\u001b[0m\u001b[0;34m\u001b[0m\u001b[0m\n\u001b[1;32m   1487\u001b[0m                              \u001b[0mwrite_index\u001b[0m\u001b[0;34m=\u001b[0m\u001b[0mwrite_index\u001b[0m\u001b[0;34m,\u001b[0m\u001b[0;34m\u001b[0m\u001b[0m\n\u001b[0;32m-> 1488\u001b[0;31m                              variable_labels=variable_labels)\n\u001b[0m\u001b[1;32m   1489\u001b[0m         \u001b[0mwriter\u001b[0m\u001b[0;34m.\u001b[0m\u001b[0mwrite_file\u001b[0m\u001b[0;34m(\u001b[0m\u001b[0;34m)\u001b[0m\u001b[0;34m\u001b[0m\u001b[0m\n\u001b[1;32m   1490\u001b[0m \u001b[0;34m\u001b[0m\u001b[0m\n",
      "\u001b[0;32m/Users/abenassi/anaconda/envs/series-tiempo/lib/python2.7/site-packages/pandas/io/stata.pyc\u001b[0m in \u001b[0;36m__init__\u001b[0;34m(self, fname, data, convert_dates, write_index, encoding, byteorder, time_stamp, data_label, variable_labels)\u001b[0m\n\u001b[1;32m   1926\u001b[0m         \u001b[0mself\u001b[0m\u001b[0;34m.\u001b[0m\u001b[0m_variable_labels\u001b[0m \u001b[0;34m=\u001b[0m \u001b[0mvariable_labels\u001b[0m\u001b[0;34m\u001b[0m\u001b[0m\n\u001b[1;32m   1927\u001b[0m         \u001b[0;31m# attach nobs, nvars, data, varlist, typlist\u001b[0m\u001b[0;34m\u001b[0m\u001b[0;34m\u001b[0m\u001b[0m\n\u001b[0;32m-> 1928\u001b[0;31m         \u001b[0mself\u001b[0m\u001b[0;34m.\u001b[0m\u001b[0m_prepare_pandas\u001b[0m\u001b[0;34m(\u001b[0m\u001b[0mdata\u001b[0m\u001b[0;34m)\u001b[0m\u001b[0;34m\u001b[0m\u001b[0m\n\u001b[0m\u001b[1;32m   1929\u001b[0m \u001b[0;34m\u001b[0m\u001b[0m\n\u001b[1;32m   1930\u001b[0m         \u001b[0;32mif\u001b[0m \u001b[0mbyteorder\u001b[0m \u001b[0;32mis\u001b[0m \u001b[0mNone\u001b[0m\u001b[0;34m:\u001b[0m\u001b[0;34m\u001b[0m\u001b[0m\n",
      "\u001b[0;32m/Users/abenassi/anaconda/envs/series-tiempo/lib/python2.7/site-packages/pandas/io/stata.pyc\u001b[0m in \u001b[0;36m_prepare_pandas\u001b[0;34m(self, data)\u001b[0m\n\u001b[1;32m   2086\u001b[0m         \u001b[0;31m# Check columns for compatibility with stata, upcast if necessary\u001b[0m\u001b[0;34m\u001b[0m\u001b[0;34m\u001b[0m\u001b[0m\n\u001b[1;32m   2087\u001b[0m         \u001b[0;31m# Raise if outside the supported range\u001b[0m\u001b[0;34m\u001b[0m\u001b[0;34m\u001b[0m\u001b[0m\n\u001b[0;32m-> 2088\u001b[0;31m         \u001b[0mdata\u001b[0m \u001b[0;34m=\u001b[0m \u001b[0m_cast_to_stata_types\u001b[0m\u001b[0;34m(\u001b[0m\u001b[0mdata\u001b[0m\u001b[0;34m)\u001b[0m\u001b[0;34m\u001b[0m\u001b[0m\n\u001b[0m\u001b[1;32m   2089\u001b[0m \u001b[0;34m\u001b[0m\u001b[0m\n\u001b[1;32m   2090\u001b[0m         \u001b[0;31m# Replace NaNs with Stata missing values\u001b[0m\u001b[0;34m\u001b[0m\u001b[0;34m\u001b[0m\u001b[0m\n",
      "\u001b[0;32m/Users/abenassi/anaconda/envs/series-tiempo/lib/python2.7/site-packages/pandas/io/stata.pyc\u001b[0m in \u001b[0;36m_cast_to_stata_types\u001b[0;34m(data)\u001b[0m\n\u001b[1;32m    558\u001b[0m                 \u001b[0mmsg\u001b[0m \u001b[0;34m=\u001b[0m \u001b[0;34m'Column {0} has a maximum value of infinity which is '\u001b[0m\u001b[0;31m \u001b[0m\u001b[0;31m\\\u001b[0m\u001b[0;34m\u001b[0m\u001b[0m\n\u001b[1;32m    559\u001b[0m                       \u001b[0;34m'outside the range supported by Stata.'\u001b[0m\u001b[0;34m\u001b[0m\u001b[0m\n\u001b[0;32m--> 560\u001b[0;31m                 \u001b[0;32mraise\u001b[0m \u001b[0mValueError\u001b[0m\u001b[0;34m(\u001b[0m\u001b[0mmsg\u001b[0m\u001b[0;34m.\u001b[0m\u001b[0mformat\u001b[0m\u001b[0;34m(\u001b[0m\u001b[0mcol\u001b[0m\u001b[0;34m)\u001b[0m\u001b[0;34m)\u001b[0m\u001b[0;34m\u001b[0m\u001b[0m\n\u001b[0m\u001b[1;32m    561\u001b[0m             \u001b[0;32mif\u001b[0m \u001b[0mdtype\u001b[0m \u001b[0;34m==\u001b[0m \u001b[0mnp\u001b[0m\u001b[0;34m.\u001b[0m\u001b[0mfloat32\u001b[0m \u001b[0;32mand\u001b[0m \u001b[0mvalue\u001b[0m \u001b[0;34m>\u001b[0m \u001b[0mfloat32_max\u001b[0m\u001b[0;34m:\u001b[0m\u001b[0;34m\u001b[0m\u001b[0m\n\u001b[1;32m    562\u001b[0m                 \u001b[0mdata\u001b[0m\u001b[0;34m[\u001b[0m\u001b[0mcol\u001b[0m\u001b[0;34m]\u001b[0m \u001b[0;34m=\u001b[0m \u001b[0mdata\u001b[0m\u001b[0;34m[\u001b[0m\u001b[0mcol\u001b[0m\u001b[0;34m]\u001b[0m\u001b[0;34m.\u001b[0m\u001b[0mastype\u001b[0m\u001b[0;34m(\u001b[0m\u001b[0mnp\u001b[0m\u001b[0;34m.\u001b[0m\u001b[0mfloat64\u001b[0m\u001b[0;34m)\u001b[0m\u001b[0;34m\u001b[0m\u001b[0m\n",
      "\u001b[0;31mValueError\u001b[0m: Column valor_ultimo has a maximum value of infinity which is outside the range supported by Stata."
     ]
    }
   ],
   "source": [
    "df_series.to_stata(\"series-tiempo-resumen.dta\", write_index=False)"
   ]
  },
  {
   "cell_type": "code",
   "execution_count": 35,
   "metadata": {},
   "outputs": [
    {
     "data": {
      "text/plain": [
       "False"
      ]
     },
     "execution_count": 35,
     "metadata": {},
     "output_type": "execute_result"
    }
   ],
   "source": [
    "np.isinf(2.010)"
   ]
  },
  {
   "cell_type": "markdown",
   "metadata": {},
   "source": [
    "## Genero distribuciones de distintos formatos"
   ]
  },
  {
   "cell_type": "code",
   "execution_count": null,
   "metadata": {
    "collapsed": true
   },
   "outputs": [],
   "source": [
    "%%time\n",
    "# CSV\n",
    "path = dump_path.format(\"csv\")\n",
    "df.to_csv(path, encoding=\"utf-8\", sep=\",\", index=False)\n",
    "print(\"{}MB\".format(os.path.getsize(path) / 1000000))"
   ]
  },
  {
   "cell_type": "code",
   "execution_count": null,
   "metadata": {
    "collapsed": true
   },
   "outputs": [],
   "source": [
    "%%time \n",
    "# EXCEL\n",
    "path = dump_path.format(\"xlsx\")\n",
    "writer = pd.ExcelWriter(path, engine='xlsxwriter')\n",
    "df.to_excel(writer, \"data\", merge_cells=False, encoding=\"utf-8\", index=False)\n",
    "writer.save()\n",
    "print(\"{}MB\".format(os.path.getsize(path) / 1000000))"
   ]
  },
  {
   "cell_type": "code",
   "execution_count": null,
   "metadata": {
    "collapsed": true
   },
   "outputs": [],
   "source": [
    "%%time \n",
    "# SQLITE\n",
    "path = dump_path.format(\"db\")\n",
    "engine = create_engine('sqlite:///{}'.format(path), echo=True)\n",
    "df.to_sql(\"series_tiempo\", engine, index=False, if_exists=\"replace\")\n",
    "print(\"{}MB\".format(os.path.getsize(path) / 1000000))"
   ]
  },
  {
   "cell_type": "code",
   "execution_count": null,
   "metadata": {
    "collapsed": true
   },
   "outputs": [],
   "source": [
    "%%time \n",
    "# ACCESS\n",
    "# set up some constants\n",
    "DRV = '{Microsoft Access Driver (*.mdb)}'; PWD = 'pw'\n",
    "\n",
    "# connect to db\n",
    "path = dump_path.format(\"mdb\")\n",
    "con = pyodbc.connect('DRIVER={};DBQ={};PWD={}'.format(DRV, path, PWD))\n",
    "cur = con.cursor()\n",
    "\n",
    "df.to_sql(\"series_tiempo\", con, index=False, if_exists=\"replace\")\n",
    "print(\"{}MB\".format(os.path.getsize(path) / 1000000))"
   ]
  },
  {
   "cell_type": "code",
   "execution_count": null,
   "metadata": {
    "collapsed": true
   },
   "outputs": [],
   "source": [
    "%%time \n",
    "# SQL\n",
    "# la gracia acá es hacer bien las tablas con sus índices y pensar si MySQL, Postgresql o SQLite\n",
    "path = dump_path.format(\"sql\")\n",
    "df.to_sql(path, \"data\", merge_cells=False, encoding=\"utf-8\", index=False)\n",
    "print(\"{}MB\".format(os.path.getsize(path) / 1000000))"
   ]
  },
  {
   "cell_type": "code",
   "execution_count": 19,
   "metadata": {
    "collapsed": true
   },
   "outputs": [],
   "source": []
  },
  {
   "cell_type": "code",
   "execution_count": 20,
   "metadata": {
    "collapsed": true
   },
   "outputs": [],
   "source": []
  },
  {
   "cell_type": "code",
   "execution_count": 22,
   "metadata": {},
   "outputs": [
    {
     "name": "stdout",
     "output_type": "stream",
     "text": [
      "1097MB\n",
      "CPU times: user 20.1 s, sys: 5.21 s, total: 25.3 s\n",
      "Wall time: 25.6 s\n"
     ]
    }
   ],
   "source": [
    "%%time \n",
    "# DTA\n",
    "# hay que ver cómo manejar el límite de caracteres\n",
    "path = dump_path.format(\"dta\")\n",
    "df_stata = df.copy()\n",
    "for col in df_stata.columns:\n",
    "    if df_stata[col].dtype.name == \"object\":\n",
    "        # trunca campos de texto a 244 caracteres aceptados por STATA\n",
    "        df_stata[col] = df_stata[col].str[:244]\n",
    "df_stata.to_stata(path, write_index=False)\n",
    "print(\"{}MB\".format(os.path.getsize(path) / 1000000))"
   ]
  },
  {
   "cell_type": "code",
   "execution_count": null,
   "metadata": {
    "collapsed": true
   },
   "outputs": [],
   "source": []
  },
  {
   "cell_type": "code",
   "execution_count": null,
   "metadata": {
    "collapsed": true
   },
   "outputs": [],
   "source": []
  },
  {
   "cell_type": "code",
   "execution_count": null,
   "metadata": {
    "collapsed": true
   },
   "outputs": [],
   "source": []
  },
  {
   "cell_type": "code",
   "execution_count": null,
   "metadata": {
    "collapsed": true
   },
   "outputs": [],
   "source": []
  },
  {
   "cell_type": "code",
   "execution_count": null,
   "metadata": {
    "collapsed": true
   },
   "outputs": [],
   "source": []
  },
  {
   "cell_type": "code",
   "execution_count": null,
   "metadata": {
    "collapsed": true
   },
   "outputs": [],
   "source": []
  },
  {
   "cell_type": "code",
   "execution_count": null,
   "metadata": {
    "collapsed": true
   },
   "outputs": [],
   "source": []
  },
  {
   "cell_type": "code",
   "execution_count": null,
   "metadata": {
    "collapsed": true
   },
   "outputs": [],
   "source": [
    "df.head()"
   ]
  },
  {
   "cell_type": "code",
   "execution_count": null,
   "metadata": {
    "collapsed": true
   },
   "outputs": [],
   "source": []
  }
 ],
 "metadata": {
  "kernelspec": {
   "display_name": "Python 2",
   "language": "python",
   "name": "python2"
  },
  "toc": {
   "colors": {
    "hover_highlight": "#DAA520",
    "running_highlight": "#FF0000",
    "selected_highlight": "#FFD700"
   },
   "moveMenuLeft": true,
   "nav_menu": {
    "height": "48px",
    "width": "252px"
   },
   "navigate_menu": true,
   "number_sections": true,
   "sideBar": true,
   "threshold": 4,
   "toc_cell": false,
   "toc_section_display": "block",
   "toc_window_display": false
  }
 },
 "nbformat": 4,
 "nbformat_minor": 2
}
