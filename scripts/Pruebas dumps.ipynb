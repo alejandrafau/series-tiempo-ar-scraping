{
 "cells": [
  {
   "cell_type": "code",
   "execution_count": 1,
   "metadata": {
    "collapsed": true
   },
   "outputs": [],
   "source": [
    "from __future__ import print_function\n",
    "from unicodecsv import DictReader\n",
    "import pandas as pd\n",
    "from paths import DATASETS_DIR, DUMPS_DIR\n",
    "from pprint import pprint\n",
    "from data import generate_dump\n",
    "import os\n",
    "from collections import OrderedDict\n",
    "# import mysql.connector\n",
    "from sqlalchemy import create_engine\n",
    "# import pyodbc\n",
    "from helpers import freq_iso_to_pandas\n",
    "from pydatajson.helpers import parse_repeating_time_interval_to_days\n",
    "from generate_dumps import save_to_dta, generate_series_summary\n",
    "import numpy as np"
   ]
  },
  {
   "cell_type": "code",
   "execution_count": 2,
   "metadata": {
    "collapsed": true
   },
   "outputs": [],
   "source": [
    "from pympler import asizeof"
   ]
  },
  {
   "cell_type": "code",
   "execution_count": 3,
   "metadata": {
    "collapsed": true
   },
   "outputs": [],
   "source": [
    "dump_path = os.path.join(DUMPS_DIR, \"series-tiempo.{}\")"
   ]
  },
  {
   "cell_type": "code",
   "execution_count": 12,
   "metadata": {
    "collapsed": true
   },
   "outputs": [],
   "source": [
    "df = pd.read_excel(os.path.join(DUMPS_DIR, \"series-tiempo-metadatos.xlsx\"))"
   ]
  },
  {
   "cell_type": "code",
   "execution_count": 17,
   "metadata": {},
   "outputs": [
    {
     "data": {
      "text/html": [
       "<div>\n",
       "<style>\n",
       "    .dataframe thead tr:only-child th {\n",
       "        text-align: right;\n",
       "    }\n",
       "\n",
       "    .dataframe thead th {\n",
       "        text-align: left;\n",
       "    }\n",
       "\n",
       "    .dataframe tbody tr th {\n",
       "        vertical-align: top;\n",
       "    }\n",
       "</style>\n",
       "<table border=\"1\" class=\"dataframe\">\n",
       "  <thead>\n",
       "    <tr style=\"text-align: right;\">\n",
       "      <th></th>\n",
       "      <th>catalog_id</th>\n",
       "      <th>dataset_id</th>\n",
       "      <th>distribucion_id</th>\n",
       "      <th>serie_id</th>\n",
       "      <th>indice_tiempo_frecuencia</th>\n",
       "      <th>serie_titulo</th>\n",
       "      <th>serie_unidades</th>\n",
       "      <th>serie_descripcion</th>\n",
       "      <th>distribucion_titulo</th>\n",
       "      <th>distribucion_descripcion</th>\n",
       "      <th>...</th>\n",
       "      <th>dataset_descripcion</th>\n",
       "      <th>serie_indice_inicio</th>\n",
       "      <th>serie_indice_final</th>\n",
       "      <th>serie_valores_cant</th>\n",
       "      <th>serie_dias_no_cubiertos</th>\n",
       "      <th>serie_valor_ultimo</th>\n",
       "      <th>serie_valor_anterior</th>\n",
       "      <th>serie_valor_anterior_anio</th>\n",
       "      <th>serie_var_pct_anterior</th>\n",
       "      <th>serie_var_pct_anterior_anio</th>\n",
       "    </tr>\n",
       "    <tr>\n",
       "      <th>serie_actualizada</th>\n",
       "      <th></th>\n",
       "      <th></th>\n",
       "      <th></th>\n",
       "      <th></th>\n",
       "      <th></th>\n",
       "      <th></th>\n",
       "      <th></th>\n",
       "      <th></th>\n",
       "      <th></th>\n",
       "      <th></th>\n",
       "      <th></th>\n",
       "      <th></th>\n",
       "      <th></th>\n",
       "      <th></th>\n",
       "      <th></th>\n",
       "      <th></th>\n",
       "      <th></th>\n",
       "      <th></th>\n",
       "      <th></th>\n",
       "      <th></th>\n",
       "      <th></th>\n",
       "    </tr>\n",
       "  </thead>\n",
       "  <tbody>\n",
       "    <tr>\n",
       "      <th>False</th>\n",
       "      <td>3886</td>\n",
       "      <td>3886</td>\n",
       "      <td>3886</td>\n",
       "      <td>3886</td>\n",
       "      <td>3886</td>\n",
       "      <td>3886</td>\n",
       "      <td>3885</td>\n",
       "      <td>3886</td>\n",
       "      <td>3886</td>\n",
       "      <td>3886</td>\n",
       "      <td>...</td>\n",
       "      <td>3886</td>\n",
       "      <td>3886</td>\n",
       "      <td>3886</td>\n",
       "      <td>3886</td>\n",
       "      <td>3886</td>\n",
       "      <td>3710</td>\n",
       "      <td>3675</td>\n",
       "      <td>3539</td>\n",
       "      <td>3556</td>\n",
       "      <td>3406</td>\n",
       "    </tr>\n",
       "    <tr>\n",
       "      <th>True</th>\n",
       "      <td>4388</td>\n",
       "      <td>4388</td>\n",
       "      <td>4388</td>\n",
       "      <td>4388</td>\n",
       "      <td>4388</td>\n",
       "      <td>4388</td>\n",
       "      <td>4388</td>\n",
       "      <td>4388</td>\n",
       "      <td>4388</td>\n",
       "      <td>4388</td>\n",
       "      <td>...</td>\n",
       "      <td>4388</td>\n",
       "      <td>4388</td>\n",
       "      <td>4388</td>\n",
       "      <td>4388</td>\n",
       "      <td>4388</td>\n",
       "      <td>4086</td>\n",
       "      <td>4213</td>\n",
       "      <td>4124</td>\n",
       "      <td>4053</td>\n",
       "      <td>3880</td>\n",
       "    </tr>\n",
       "  </tbody>\n",
       "</table>\n",
       "<p>2 rows × 23 columns</p>\n",
       "</div>"
      ],
      "text/plain": [
       "                   catalog_id  dataset_id  distribucion_id  serie_id  \\\n",
       "serie_actualizada                                                      \n",
       "False                    3886        3886             3886      3886   \n",
       "True                     4388        4388             4388      4388   \n",
       "\n",
       "                   indice_tiempo_frecuencia  serie_titulo  serie_unidades  \\\n",
       "serie_actualizada                                                           \n",
       "False                                  3886          3886            3885   \n",
       "True                                   4388          4388            4388   \n",
       "\n",
       "                   serie_descripcion  distribucion_titulo  \\\n",
       "serie_actualizada                                           \n",
       "False                           3886                 3886   \n",
       "True                            4388                 4388   \n",
       "\n",
       "                   distribucion_descripcion             ...               \\\n",
       "serie_actualizada                                       ...                \n",
       "False                                  3886             ...                \n",
       "True                                   4388             ...                \n",
       "\n",
       "                   dataset_descripcion  serie_indice_inicio  \\\n",
       "serie_actualizada                                             \n",
       "False                             3886                 3886   \n",
       "True                              4388                 4388   \n",
       "\n",
       "                   serie_indice_final  serie_valores_cant  \\\n",
       "serie_actualizada                                           \n",
       "False                            3886                3886   \n",
       "True                             4388                4388   \n",
       "\n",
       "                   serie_dias_no_cubiertos  serie_valor_ultimo  \\\n",
       "serie_actualizada                                                \n",
       "False                                 3886                3710   \n",
       "True                                  4388                4086   \n",
       "\n",
       "                   serie_valor_anterior  serie_valor_anterior_anio  \\\n",
       "serie_actualizada                                                    \n",
       "False                              3675                       3539   \n",
       "True                               4213                       4124   \n",
       "\n",
       "                   serie_var_pct_anterior  serie_var_pct_anterior_anio  \n",
       "serie_actualizada                                                       \n",
       "False                                3556                         3406  \n",
       "True                                 4053                         3880  \n",
       "\n",
       "[2 rows x 23 columns]"
      ]
     },
     "execution_count": 17,
     "metadata": {},
     "output_type": "execute_result"
    }
   ],
   "source": [
    "df.groupby(\"serie_actualizada\").count()"
   ]
  },
  {
   "cell_type": "code",
   "execution_count": 15,
   "metadata": {},
   "outputs": [
    {
     "name": "stdout",
     "output_type": "stream",
     "text": [
      "1935-01-01 00:00:00\n",
      "2018-07-01 00:00:00\n"
     ]
    }
   ],
   "source": [
    "print(df.serie_indice_inicio.min())\n",
    "print(df.serie_indice_final.max())"
   ]
  },
  {
   "cell_type": "markdown",
   "metadata": {},
   "source": [
    "## Genero dataframe con el dump"
   ]
  },
  {
   "cell_type": "code",
   "execution_count": 3,
   "metadata": {},
   "outputs": [
    {
     "name": "stdout",
     "output_type": "stream",
     "text": [
      "0 datasets para agregar del catalogo modernizacion\n",
      "238 datasets para agregar del catalogo sspm\n",
      "distribution 34.2 no tiene `field`\n",
      "0 datasets para agregar del catalogo sspmi\n",
      "CPU times: user 1min 35s, sys: 6.23 s, total: 1min 42s\n",
      "Wall time: 1min 43s\n"
     ]
    }
   ],
   "source": [
    "%time df = generate_dump(merged=True)"
   ]
  },
  {
   "cell_type": "code",
   "execution_count": 12,
   "metadata": {},
   "outputs": [
    {
     "name": "stdout",
     "output_type": "stream",
     "text": [
      "aa\n"
     ]
    }
   ],
   "source": [
    "if \"indice_tiempo\" in df.columns:\n",
    "    print(\"aa\")"
   ]
  },
  {
   "cell_type": "code",
   "execution_count": 11,
   "metadata": {},
   "outputs": [
    {
     "data": {
      "text/plain": [
       "0          1993-01-01\n",
       "1          1994-01-01\n",
       "2          1995-01-01\n",
       "3          1996-01-01\n",
       "4          1997-01-01\n",
       "5          1998-01-01\n",
       "6          1999-01-01\n",
       "7          2000-01-01\n",
       "8          2001-01-01\n",
       "9          2002-01-01\n",
       "10         2003-01-01\n",
       "11         2004-01-01\n",
       "12         2005-01-01\n",
       "13         2006-01-01\n",
       "14         2007-01-01\n",
       "15         2008-01-01\n",
       "16         2009-01-01\n",
       "17         2010-01-01\n",
       "18         2011-01-01\n",
       "19         2012-01-01\n",
       "20         1993-01-01\n",
       "21         1994-01-01\n",
       "22         1995-01-01\n",
       "23         1996-01-01\n",
       "24         1997-01-01\n",
       "25         1998-01-01\n",
       "26         1999-01-01\n",
       "27         2000-01-01\n",
       "28         2001-01-01\n",
       "29         2002-01-01\n",
       "              ...    \n",
       "1125908    2011-07-01\n",
       "1125909    2011-08-01\n",
       "1125910    2011-09-01\n",
       "1125911    2011-10-01\n",
       "1125912    2011-11-01\n",
       "1125913    2011-12-01\n",
       "1125914    2012-01-01\n",
       "1125915    2012-02-01\n",
       "1125916    2012-03-01\n",
       "1125917    2012-04-01\n",
       "1125918    2012-05-01\n",
       "1125919    2012-06-01\n",
       "1125920    2012-07-01\n",
       "1125921    2012-08-01\n",
       "1125922    2012-09-01\n",
       "1125923    2012-10-01\n",
       "1125924    2012-11-01\n",
       "1125925    2012-12-01\n",
       "1125926    2013-01-01\n",
       "1125927    2013-02-01\n",
       "1125928    2013-03-01\n",
       "1125929    2013-04-01\n",
       "1125930    2013-05-01\n",
       "1125931    2013-06-01\n",
       "1125932    2013-07-01\n",
       "1125933    2013-08-01\n",
       "1125934    2013-09-01\n",
       "1125935    2013-10-01\n",
       "1125936    2013-11-01\n",
       "1125937    2013-12-01\n",
       "Name: indice_tiempo, Length: 1125938, dtype: object"
      ]
     },
     "execution_count": 11,
     "metadata": {},
     "output_type": "execute_result"
    }
   ],
   "source": [
    "df.indice_tiempo.dt.strftime(\"%Y-%m-%d\")"
   ]
  },
  {
   "cell_type": "code",
   "execution_count": 6,
   "metadata": {},
   "outputs": [
    {
     "name": "stdout",
     "output_type": "stream",
     "text": [
      "catalog_id object\n",
      "dataset_id object\n",
      "distribution_id object\n",
      "serie_id object\n",
      "indice_tiempo datetime64[ns]\n",
      "indice_tiempo_frecuencia object\n",
      "valor float64\n",
      "serie_titulo object\n",
      "serie_unidades object\n",
      "serie_descripcion object\n",
      "distribution_titulo object\n",
      "distribution_descripcion object\n",
      "dataset_responsable object\n",
      "dataset_fuente object\n",
      "dataset_titulo object\n",
      "dataset_descripcion object\n"
     ]
    }
   ],
   "source": [
    "for col in df.columns:\n",
    "    print(col, df[col].dtype)"
   ]
  },
  {
   "cell_type": "code",
   "execution_count": null,
   "metadata": {
    "collapsed": true
   },
   "outputs": [],
   "source": [
    "df_stata = df"
   ]
  },
  {
   "cell_type": "code",
   "execution_count": null,
   "metadata": {
    "collapsed": true
   },
   "outputs": [],
   "source": [
    "for col in df_stata.columns:\n",
    "\n",
    "    # limita el largo de los campos de texto\n",
    "    if df_stata[col].dtype.name == \"object\":\n",
    "        df_stata[col] = df_stata[col].astype(unicode).str[:str_limit]\n",
    "\n",
    "    # elimina los valores infinitos de los tipos decimales\n",
    "    elif \"float\" in df_stata[col].dtype.name:\n",
    "        df_stata[col] = df_stata[col].apply(\n",
    "            lambda x: np.nan if np.isinf(x) else x)\n",
    "\n",
    "# df_stata.to_stata(path, write_index=False)"
   ]
  },
  {
   "cell_type": "code",
   "execution_count": null,
   "metadata": {
    "collapsed": true
   },
   "outputs": [],
   "source": []
  },
  {
   "cell_type": "code",
   "execution_count": null,
   "metadata": {
    "collapsed": true
   },
   "outputs": [],
   "source": []
  },
  {
   "cell_type": "code",
   "execution_count": null,
   "metadata": {
    "collapsed": true
   },
   "outputs": [],
   "source": []
  },
  {
   "cell_type": "code",
   "execution_count": null,
   "metadata": {
    "collapsed": true
   },
   "outputs": [],
   "source": []
  },
  {
   "cell_type": "code",
   "execution_count": null,
   "metadata": {
    "collapsed": true
   },
   "outputs": [],
   "source": []
  },
  {
   "cell_type": "code",
   "execution_count": null,
   "metadata": {
    "collapsed": true
   },
   "outputs": [],
   "source": []
  },
  {
   "cell_type": "code",
   "execution_count": 5,
   "metadata": {},
   "outputs": [
    {
     "data": {
      "text/plain": [
       "2.240693368"
      ]
     },
     "execution_count": 5,
     "metadata": {},
     "output_type": "execute_result"
    }
   ],
   "source": [
    "(asizeof.asizeof(df_values) + asizeof.asizeof(df_distrib_metadata)) / 1000000000.0"
   ]
  },
  {
   "cell_type": "code",
   "execution_count": 5,
   "metadata": {},
   "outputs": [
    {
     "data": {
      "text/plain": [
       "5.208717272"
      ]
     },
     "execution_count": 5,
     "metadata": {},
     "output_type": "execute_result"
    }
   ],
   "source": [
    "asizeof.asizeof(df) / 1000000000.0"
   ]
  },
  {
   "cell_type": "code",
   "execution_count": 11,
   "metadata": {},
   "outputs": [
    {
     "data": {
      "text/plain": [
       "409845"
      ]
     },
     "execution_count": 11,
     "metadata": {},
     "output_type": "execute_result"
    }
   ],
   "source": [
    "len(df[df[\"indice_tiempo_frecuencia\"] == \"R/P1D\"])"
   ]
  },
  {
   "cell_type": "code",
   "execution_count": 7,
   "metadata": {},
   "outputs": [
    {
     "data": {
      "text/html": [
       "<div>\n",
       "<style>\n",
       "    .dataframe thead tr:only-child th {\n",
       "        text-align: right;\n",
       "    }\n",
       "\n",
       "    .dataframe thead th {\n",
       "        text-align: left;\n",
       "    }\n",
       "\n",
       "    .dataframe tbody tr th {\n",
       "        vertical-align: top;\n",
       "    }\n",
       "</style>\n",
       "<table border=\"1\" class=\"dataframe\">\n",
       "  <thead>\n",
       "    <tr style=\"text-align: right;\">\n",
       "      <th></th>\n",
       "      <th>catalog_id</th>\n",
       "      <th>dataset_id</th>\n",
       "      <th>distribucion_id</th>\n",
       "      <th>serie_id</th>\n",
       "      <th>indice_tiempo</th>\n",
       "      <th>valor</th>\n",
       "      <th>serie_titulo</th>\n",
       "      <th>serie_unidades</th>\n",
       "      <th>serie_descripcion</th>\n",
       "      <th>distribucion_titulo</th>\n",
       "      <th>distribucion_descripcion</th>\n",
       "      <th>dataset_responsable</th>\n",
       "      <th>dataset_fuente</th>\n",
       "      <th>dataset_titulo</th>\n",
       "      <th>dataset_descripcion</th>\n",
       "    </tr>\n",
       "    <tr>\n",
       "      <th>indice_tiempo_frecuencia</th>\n",
       "      <th></th>\n",
       "      <th></th>\n",
       "      <th></th>\n",
       "      <th></th>\n",
       "      <th></th>\n",
       "      <th></th>\n",
       "      <th></th>\n",
       "      <th></th>\n",
       "      <th></th>\n",
       "      <th></th>\n",
       "      <th></th>\n",
       "      <th></th>\n",
       "      <th></th>\n",
       "      <th></th>\n",
       "      <th></th>\n",
       "    </tr>\n",
       "  </thead>\n",
       "  <tbody>\n",
       "    <tr>\n",
       "      <th>R/P1D</th>\n",
       "      <td>409845</td>\n",
       "      <td>409845</td>\n",
       "      <td>409845</td>\n",
       "      <td>409845</td>\n",
       "      <td>409845</td>\n",
       "      <td>331095</td>\n",
       "      <td>409845</td>\n",
       "      <td>409845</td>\n",
       "      <td>409845</td>\n",
       "      <td>409845</td>\n",
       "      <td>409845</td>\n",
       "      <td>409845</td>\n",
       "      <td>409845</td>\n",
       "      <td>409845</td>\n",
       "      <td>409845</td>\n",
       "    </tr>\n",
       "    <tr>\n",
       "      <th>R/P1M</th>\n",
       "      <td>470112</td>\n",
       "      <td>470112</td>\n",
       "      <td>470112</td>\n",
       "      <td>470112</td>\n",
       "      <td>470112</td>\n",
       "      <td>466610</td>\n",
       "      <td>470112</td>\n",
       "      <td>470112</td>\n",
       "      <td>470112</td>\n",
       "      <td>470112</td>\n",
       "      <td>470112</td>\n",
       "      <td>470112</td>\n",
       "      <td>470112</td>\n",
       "      <td>470112</td>\n",
       "      <td>470112</td>\n",
       "    </tr>\n",
       "    <tr>\n",
       "      <th>R/P1Y</th>\n",
       "      <td>53306</td>\n",
       "      <td>53306</td>\n",
       "      <td>53306</td>\n",
       "      <td>53306</td>\n",
       "      <td>53306</td>\n",
       "      <td>53112</td>\n",
       "      <td>53306</td>\n",
       "      <td>53299</td>\n",
       "      <td>53306</td>\n",
       "      <td>53306</td>\n",
       "      <td>53306</td>\n",
       "      <td>53306</td>\n",
       "      <td>53306</td>\n",
       "      <td>53306</td>\n",
       "      <td>53306</td>\n",
       "    </tr>\n",
       "    <tr>\n",
       "      <th>R/P3M</th>\n",
       "      <td>192798</td>\n",
       "      <td>192798</td>\n",
       "      <td>192798</td>\n",
       "      <td>192798</td>\n",
       "      <td>192798</td>\n",
       "      <td>191593</td>\n",
       "      <td>192798</td>\n",
       "      <td>192798</td>\n",
       "      <td>192798</td>\n",
       "      <td>192798</td>\n",
       "      <td>192798</td>\n",
       "      <td>192798</td>\n",
       "      <td>192798</td>\n",
       "      <td>192798</td>\n",
       "      <td>192798</td>\n",
       "    </tr>\n",
       "    <tr>\n",
       "      <th>R/P6M</th>\n",
       "      <td>1196</td>\n",
       "      <td>1196</td>\n",
       "      <td>1196</td>\n",
       "      <td>1196</td>\n",
       "      <td>1196</td>\n",
       "      <td>1196</td>\n",
       "      <td>1196</td>\n",
       "      <td>1196</td>\n",
       "      <td>1196</td>\n",
       "      <td>1196</td>\n",
       "      <td>1196</td>\n",
       "      <td>1196</td>\n",
       "      <td>1196</td>\n",
       "      <td>1196</td>\n",
       "      <td>1196</td>\n",
       "    </tr>\n",
       "  </tbody>\n",
       "</table>\n",
       "</div>"
      ],
      "text/plain": [
       "                          catalog_id  dataset_id  distribucion_id  serie_id  \\\n",
       "indice_tiempo_frecuencia                                                      \n",
       "R/P1D                         409845      409845           409845    409845   \n",
       "R/P1M                         470112      470112           470112    470112   \n",
       "R/P1Y                          53306       53306            53306     53306   \n",
       "R/P3M                         192798      192798           192798    192798   \n",
       "R/P6M                           1196        1196             1196      1196   \n",
       "\n",
       "                          indice_tiempo   valor  serie_titulo  serie_unidades  \\\n",
       "indice_tiempo_frecuencia                                                        \n",
       "R/P1D                            409845  331095        409845          409845   \n",
       "R/P1M                            470112  466610        470112          470112   \n",
       "R/P1Y                             53306   53112         53306           53299   \n",
       "R/P3M                            192798  191593        192798          192798   \n",
       "R/P6M                              1196    1196          1196            1196   \n",
       "\n",
       "                          serie_descripcion  distribucion_titulo  \\\n",
       "indice_tiempo_frecuencia                                           \n",
       "R/P1D                                409845               409845   \n",
       "R/P1M                                470112               470112   \n",
       "R/P1Y                                 53306                53306   \n",
       "R/P3M                                192798               192798   \n",
       "R/P6M                                  1196                 1196   \n",
       "\n",
       "                          distribucion_descripcion  dataset_responsable  \\\n",
       "indice_tiempo_frecuencia                                                  \n",
       "R/P1D                                       409845               409845   \n",
       "R/P1M                                       470112               470112   \n",
       "R/P1Y                                        53306                53306   \n",
       "R/P3M                                       192798               192798   \n",
       "R/P6M                                         1196                 1196   \n",
       "\n",
       "                          dataset_fuente  dataset_titulo  dataset_descripcion  \n",
       "indice_tiempo_frecuencia                                                       \n",
       "R/P1D                             409845          409845               409845  \n",
       "R/P1M                             470112          470112               470112  \n",
       "R/P1Y                              53306           53306                53306  \n",
       "R/P3M                             192798          192798               192798  \n",
       "R/P6M                               1196            1196                 1196  "
      ]
     },
     "execution_count": 7,
     "metadata": {},
     "output_type": "execute_result"
    }
   ],
   "source": [
    "df.groupby(\"indice_tiempo_frecuencia\").count()"
   ]
  },
  {
   "cell_type": "code",
   "execution_count": 36,
   "metadata": {
    "collapsed": true
   },
   "outputs": [],
   "source": [
    "def remove_leading_nans(df, serie_id):\n",
    "    df_serie = df[df.serie_id == serie_id]\n",
    "    first_positive = df_serie[df_serie.valor.notnull()].index[0]\n",
    "    df[df.serie_id == serie_id] = df_serie.loc[first_positive:]"
   ]
  },
  {
   "cell_type": "code",
   "execution_count": 37,
   "metadata": {},
   "outputs": [
    {
     "ename": "IndexError",
     "evalue": "index 0 is out of bounds for axis 0 with size 0",
     "output_type": "error",
     "traceback": [
      "\u001b[0;31m---------------------------------------------------------------------------\u001b[0m",
      "\u001b[0;31mIndexError\u001b[0m                                Traceback (most recent call last)",
      "\u001b[0;32m<ipython-input-37-8625fce1079e>\u001b[0m in \u001b[0;36m<module>\u001b[0;34m()\u001b[0m\n\u001b[0;32m----> 1\u001b[0;31m \u001b[0mget_ipython\u001b[0m\u001b[0;34m(\u001b[0m\u001b[0;34m)\u001b[0m\u001b[0;34m.\u001b[0m\u001b[0mrun_cell_magic\u001b[0m\u001b[0;34m(\u001b[0m\u001b[0;34mu'time'\u001b[0m\u001b[0;34m,\u001b[0m \u001b[0;34mu''\u001b[0m\u001b[0;34m,\u001b[0m \u001b[0;34mu'for serie_id in df_sorted.serie_id.unique():\\n    remove_leading_nans(df_sorted, serie_id)'\u001b[0m\u001b[0;34m)\u001b[0m\u001b[0;34m\u001b[0m\u001b[0m\n\u001b[0m",
      "\u001b[0;32m/Users/abenassi/anaconda/envs/series-tiempo/lib/python2.7/site-packages/IPython/core/interactiveshell.pyc\u001b[0m in \u001b[0;36mrun_cell_magic\u001b[0;34m(self, magic_name, line, cell)\u001b[0m\n\u001b[1;32m   2113\u001b[0m             \u001b[0mmagic_arg_s\u001b[0m \u001b[0;34m=\u001b[0m \u001b[0mself\u001b[0m\u001b[0;34m.\u001b[0m\u001b[0mvar_expand\u001b[0m\u001b[0;34m(\u001b[0m\u001b[0mline\u001b[0m\u001b[0;34m,\u001b[0m \u001b[0mstack_depth\u001b[0m\u001b[0;34m)\u001b[0m\u001b[0;34m\u001b[0m\u001b[0m\n\u001b[1;32m   2114\u001b[0m             \u001b[0;32mwith\u001b[0m \u001b[0mself\u001b[0m\u001b[0;34m.\u001b[0m\u001b[0mbuiltin_trap\u001b[0m\u001b[0;34m:\u001b[0m\u001b[0;34m\u001b[0m\u001b[0m\n\u001b[0;32m-> 2115\u001b[0;31m                 \u001b[0mresult\u001b[0m \u001b[0;34m=\u001b[0m \u001b[0mfn\u001b[0m\u001b[0;34m(\u001b[0m\u001b[0mmagic_arg_s\u001b[0m\u001b[0;34m,\u001b[0m \u001b[0mcell\u001b[0m\u001b[0;34m)\u001b[0m\u001b[0;34m\u001b[0m\u001b[0m\n\u001b[0m\u001b[1;32m   2116\u001b[0m             \u001b[0;32mreturn\u001b[0m \u001b[0mresult\u001b[0m\u001b[0;34m\u001b[0m\u001b[0m\n\u001b[1;32m   2117\u001b[0m \u001b[0;34m\u001b[0m\u001b[0m\n",
      "\u001b[0;32m<decorator-gen-59>\u001b[0m in \u001b[0;36mtime\u001b[0;34m(self, line, cell, local_ns)\u001b[0m\n",
      "\u001b[0;32m/Users/abenassi/anaconda/envs/series-tiempo/lib/python2.7/site-packages/IPython/core/magic.pyc\u001b[0m in \u001b[0;36m<lambda>\u001b[0;34m(f, *a, **k)\u001b[0m\n\u001b[1;32m    186\u001b[0m     \u001b[0;31m# but it's overkill for just that one bit of state.\u001b[0m\u001b[0;34m\u001b[0m\u001b[0;34m\u001b[0m\u001b[0m\n\u001b[1;32m    187\u001b[0m     \u001b[0;32mdef\u001b[0m \u001b[0mmagic_deco\u001b[0m\u001b[0;34m(\u001b[0m\u001b[0marg\u001b[0m\u001b[0;34m)\u001b[0m\u001b[0;34m:\u001b[0m\u001b[0;34m\u001b[0m\u001b[0m\n\u001b[0;32m--> 188\u001b[0;31m         \u001b[0mcall\u001b[0m \u001b[0;34m=\u001b[0m \u001b[0;32mlambda\u001b[0m \u001b[0mf\u001b[0m\u001b[0;34m,\u001b[0m \u001b[0;34m*\u001b[0m\u001b[0ma\u001b[0m\u001b[0;34m,\u001b[0m \u001b[0;34m**\u001b[0m\u001b[0mk\u001b[0m\u001b[0;34m:\u001b[0m \u001b[0mf\u001b[0m\u001b[0;34m(\u001b[0m\u001b[0;34m*\u001b[0m\u001b[0ma\u001b[0m\u001b[0;34m,\u001b[0m \u001b[0;34m**\u001b[0m\u001b[0mk\u001b[0m\u001b[0;34m)\u001b[0m\u001b[0;34m\u001b[0m\u001b[0m\n\u001b[0m\u001b[1;32m    189\u001b[0m \u001b[0;34m\u001b[0m\u001b[0m\n\u001b[1;32m    190\u001b[0m         \u001b[0;32mif\u001b[0m \u001b[0mcallable\u001b[0m\u001b[0;34m(\u001b[0m\u001b[0marg\u001b[0m\u001b[0;34m)\u001b[0m\u001b[0;34m:\u001b[0m\u001b[0;34m\u001b[0m\u001b[0m\n",
      "\u001b[0;32m/Users/abenassi/anaconda/envs/series-tiempo/lib/python2.7/site-packages/IPython/core/magics/execution.pyc\u001b[0m in \u001b[0;36mtime\u001b[0;34m(self, line, cell, local_ns)\u001b[0m\n\u001b[1;32m   1183\u001b[0m         \u001b[0;32melse\u001b[0m\u001b[0;34m:\u001b[0m\u001b[0;34m\u001b[0m\u001b[0m\n\u001b[1;32m   1184\u001b[0m             \u001b[0mst\u001b[0m \u001b[0;34m=\u001b[0m \u001b[0mclock2\u001b[0m\u001b[0;34m(\u001b[0m\u001b[0;34m)\u001b[0m\u001b[0;34m\u001b[0m\u001b[0m\n\u001b[0;32m-> 1185\u001b[0;31m             \u001b[0;32mexec\u001b[0m\u001b[0;34m(\u001b[0m\u001b[0mcode\u001b[0m\u001b[0;34m,\u001b[0m \u001b[0mglob\u001b[0m\u001b[0;34m,\u001b[0m \u001b[0mlocal_ns\u001b[0m\u001b[0;34m)\u001b[0m\u001b[0;34m\u001b[0m\u001b[0m\n\u001b[0m\u001b[1;32m   1186\u001b[0m             \u001b[0mend\u001b[0m \u001b[0;34m=\u001b[0m \u001b[0mclock2\u001b[0m\u001b[0;34m(\u001b[0m\u001b[0;34m)\u001b[0m\u001b[0;34m\u001b[0m\u001b[0m\n\u001b[1;32m   1187\u001b[0m             \u001b[0mout\u001b[0m \u001b[0;34m=\u001b[0m \u001b[0mNone\u001b[0m\u001b[0;34m\u001b[0m\u001b[0m\n",
      "\u001b[0;32m<timed exec>\u001b[0m in \u001b[0;36m<module>\u001b[0;34m()\u001b[0m\n",
      "\u001b[0;32m<ipython-input-36-d8c167d9736d>\u001b[0m in \u001b[0;36mremove_leading_nans\u001b[0;34m(df, serie_id)\u001b[0m\n\u001b[1;32m      1\u001b[0m \u001b[0;32mdef\u001b[0m \u001b[0mremove_leading_nans\u001b[0m\u001b[0;34m(\u001b[0m\u001b[0mdf\u001b[0m\u001b[0;34m,\u001b[0m \u001b[0mserie_id\u001b[0m\u001b[0;34m)\u001b[0m\u001b[0;34m:\u001b[0m\u001b[0;34m\u001b[0m\u001b[0m\n\u001b[1;32m      2\u001b[0m     \u001b[0mdf_serie\u001b[0m \u001b[0;34m=\u001b[0m \u001b[0mdf\u001b[0m\u001b[0;34m[\u001b[0m\u001b[0mdf\u001b[0m\u001b[0;34m.\u001b[0m\u001b[0mserie_id\u001b[0m \u001b[0;34m==\u001b[0m \u001b[0mserie_id\u001b[0m\u001b[0;34m]\u001b[0m\u001b[0;34m\u001b[0m\u001b[0m\n\u001b[0;32m----> 3\u001b[0;31m     \u001b[0mfirst_positive\u001b[0m \u001b[0;34m=\u001b[0m \u001b[0mdf_serie\u001b[0m\u001b[0;34m[\u001b[0m\u001b[0mdf_serie\u001b[0m\u001b[0;34m.\u001b[0m\u001b[0mvalor\u001b[0m\u001b[0;34m.\u001b[0m\u001b[0mnotnull\u001b[0m\u001b[0;34m(\u001b[0m\u001b[0;34m)\u001b[0m\u001b[0;34m]\u001b[0m\u001b[0;34m.\u001b[0m\u001b[0mindex\u001b[0m\u001b[0;34m[\u001b[0m\u001b[0;36m0\u001b[0m\u001b[0;34m]\u001b[0m\u001b[0;34m\u001b[0m\u001b[0m\n\u001b[0m\u001b[1;32m      4\u001b[0m     \u001b[0mdf\u001b[0m\u001b[0;34m[\u001b[0m\u001b[0mdf\u001b[0m\u001b[0;34m.\u001b[0m\u001b[0mserie_id\u001b[0m \u001b[0;34m==\u001b[0m \u001b[0mserie_id\u001b[0m\u001b[0;34m]\u001b[0m \u001b[0;34m=\u001b[0m \u001b[0mdf_serie\u001b[0m\u001b[0;34m.\u001b[0m\u001b[0mloc\u001b[0m\u001b[0;34m[\u001b[0m\u001b[0mfirst_positive\u001b[0m\u001b[0;34m:\u001b[0m\u001b[0;34m]\u001b[0m\u001b[0;34m\u001b[0m\u001b[0m\n",
      "\u001b[0;32m/Users/abenassi/anaconda/envs/series-tiempo/lib/python2.7/site-packages/pandas/core/indexes/base.pyc\u001b[0m in \u001b[0;36m__getitem__\u001b[0;34m(self, key)\u001b[0m\n\u001b[1;32m   1687\u001b[0m \u001b[0;34m\u001b[0m\u001b[0m\n\u001b[1;32m   1688\u001b[0m         \u001b[0;32mif\u001b[0m \u001b[0mis_scalar\u001b[0m\u001b[0;34m(\u001b[0m\u001b[0mkey\u001b[0m\u001b[0;34m)\u001b[0m\u001b[0;34m:\u001b[0m\u001b[0;34m\u001b[0m\u001b[0m\n\u001b[0;32m-> 1689\u001b[0;31m             \u001b[0;32mreturn\u001b[0m \u001b[0mgetitem\u001b[0m\u001b[0;34m(\u001b[0m\u001b[0mkey\u001b[0m\u001b[0;34m)\u001b[0m\u001b[0;34m\u001b[0m\u001b[0m\n\u001b[0m\u001b[1;32m   1690\u001b[0m \u001b[0;34m\u001b[0m\u001b[0m\n\u001b[1;32m   1691\u001b[0m         \u001b[0;32mif\u001b[0m \u001b[0misinstance\u001b[0m\u001b[0;34m(\u001b[0m\u001b[0mkey\u001b[0m\u001b[0;34m,\u001b[0m \u001b[0mslice\u001b[0m\u001b[0;34m)\u001b[0m\u001b[0;34m:\u001b[0m\u001b[0;34m\u001b[0m\u001b[0m\n",
      "\u001b[0;31mIndexError\u001b[0m: index 0 is out of bounds for axis 0 with size 0"
     ]
    }
   ],
   "source": [
    "%%time\n",
    "for serie_id in df_sorted.serie_id.unique():\n",
    "    remove_leading_nans(df_sorted, serie_id)"
   ]
  },
  {
   "cell_type": "code",
   "execution_count": null,
   "metadata": {
    "collapsed": true
   },
   "outputs": [],
   "source": [
    "len(df_sorted)"
   ]
  },
  {
   "cell_type": "code",
   "execution_count": 29,
   "metadata": {
    "collapsed": true
   },
   "outputs": [],
   "source": [
    "df[df.serie_id == \"149.1_TL_INDIIOS_OCTU_0_21\"] = df[df.serie_id == \"149.1_TL_INDIIOS_OCTU_0_21\"].loc[first:]"
   ]
  },
  {
   "cell_type": "code",
   "execution_count": 23,
   "metadata": {},
   "outputs": [
    {
     "name": "stderr",
     "output_type": "stream",
     "text": [
      "/Users/abenassi/anaconda/envs/series-tiempo/lib/python2.7/site-packages/ipykernel_launcher.py:1: UserWarning: Boolean Series key will be reindexed to match DataFrame index.\n",
      "  \"\"\"Entry point for launching an IPython kernel.\n"
     ]
    }
   ],
   "source": [
    "first = df[df.serie_id == \"149.1_TL_INDIIOS_OCTU_0_21\"][df.valor.notnull()].index[0]"
   ]
  },
  {
   "cell_type": "markdown",
   "metadata": {},
   "source": [
    "## Genero resumen de series"
   ]
  },
  {
   "cell_type": "code",
   "execution_count": 14,
   "metadata": {},
   "outputs": [],
   "source": [
    "drop_cols = [\"indice_tiempo\", \"valor\"]\n",
    "index_cols = [\"catalog_id\", \"dataset_id\", \"distribution_id\", \"serie_id\"]\n",
    "series_cols = df.columns.drop(drop_cols)\n",
    "series_group = df.groupby(index_cols)"
   ]
  },
  {
   "cell_type": "code",
   "execution_count": 15,
   "metadata": {
    "collapsed": true
   },
   "outputs": [],
   "source": [
    "df_series = df.drop(drop_cols, axis=1).drop_duplicates().set_index(index_cols)"
   ]
  },
  {
   "cell_type": "code",
   "execution_count": 16,
   "metadata": {
    "collapsed": true
   },
   "outputs": [],
   "source": [
    "def _is_series_updated(row):\n",
    "    index_freq = row[\"indice_tiempo_frecuencia\"]\n",
    "    period_days = parse_repeating_time_interval_to_days(index_freq)\n",
    "    periods_tolerance = {\n",
    "        \"R/P1Y\": 2,\n",
    "        \"R/P6M\": 2,\n",
    "        \"R/P3M\": 2,\n",
    "        \"R/P1M\": 3,\n",
    "        \"R/P1D\": 14\n",
    "    }\n",
    "    days_tolerance = periods_tolerance.get(index_freq, 2) * period_days\n",
    "    return row[\"serie_dias_no_cubiertos\"] < days_tolerance    "
   ]
  },
  {
   "cell_type": "code",
   "execution_count": 17,
   "metadata": {
    "collapsed": true
   },
   "outputs": [],
   "source": [
    "def _get_serie_valor_anterior_anio(series_dataframe):\n",
    "    series = pd.Series(list(series_dataframe.valor), list(\n",
    "        series_dataframe.indice_tiempo)).sort_index()\n",
    "    return series.get(series.index[-1] - pd.DateOffset(years=1))"
   ]
  },
  {
   "cell_type": "code",
   "execution_count": 18,
   "metadata": {
    "collapsed": true
   },
   "outputs": [],
   "source": [
    "# CALCULA INDICADORES resumen sobre las series\n",
    "# rango temporal de la serie\n",
    "df_series[\"serie_indice_inicio\"] = series_group[\"indice_tiempo\"].min()\n",
    "df_series[\"serie_indice_final\"] = series_group[\"indice_tiempo\"].max()\n",
    "df_series[\"serie_valores_cant\"] = series_group[\"indice_tiempo\"].count()\n",
    "\n",
    "# estado de actualización de los datos\n",
    "# calcula días que pasaron por encima de período cubierto por datos\n",
    "df_series[\"serie_dias_no_cubiertos\"] = df_series.apply(\n",
    "    lambda x: (pd.datetime.now() - pd.to_datetime(x[\n",
    "        \"serie_indice_final\"]).to_period(\n",
    "        freq_iso_to_pandas(x[\n",
    "            \"indice_tiempo_frecuencia\"],\n",
    "            how=\"end\")).to_timestamp(how=\"end\")).days,\n",
    "    axis=1)\n",
    "# si pasaron 2 períodos no cubiertos por datos, serie está desactualizada\n",
    "df_series[\"serie_actualizada\"] = df_series.apply(\n",
    "    _is_series_updated, axis=1)\n",
    "\n",
    "# valores representativos nominales\n",
    "df_series[\"serie_valor_ultimo\"] = series_group.apply(\n",
    "    lambda x: x.loc[x.indice_tiempo.argmax(), \"valor\"])\n",
    "df_series[\"serie_valor_anterior\"] = series_group.apply(\n",
    "    lambda x: pd.Series(list(x.valor), list(\n",
    "        x.indice_tiempo)).sort_index()[-2]\n",
    ")\n",
    "df_series[\"serie_valor_anterior_anio\"] = series_group.apply(\n",
    "    _get_serie_valor_anterior_anio)\n",
    "\n",
    "# valores representativos en variación porcentual\n",
    "df_series[\"serie_var_pct_anterior\"] = df_series[\n",
    "    \"serie_valor_ultimo\"] / df_series[\"serie_valor_anterior\"] - 1\n",
    "df_series[\"serie_var_pct_anterior_anio\"] = df_series[\n",
    "    \"serie_valor_ultimo\"] / df_series[\"serie_valor_anterior_anio\"] - 1"
   ]
  },
  {
   "cell_type": "code",
   "execution_count": 19,
   "metadata": {
    "collapsed": true
   },
   "outputs": [],
   "source": [
    "group_fuentes = df_series.groupby(\"dataset_fuente\")"
   ]
  },
  {
   "cell_type": "code",
   "execution_count": 20,
   "metadata": {
    "collapsed": true
   },
   "outputs": [],
   "source": [
    "df_fuentes_valores = group_fuentes.sum()[[\"serie_valores_cant\"]].rename(columns={\"serie_valores_cant\": \"valores_cant\"})"
   ]
  },
  {
   "cell_type": "code",
   "execution_count": 21,
   "metadata": {
    "collapsed": true
   },
   "outputs": [],
   "source": [
    "df_fuentes_series = group_fuentes.count()[[\"serie_titulo\"]].rename(columns={\"serie_titulo\": \"series_cant\"})"
   ]
  },
  {
   "cell_type": "code",
   "execution_count": 22,
   "metadata": {},
   "outputs": [
    {
     "data": {
      "text/html": [
       "<div>\n",
       "<style>\n",
       "    .dataframe thead tr:only-child th {\n",
       "        text-align: right;\n",
       "    }\n",
       "\n",
       "    .dataframe thead th {\n",
       "        text-align: left;\n",
       "    }\n",
       "\n",
       "    .dataframe tbody tr th {\n",
       "        vertical-align: top;\n",
       "    }\n",
       "</style>\n",
       "<table border=\"1\" class=\"dataframe\">\n",
       "  <thead>\n",
       "    <tr style=\"text-align: right;\">\n",
       "      <th></th>\n",
       "      <th>fecha_ultimo_valor</th>\n",
       "    </tr>\n",
       "    <tr>\n",
       "      <th>dataset_fuente</th>\n",
       "      <th></th>\n",
       "    </tr>\n",
       "  </thead>\n",
       "  <tbody>\n",
       "    <tr>\n",
       "      <th>Administración Nacional de la Seguridad Social (ANSES)</th>\n",
       "      <td>2017-08-01</td>\n",
       "    </tr>\n",
       "    <tr>\n",
       "      <th>BCRA, MAE, Rofex y Bloomberg</th>\n",
       "      <td>2017-08-31</td>\n",
       "    </tr>\n",
       "    <tr>\n",
       "      <th>Banco Central de la República Argentina (BCRA)</th>\n",
       "      <td>2017-09-26</td>\n",
       "    </tr>\n",
       "    <tr>\n",
       "      <th>Bancos Centrales</th>\n",
       "      <td>2017-09-14</td>\n",
       "    </tr>\n",
       "    <tr>\n",
       "      <th>Bloomberg</th>\n",
       "      <td>2017-09-14</td>\n",
       "    </tr>\n",
       "    <tr>\n",
       "      <th>Cámara Argentina de Fondos Comunes de Inversión</th>\n",
       "      <td>2017-08-01</td>\n",
       "    </tr>\n",
       "    <tr>\n",
       "      <th>Fondo Monetario Internacional (FMI)</th>\n",
       "      <td>2017-06-01</td>\n",
       "    </tr>\n",
       "    <tr>\n",
       "      <th>Instituto Argentino de Mercado de Capitales (IAMC)</th>\n",
       "      <td>2017-08-31</td>\n",
       "    </tr>\n",
       "    <tr>\n",
       "      <th>Instituto Nacional de Estadística y Censos (INDEC)</th>\n",
       "      <td>2017-08-01</td>\n",
       "    </tr>\n",
       "    <tr>\n",
       "      <th>Ministerio de Agroindustria</th>\n",
       "      <td>2017-08-01</td>\n",
       "    </tr>\n",
       "    <tr>\n",
       "      <th>Ministerio de Hacienda</th>\n",
       "      <td>2017-09-14</td>\n",
       "    </tr>\n",
       "    <tr>\n",
       "      <th>Ministerio de Trabajo, Empleo y Seguridad Social</th>\n",
       "      <td>2018-07-01</td>\n",
       "    </tr>\n",
       "    <tr>\n",
       "      <th>Secretaría de Asuntos Económicos</th>\n",
       "      <td>1962-01-01</td>\n",
       "    </tr>\n",
       "  </tbody>\n",
       "</table>\n",
       "</div>"
      ],
      "text/plain": [
       "                                                   fecha_ultimo_valor\n",
       "dataset_fuente                                                       \n",
       "Administración Nacional de la Seguridad Social ...         2017-08-01\n",
       "BCRA, MAE, Rofex y Bloomberg                               2017-08-31\n",
       "Banco Central de la República Argentina (BCRA)             2017-09-26\n",
       "Bancos Centrales                                           2017-09-14\n",
       "Bloomberg                                                  2017-09-14\n",
       "Cámara Argentina de Fondos Comunes de Inversión            2017-08-01\n",
       "Fondo Monetario Internacional (FMI)                        2017-06-01\n",
       "Instituto Argentino de Mercado de Capitales (IAMC)         2017-08-31\n",
       "Instituto Nacional de Estadística y Censos (INDEC)         2017-08-01\n",
       "Ministerio de Agroindustria                                2017-08-01\n",
       "Ministerio de Hacienda                                     2017-09-14\n",
       "Ministerio de Trabajo, Empleo y Seguridad Social           2018-07-01\n",
       "Secretaría de Asuntos Económicos                           1962-01-01"
      ]
     },
     "execution_count": 22,
     "metadata": {},
     "output_type": "execute_result"
    }
   ],
   "source": [
    "group_fuentes.max()[[\"serie_indice_final\"]].rename(columns={\"serie_indice_final\": \"fecha_ultimo_valor\"})"
   ]
  },
  {
   "cell_type": "code",
   "execution_count": 23,
   "metadata": {},
   "outputs": [
    {
     "data": {
      "text/html": [
       "<div>\n",
       "<style>\n",
       "    .dataframe thead tr:only-child th {\n",
       "        text-align: right;\n",
       "    }\n",
       "\n",
       "    .dataframe thead th {\n",
       "        text-align: left;\n",
       "    }\n",
       "\n",
       "    .dataframe tbody tr th {\n",
       "        vertical-align: top;\n",
       "    }\n",
       "</style>\n",
       "<table border=\"1\" class=\"dataframe\">\n",
       "  <thead>\n",
       "    <tr style=\"text-align: right;\">\n",
       "      <th></th>\n",
       "      <th>fecha_primer_valor</th>\n",
       "    </tr>\n",
       "    <tr>\n",
       "      <th>dataset_fuente</th>\n",
       "      <th></th>\n",
       "    </tr>\n",
       "  </thead>\n",
       "  <tbody>\n",
       "    <tr>\n",
       "      <th>Administración Nacional de la Seguridad Social (ANSES)</th>\n",
       "      <td>1971-01-01</td>\n",
       "    </tr>\n",
       "    <tr>\n",
       "      <th>BCRA, MAE, Rofex y Bloomberg</th>\n",
       "      <td>2002-03-05</td>\n",
       "    </tr>\n",
       "    <tr>\n",
       "      <th>Banco Central de la República Argentina (BCRA)</th>\n",
       "      <td>1950-01-01</td>\n",
       "    </tr>\n",
       "    <tr>\n",
       "      <th>Bancos Centrales</th>\n",
       "      <td>2001-01-01</td>\n",
       "    </tr>\n",
       "    <tr>\n",
       "      <th>Bloomberg</th>\n",
       "      <td>1990-12-01</td>\n",
       "    </tr>\n",
       "    <tr>\n",
       "      <th>Cámara Argentina de Fondos Comunes de Inversión</th>\n",
       "      <td>2000-01-01</td>\n",
       "    </tr>\n",
       "    <tr>\n",
       "      <th>Fondo Monetario Internacional (FMI)</th>\n",
       "      <td>1980-01-01</td>\n",
       "    </tr>\n",
       "    <tr>\n",
       "      <th>Instituto Argentino de Mercado de Capitales (IAMC)</th>\n",
       "      <td>2004-10-04</td>\n",
       "    </tr>\n",
       "    <tr>\n",
       "      <th>Instituto Nacional de Estadística y Censos (INDEC)</th>\n",
       "      <td>1980-01-01</td>\n",
       "    </tr>\n",
       "    <tr>\n",
       "      <th>Ministerio de Agroindustria</th>\n",
       "      <td>1979-01-01</td>\n",
       "    </tr>\n",
       "    <tr>\n",
       "      <th>Ministerio de Hacienda</th>\n",
       "      <td>1940-01-01</td>\n",
       "    </tr>\n",
       "    <tr>\n",
       "      <th>Ministerio de Trabajo, Empleo y Seguridad Social</th>\n",
       "      <td>1965-01-01</td>\n",
       "    </tr>\n",
       "    <tr>\n",
       "      <th>Secretaría de Asuntos Económicos</th>\n",
       "      <td>1935-01-01</td>\n",
       "    </tr>\n",
       "  </tbody>\n",
       "</table>\n",
       "</div>"
      ],
      "text/plain": [
       "                                                   fecha_primer_valor\n",
       "dataset_fuente                                                       \n",
       "Administración Nacional de la Seguridad Social ...         1971-01-01\n",
       "BCRA, MAE, Rofex y Bloomberg                               2002-03-05\n",
       "Banco Central de la República Argentina (BCRA)             1950-01-01\n",
       "Bancos Centrales                                           2001-01-01\n",
       "Bloomberg                                                  1990-12-01\n",
       "Cámara Argentina de Fondos Comunes de Inversión            2000-01-01\n",
       "Fondo Monetario Internacional (FMI)                        1980-01-01\n",
       "Instituto Argentino de Mercado de Capitales (IAMC)         2004-10-04\n",
       "Instituto Nacional de Estadística y Censos (INDEC)         1980-01-01\n",
       "Ministerio de Agroindustria                                1979-01-01\n",
       "Ministerio de Hacienda                                     1940-01-01\n",
       "Ministerio de Trabajo, Empleo y Seguridad Social           1965-01-01\n",
       "Secretaría de Asuntos Económicos                           1935-01-01"
      ]
     },
     "execution_count": 23,
     "metadata": {},
     "output_type": "execute_result"
    }
   ],
   "source": [
    "group_fuentes.min()[[\"serie_indice_inicio\"]].rename(columns={\"serie_indice_inicio\": \"fecha_primer_valor\"})"
   ]
  },
  {
   "cell_type": "code",
   "execution_count": 24,
   "metadata": {},
   "outputs": [
    {
     "data": {
      "text/html": [
       "<div>\n",
       "<style>\n",
       "    .dataframe thead tr:only-child th {\n",
       "        text-align: right;\n",
       "    }\n",
       "\n",
       "    .dataframe thead th {\n",
       "        text-align: left;\n",
       "    }\n",
       "\n",
       "    .dataframe tbody tr th {\n",
       "        vertical-align: top;\n",
       "    }\n",
       "</style>\n",
       "<table border=\"1\" class=\"dataframe\">\n",
       "  <thead>\n",
       "    <tr style=\"text-align: right;\">\n",
       "      <th></th>\n",
       "      <th>series_cant</th>\n",
       "      <th>valores_cant</th>\n",
       "    </tr>\n",
       "    <tr>\n",
       "      <th>dataset_fuente</th>\n",
       "      <th></th>\n",
       "      <th></th>\n",
       "    </tr>\n",
       "  </thead>\n",
       "  <tbody>\n",
       "    <tr>\n",
       "      <th>Instituto Nacional de Estadística y Censos (INDEC)</th>\n",
       "      <td>5315</td>\n",
       "      <td>348844</td>\n",
       "    </tr>\n",
       "    <tr>\n",
       "      <th>Ministerio de Hacienda</th>\n",
       "      <td>1076</td>\n",
       "      <td>341052</td>\n",
       "    </tr>\n",
       "    <tr>\n",
       "      <th>Banco Central de la República Argentina (BCRA)</th>\n",
       "      <td>597</td>\n",
       "      <td>60377</td>\n",
       "    </tr>\n",
       "    <tr>\n",
       "      <th>Fondo Monetario Internacional (FMI)</th>\n",
       "      <td>381</td>\n",
       "      <td>79011</td>\n",
       "    </tr>\n",
       "    <tr>\n",
       "      <th>Bloomberg</th>\n",
       "      <td>259</td>\n",
       "      <td>148033</td>\n",
       "    </tr>\n",
       "    <tr>\n",
       "      <th>Ministerio de Agroindustria</th>\n",
       "      <td>151</td>\n",
       "      <td>13942</td>\n",
       "    </tr>\n",
       "    <tr>\n",
       "      <th>Ministerio de Trabajo, Empleo y Seguridad Social</th>\n",
       "      <td>129</td>\n",
       "      <td>19144</td>\n",
       "    </tr>\n",
       "    <tr>\n",
       "      <th>Secretaría de Asuntos Económicos</th>\n",
       "      <td>115</td>\n",
       "      <td>2996</td>\n",
       "    </tr>\n",
       "    <tr>\n",
       "      <th>Cámara Argentina de Fondos Comunes de Inversión</th>\n",
       "      <td>33</td>\n",
       "      <td>2919</td>\n",
       "    </tr>\n",
       "    <tr>\n",
       "      <th>BCRA, MAE, Rofex y Bloomberg</th>\n",
       "      <td>25</td>\n",
       "      <td>80201</td>\n",
       "    </tr>\n",
       "    <tr>\n",
       "      <th>Bancos Centrales</th>\n",
       "      <td>11</td>\n",
       "      <td>4630</td>\n",
       "    </tr>\n",
       "    <tr>\n",
       "      <th>Instituto Argentino de Mercado de Capitales (IAMC)</th>\n",
       "      <td>5</td>\n",
       "      <td>23575</td>\n",
       "    </tr>\n",
       "    <tr>\n",
       "      <th>Administración Nacional de la Seguridad Social (ANSES)</th>\n",
       "      <td>3</td>\n",
       "      <td>1214</td>\n",
       "    </tr>\n",
       "  </tbody>\n",
       "</table>\n",
       "</div>"
      ],
      "text/plain": [
       "                                                    series_cant  valores_cant\n",
       "dataset_fuente                                                               \n",
       "Instituto Nacional de Estadística y Censos (INDEC)         5315        348844\n",
       "Ministerio de Hacienda                                     1076        341052\n",
       "Banco Central de la República Argentina (BCRA)              597         60377\n",
       "Fondo Monetario Internacional (FMI)                         381         79011\n",
       "Bloomberg                                                   259        148033\n",
       "Ministerio de Agroindustria                                 151         13942\n",
       "Ministerio de Trabajo, Empleo y Seguridad Social            129         19144\n",
       "Secretaría de Asuntos Económicos                            115          2996\n",
       "Cámara Argentina de Fondos Comunes de Inversión              33          2919\n",
       "BCRA, MAE, Rofex y Bloomberg                                 25         80201\n",
       "Bancos Centrales                                             11          4630\n",
       "Instituto Argentino de Mercado de Capitales (IAMC)            5         23575\n",
       "Administración Nacional de la Seguridad Social ...            3          1214"
      ]
     },
     "execution_count": 24,
     "metadata": {},
     "output_type": "execute_result"
    }
   ],
   "source": [
    "pd.concat([df_fuentes_series, df_fuentes_valores], axis=1).sort_values(\"series_cant\", ascending=False)"
   ]
  },
  {
   "cell_type": "code",
   "execution_count": 4,
   "metadata": {
    "collapsed": true
   },
   "outputs": [],
   "source": [
    "df_series = generate_series_summary(df, [\"catalog_id\", \"dataset_id\", \"distribution_id\", \"serie_id\"], [\"indice_tiempo\", \"valor\"])"
   ]
  },
  {
   "cell_type": "code",
   "execution_count": 6,
   "metadata": {},
   "outputs": [
    {
     "name": "stdout",
     "output_type": "stream",
     "text": [
      "catalog_id\n",
      "dataset_id\n",
      "distribution_id\n",
      "serie_id\n",
      "indice_tiempo_frecuencia\n",
      "serie_titulo\n",
      "serie_unidades\n",
      "serie_descripcion\n",
      "distribution_titulo\n",
      "distribution_descripcion\n",
      "dataset_responsable\n",
      "dataset_fuente\n",
      "dataset_titulo\n",
      "dataset_descripcion\n",
      "serie_indice_inicio\n",
      "serie_indice_final\n",
      "serie_valores_cant\n",
      "serie_dias_no_cubiertos\n",
      "serie_actualizada\n",
      "serie_valor_ultimo\n",
      "serie_valor_anterior\n",
      "serie_var_pct_anterior\n"
     ]
    }
   ],
   "source": [
    "for col in df_series.columns:\n",
    "    print(col)"
   ]
  },
  {
   "cell_type": "code",
   "execution_count": null,
   "metadata": {
    "collapsed": true
   },
   "outputs": [],
   "source": []
  },
  {
   "cell_type": "code",
   "execution_count": 39,
   "metadata": {
    "collapsed": true
   },
   "outputs": [],
   "source": [
    "engine = create_engine('sqlite:///{}'.format(\"prueba.db\"), echo=True)"
   ]
  },
  {
   "cell_type": "code",
   "execution_count": 40,
   "metadata": {},
   "outputs": [
    {
     "name": "stdout",
     "output_type": "stream",
     "text": [
      "2017-09-27 21:02:42,298 INFO sqlalchemy.engine.base.Engine SELECT CAST('test plain returns' AS VARCHAR(60)) AS anon_1\n"
     ]
    },
    {
     "name": "stderr",
     "output_type": "stream",
     "text": [
      "09/27/2017 09:02:42 [INFO]: SELECT CAST('test plain returns' AS VARCHAR(60)) AS anon_1\n"
     ]
    },
    {
     "name": "stdout",
     "output_type": "stream",
     "text": [
      "2017-09-27 21:02:42,300 INFO sqlalchemy.engine.base.Engine ()\n"
     ]
    },
    {
     "name": "stderr",
     "output_type": "stream",
     "text": [
      "09/27/2017 09:02:42 [INFO]: ()\n"
     ]
    },
    {
     "name": "stdout",
     "output_type": "stream",
     "text": [
      "2017-09-27 21:02:42,303 INFO sqlalchemy.engine.base.Engine SELECT CAST('test unicode returns' AS VARCHAR(60)) AS anon_1\n"
     ]
    },
    {
     "name": "stderr",
     "output_type": "stream",
     "text": [
      "09/27/2017 09:02:42 [INFO]: SELECT CAST('test unicode returns' AS VARCHAR(60)) AS anon_1\n"
     ]
    },
    {
     "name": "stdout",
     "output_type": "stream",
     "text": [
      "2017-09-27 21:02:42,305 INFO sqlalchemy.engine.base.Engine ()\n"
     ]
    },
    {
     "name": "stderr",
     "output_type": "stream",
     "text": [
      "09/27/2017 09:02:42 [INFO]: ()\n"
     ]
    },
    {
     "name": "stdout",
     "output_type": "stream",
     "text": [
      "2017-09-27 21:02:42,308 INFO sqlalchemy.engine.base.Engine PRAGMA table_info(\"series_tiempo\")\n"
     ]
    },
    {
     "name": "stderr",
     "output_type": "stream",
     "text": [
      "09/27/2017 09:02:42 [INFO]: PRAGMA table_info(\"series_tiempo\")\n"
     ]
    },
    {
     "name": "stdout",
     "output_type": "stream",
     "text": [
      "2017-09-27 21:02:42,310 INFO sqlalchemy.engine.base.Engine ()\n"
     ]
    },
    {
     "name": "stderr",
     "output_type": "stream",
     "text": [
      "09/27/2017 09:02:42 [INFO]: ()\n"
     ]
    },
    {
     "name": "stdout",
     "output_type": "stream",
     "text": [
      "2017-09-27 21:02:42,313 INFO sqlalchemy.engine.base.Engine PRAGMA table_info(\"series_tiempo\")\n"
     ]
    },
    {
     "name": "stderr",
     "output_type": "stream",
     "text": [
      "09/27/2017 09:02:42 [INFO]: PRAGMA table_info(\"series_tiempo\")\n"
     ]
    },
    {
     "name": "stdout",
     "output_type": "stream",
     "text": [
      "2017-09-27 21:02:42,315 INFO sqlalchemy.engine.base.Engine ()\n"
     ]
    },
    {
     "name": "stderr",
     "output_type": "stream",
     "text": [
      "09/27/2017 09:02:42 [INFO]: ()\n"
     ]
    },
    {
     "name": "stdout",
     "output_type": "stream",
     "text": [
      "2017-09-27 21:02:42,317 INFO sqlalchemy.engine.base.Engine SELECT name FROM sqlite_master WHERE type='table' ORDER BY name\n"
     ]
    },
    {
     "name": "stderr",
     "output_type": "stream",
     "text": [
      "09/27/2017 09:02:42 [INFO]: SELECT name FROM sqlite_master WHERE type='table' ORDER BY name\n"
     ]
    },
    {
     "name": "stdout",
     "output_type": "stream",
     "text": [
      "2017-09-27 21:02:42,319 INFO sqlalchemy.engine.base.Engine ()\n"
     ]
    },
    {
     "name": "stderr",
     "output_type": "stream",
     "text": [
      "09/27/2017 09:02:42 [INFO]: ()\n"
     ]
    },
    {
     "name": "stdout",
     "output_type": "stream",
     "text": [
      "2017-09-27 21:02:42,322 INFO sqlalchemy.engine.base.Engine PRAGMA table_info(\"series_tiempo\")\n"
     ]
    },
    {
     "name": "stderr",
     "output_type": "stream",
     "text": [
      "09/27/2017 09:02:42 [INFO]: PRAGMA table_info(\"series_tiempo\")\n"
     ]
    },
    {
     "name": "stdout",
     "output_type": "stream",
     "text": [
      "2017-09-27 21:02:42,324 INFO sqlalchemy.engine.base.Engine ()\n"
     ]
    },
    {
     "name": "stderr",
     "output_type": "stream",
     "text": [
      "09/27/2017 09:02:42 [INFO]: ()\n"
     ]
    },
    {
     "name": "stdout",
     "output_type": "stream",
     "text": [
      "2017-09-27 21:02:42,329 INFO sqlalchemy.engine.base.Engine SELECT sql FROM  (SELECT * FROM sqlite_master UNION ALL   SELECT * FROM sqlite_temp_master) WHERE name = 'series_tiempo' AND type = 'table'\n"
     ]
    },
    {
     "name": "stderr",
     "output_type": "stream",
     "text": [
      "09/27/2017 09:02:42 [INFO]: SELECT sql FROM  (SELECT * FROM sqlite_master UNION ALL   SELECT * FROM sqlite_temp_master) WHERE name = 'series_tiempo' AND type = 'table'\n"
     ]
    },
    {
     "name": "stdout",
     "output_type": "stream",
     "text": [
      "2017-09-27 21:02:42,331 INFO sqlalchemy.engine.base.Engine ()\n"
     ]
    },
    {
     "name": "stderr",
     "output_type": "stream",
     "text": [
      "09/27/2017 09:02:42 [INFO]: ()\n"
     ]
    },
    {
     "name": "stdout",
     "output_type": "stream",
     "text": [
      "2017-09-27 21:02:42,334 INFO sqlalchemy.engine.base.Engine PRAGMA foreign_key_list(\"series_tiempo\")\n"
     ]
    },
    {
     "name": "stderr",
     "output_type": "stream",
     "text": [
      "09/27/2017 09:02:42 [INFO]: PRAGMA foreign_key_list(\"series_tiempo\")\n"
     ]
    },
    {
     "name": "stdout",
     "output_type": "stream",
     "text": [
      "2017-09-27 21:02:42,336 INFO sqlalchemy.engine.base.Engine ()\n"
     ]
    },
    {
     "name": "stderr",
     "output_type": "stream",
     "text": [
      "09/27/2017 09:02:42 [INFO]: ()\n"
     ]
    },
    {
     "name": "stdout",
     "output_type": "stream",
     "text": [
      "2017-09-27 21:02:42,340 INFO sqlalchemy.engine.base.Engine SELECT sql FROM  (SELECT * FROM sqlite_master UNION ALL   SELECT * FROM sqlite_temp_master) WHERE name = 'series_tiempo' AND type = 'table'\n"
     ]
    },
    {
     "name": "stderr",
     "output_type": "stream",
     "text": [
      "09/27/2017 09:02:42 [INFO]: SELECT sql FROM  (SELECT * FROM sqlite_master UNION ALL   SELECT * FROM sqlite_temp_master) WHERE name = 'series_tiempo' AND type = 'table'\n"
     ]
    },
    {
     "name": "stdout",
     "output_type": "stream",
     "text": [
      "2017-09-27 21:02:42,343 INFO sqlalchemy.engine.base.Engine ()\n"
     ]
    },
    {
     "name": "stderr",
     "output_type": "stream",
     "text": [
      "09/27/2017 09:02:42 [INFO]: ()\n"
     ]
    },
    {
     "name": "stdout",
     "output_type": "stream",
     "text": [
      "2017-09-27 21:02:42,349 INFO sqlalchemy.engine.base.Engine PRAGMA index_list(\"series_tiempo\")\n"
     ]
    },
    {
     "name": "stderr",
     "output_type": "stream",
     "text": [
      "09/27/2017 09:02:42 [INFO]: PRAGMA index_list(\"series_tiempo\")\n"
     ]
    },
    {
     "name": "stdout",
     "output_type": "stream",
     "text": [
      "2017-09-27 21:02:42,351 INFO sqlalchemy.engine.base.Engine ()\n"
     ]
    },
    {
     "name": "stderr",
     "output_type": "stream",
     "text": [
      "09/27/2017 09:02:42 [INFO]: ()\n"
     ]
    },
    {
     "name": "stdout",
     "output_type": "stream",
     "text": [
      "2017-09-27 21:02:42,354 INFO sqlalchemy.engine.base.Engine PRAGMA index_list(\"series_tiempo\")\n"
     ]
    },
    {
     "name": "stderr",
     "output_type": "stream",
     "text": [
      "09/27/2017 09:02:42 [INFO]: PRAGMA index_list(\"series_tiempo\")\n"
     ]
    },
    {
     "name": "stdout",
     "output_type": "stream",
     "text": [
      "2017-09-27 21:02:42,356 INFO sqlalchemy.engine.base.Engine ()\n"
     ]
    },
    {
     "name": "stderr",
     "output_type": "stream",
     "text": [
      "09/27/2017 09:02:42 [INFO]: ()\n"
     ]
    },
    {
     "name": "stdout",
     "output_type": "stream",
     "text": [
      "2017-09-27 21:02:42,359 INFO sqlalchemy.engine.base.Engine SELECT sql FROM  (SELECT * FROM sqlite_master UNION ALL   SELECT * FROM sqlite_temp_master) WHERE name = 'series_tiempo' AND type = 'table'\n"
     ]
    },
    {
     "name": "stderr",
     "output_type": "stream",
     "text": [
      "09/27/2017 09:02:42 [INFO]: SELECT sql FROM  (SELECT * FROM sqlite_master UNION ALL   SELECT * FROM sqlite_temp_master) WHERE name = 'series_tiempo' AND type = 'table'\n"
     ]
    },
    {
     "name": "stdout",
     "output_type": "stream",
     "text": [
      "2017-09-27 21:02:42,362 INFO sqlalchemy.engine.base.Engine ()\n"
     ]
    },
    {
     "name": "stderr",
     "output_type": "stream",
     "text": [
      "09/27/2017 09:02:42 [INFO]: ()\n"
     ]
    },
    {
     "name": "stdout",
     "output_type": "stream",
     "text": [
      "2017-09-27 21:02:42,369 INFO sqlalchemy.engine.base.Engine \n",
      "DROP TABLE series_tiempo\n"
     ]
    },
    {
     "name": "stderr",
     "output_type": "stream",
     "text": [
      "09/27/2017 09:02:42 [INFO]: \n",
      "DROP TABLE series_tiempo\n"
     ]
    },
    {
     "name": "stdout",
     "output_type": "stream",
     "text": [
      "2017-09-27 21:02:42,372 INFO sqlalchemy.engine.base.Engine ()\n"
     ]
    },
    {
     "name": "stderr",
     "output_type": "stream",
     "text": [
      "09/27/2017 09:02:42 [INFO]: ()\n"
     ]
    },
    {
     "name": "stdout",
     "output_type": "stream",
     "text": [
      "2017-09-27 21:02:42,385 INFO sqlalchemy.engine.base.Engine COMMIT\n"
     ]
    },
    {
     "name": "stderr",
     "output_type": "stream",
     "text": [
      "09/27/2017 09:02:42 [INFO]: COMMIT\n"
     ]
    },
    {
     "name": "stdout",
     "output_type": "stream",
     "text": [
      "2017-09-27 21:02:42,391 INFO sqlalchemy.engine.base.Engine \n",
      "CREATE TABLE series_tiempo (\n",
      "\tcatalog_id TEXT, \n",
      "\tdataset_id TEXT, \n",
      "\tdistribution_id TEXT, \n",
      "\tserie_id TEXT, \n",
      "\tindice_tiempo_frecuencia TEXT, \n",
      "\tserie_titulo TEXT, \n",
      "\tserie_unidades TEXT, \n",
      "\tserie_descripcion TEXT, \n",
      "\tdistribution_titulo TEXT, \n",
      "\tdistribution_descripcion TEXT, \n",
      "\tdataset_responsable TEXT, \n",
      "\tdataset_fuente TEXT, \n",
      "\tdataset_titulo TEXT, \n",
      "\tdataset_descripcion TEXT, \n",
      "\tserie_indice_inicio DATETIME, \n",
      "\tserie_indice_final DATETIME, \n",
      "\tserie_valores_cant BIGINT, \n",
      "\tserie_dias_no_cubiertos BIGINT, \n",
      "\tserie_actualizada BOOLEAN, \n",
      "\tserie_valor_ultimo FLOAT, \n",
      "\tserie_valor_anterior FLOAT, \n",
      "\tserie_valor_anterior_anio FLOAT, \n",
      "\tserie_var_pct_anterior FLOAT, \n",
      "\tserie_var_pct_anterior_anio FLOAT, \n",
      "\tCHECK (serie_actualizada IN (0, 1))\n",
      ")\n",
      "\n",
      "\n"
     ]
    },
    {
     "name": "stderr",
     "output_type": "stream",
     "text": [
      "09/27/2017 09:02:42 [INFO]: \n",
      "CREATE TABLE series_tiempo (\n",
      "\tcatalog_id TEXT, \n",
      "\tdataset_id TEXT, \n",
      "\tdistribution_id TEXT, \n",
      "\tserie_id TEXT, \n",
      "\tindice_tiempo_frecuencia TEXT, \n",
      "\tserie_titulo TEXT, \n",
      "\tserie_unidades TEXT, \n",
      "\tserie_descripcion TEXT, \n",
      "\tdistribution_titulo TEXT, \n",
      "\tdistribution_descripcion TEXT, \n",
      "\tdataset_responsable TEXT, \n",
      "\tdataset_fuente TEXT, \n",
      "\tdataset_titulo TEXT, \n",
      "\tdataset_descripcion TEXT, \n",
      "\tserie_indice_inicio DATETIME, \n",
      "\tserie_indice_final DATETIME, \n",
      "\tserie_valores_cant BIGINT, \n",
      "\tserie_dias_no_cubiertos BIGINT, \n",
      "\tserie_actualizada BOOLEAN, \n",
      "\tserie_valor_ultimo FLOAT, \n",
      "\tserie_valor_anterior FLOAT, \n",
      "\tserie_valor_anterior_anio FLOAT, \n",
      "\tserie_var_pct_anterior FLOAT, \n",
      "\tserie_var_pct_anterior_anio FLOAT, \n",
      "\tCHECK (serie_actualizada IN (0, 1))\n",
      ")\n",
      "\n",
      "\n"
     ]
    },
    {
     "name": "stdout",
     "output_type": "stream",
     "text": [
      "2017-09-27 21:02:42,394 INFO sqlalchemy.engine.base.Engine ()\n"
     ]
    },
    {
     "name": "stderr",
     "output_type": "stream",
     "text": [
      "09/27/2017 09:02:42 [INFO]: ()\n"
     ]
    },
    {
     "name": "stdout",
     "output_type": "stream",
     "text": [
      "2017-09-27 21:02:42,399 INFO sqlalchemy.engine.base.Engine COMMIT\n"
     ]
    },
    {
     "name": "stderr",
     "output_type": "stream",
     "text": [
      "09/27/2017 09:02:42 [INFO]: COMMIT\n"
     ]
    },
    {
     "name": "stdout",
     "output_type": "stream",
     "text": [
      "2017-09-27 21:02:42,414 INFO sqlalchemy.engine.base.Engine BEGIN (implicit)\n"
     ]
    },
    {
     "name": "stderr",
     "output_type": "stream",
     "text": [
      "09/27/2017 09:02:42 [INFO]: BEGIN (implicit)\n"
     ]
    },
    {
     "name": "stdout",
     "output_type": "stream",
     "text": [
      "2017-09-27 21:02:42,809 INFO sqlalchemy.engine.base.Engine INSERT INTO series_tiempo (catalog_id, dataset_id, distribution_id, serie_id, indice_tiempo_frecuencia, serie_titulo, serie_unidades, serie_descripcion, distribution_titulo, distribution_descripcion, dataset_responsable, dataset_fuente, dataset_titulo, dataset_descripcion, serie_indice_inicio, serie_indice_final, serie_valores_cant, serie_dias_no_cubiertos, serie_actualizada, serie_valor_ultimo, serie_valor_anterior, serie_valor_anterior_anio, serie_var_pct_anterior, serie_var_pct_anterior_anio) VALUES (?, ?, ?, ?, ?, ?, ?, ?, ?, ?, ?, ?, ?, ?, ?, ?, ?, ?, ?, ?, ?, ?, ?, ?)\n"
     ]
    },
    {
     "name": "stderr",
     "output_type": "stream",
     "text": [
      "09/27/2017 09:02:42 [INFO]: INSERT INTO series_tiempo (catalog_id, dataset_id, distribution_id, serie_id, indice_tiempo_frecuencia, serie_titulo, serie_unidades, serie_descripcion, distribution_titulo, distribution_descripcion, dataset_responsable, dataset_fuente, dataset_titulo, dataset_descripcion, serie_indice_inicio, serie_indice_final, serie_valores_cant, serie_dias_no_cubiertos, serie_actualizada, serie_valor_ultimo, serie_valor_anterior, serie_valor_anterior_anio, serie_var_pct_anterior, serie_var_pct_anterior_anio) VALUES (?, ?, ?, ?, ?, ?, ?, ?, ?, ?, ?, ?, ?, ?, ?, ?, ?, ?, ?, ?, ?, ?, ?, ?)\n"
     ]
    },
    {
     "name": "stdout",
     "output_type": "stream",
     "text": [
      "2017-09-27 21:02:42,811 INFO sqlalchemy.engine.base.Engine ((u'sspm', u'1', u'1.1', u'1.1_DGCP_D_1993_A_27', u'R/P1Y', u'demanda_global_consumo_priv', u'Millones de pesos a precios de 1993', u'Consumo privado desestacionalizado, en millones de pesos de 1993 y valores trimestrales', u'Oferta y Demanda Global. Precios constantes desestacionalizados. Base 1993. Valores anuales.', u'Oferta y Demanda Globales por componente, a precios de comprador, en millones de pesos de 1993 y valores anuales desestacionalizados.', u'Ministerio de Hacienda. Secretar\\xeda de Pol\\xedtica Econ\\xf3mica. Subsecretar\\xeda de Programaci\\xf3n Macroecon\\xf3mica.', u'Instituto Nacional de Estad\\xedstica y Censos (INDEC)', u'Oferta y Demanda Globales. Datos desestacionalizados. Base 1993', u'Componentes desestacionalizados de la oferta y demanda globales a precios de 1993.', '1993-01-01 00:00:00.000000', '2012-01-01 00:00:00.000000', 20, 1731, 0, 62643.7701039, 58881.473, 58881.473, 0.06389611047773891, 0.06389611047773891), (u'sspm', u'1', u'1.1', u'1.1_DGCP_D_1993_A_30', u'R/P1Y', u'demanda_global_consumo_publico', u'Millones de pesos a precios de 1993', u'Consumo publico desestacionalizado, en millones de pesos de 1993 y valores trimestrales', u'Oferta y Demanda Global. Precios constantes desestacionalizados. Base 1993. Valores anuales.', u'Oferta y Demanda Globales por componente, a precios de comprador, en millones de pesos de 1993 y valores anuales desestacionalizados.', u'Ministerio de Hacienda. Secretar\\xeda de Pol\\xedtica Econ\\xf3mica. Subsecretar\\xeda de Programaci\\xf3n Macroecon\\xf3mica.', u'Instituto Nacional de Estad\\xedstica y Censos (INDEC)', u'Oferta y Demanda Globales. Datos desestacionalizados. Base 1993', u'Componentes desestacionalizados de la oferta y demanda globales a precios de 1993.', '1993-01-01 00:00:00.000000', '2012-01-01 00:00:00.000000', 20, 1731, 0, 316988.170499, 303623.485, 303623.485, 0.04401729826334089, 0.04401729826334089), (u'sspm', u'1', u'1.1', u'1.1_DGE_D_1993_A_26', u'R/P1Y', u'demanda_global_exportacion', u'Millones de pesos a precios de 1993', u'Exportaciones desestacionalizadas, en millones de pesos de 1993 y valores trimestrales', u'Oferta y Demanda Global. Precios constantes desestacionalizados. Base 1993. Valores anuales.', u'Oferta y Demanda Globales por componente, a precios de comprador, en millones de pesos de 1993 y valores anuales desestacionalizados.', u'Ministerio de Hacienda. Secretar\\xeda de Pol\\xedtica Econ\\xf3mica. Subsecretar\\xeda de Programaci\\xf3n Macroecon\\xf3mica.', u'Instituto Nacional de Estad\\xedstica y Censos (INDEC)', u'Oferta y Demanda Globales. Datos desestacionalizados. Base 1993', u'Componentes desestacionalizados de la oferta y demanda globales a precios de 1993.', '1993-01-01 00:00:00.000000', '2012-01-01 00:00:00.000000', 20, 1731, 0, 53141.1132788, 57064.30975, 57064.30975, -0.06875044118447426, -0.06875044118447426), (u'sspm', u'1', u'1.1', u'1.1_DGI_D_1993_A_19', u'R/P1Y', u'demanda_global_ibif', u'Millones de pesos a precios de 1993', u'Inversion bruta interna fija desestacionalizada, en millones de pesos de 1993 y valores trimestrales', u'Oferta y Demanda Global. Precios constantes desestacionalizados. Base 1993. Valores anuales.', u'Oferta y Demanda Globales por componente, a precios de comprador, en millones de pesos de 1993 y valores anuales desestacionalizados.', u'Ministerio de Hacienda. Secretar\\xeda de Pol\\xedtica Econ\\xf3mica. Subsecretar\\xeda de Programaci\\xf3n Macroecon\\xf3mica.', u'Instituto Nacional de Estad\\xedstica y Censos (INDEC)', u'Oferta y Demanda Globales. Datos desestacionalizados. Base 1993', u'Componentes desestacionalizados de la oferta y demanda globales a precios de 1993.', '1993-01-01 00:00:00.000000', '2012-01-01 00:00:00.000000', 20, 1731, 0, 106706.819487, 112365.92175, 112365.92175, -0.05036315436979888, -0.05036315436979888), (u'sspm', u'1', u'1.1', u'1.1_OGI_D_1993_A_25', u'R/P1Y', u'oferta_global_importacion', u'Millones de pesos a precios de 1993', u'Importaciones desestacionalizadas, en millones de pesos de 1993 y valores trimestrales', u'Oferta y Demanda Global. Precios constantes desestacionalizados. Base 1993. Valores anuales.', u'Oferta y Demanda Globales por componente, a precios de comprador, en millones de pesos de 1993 y valores anuales desestacionalizados.', u'Ministerio de Hacienda. Secretar\\xeda de Pol\\xedtica Econ\\xf3mica. Subsecretar\\xeda de Programaci\\xf3n Macroecon\\xf3mica.', u'Instituto Nacional de Estad\\xedstica y Censos (INDEC)', u'Oferta y Demanda Globales. Datos desestacionalizados. Base 1993', u'Componentes desestacionalizados de la oferta y demanda globales a precios de 1993.', '1993-01-01 00:00:00.000000', '2012-01-01 00:00:00.000000', 20, 1731, 0, 65655.9833486, 69527.1735, 69527.1735, -0.05567880810515047, -0.05567880810515047), (u'sspm', u'1', u'1.1', u'1.1_OGP_D_1993_A_17', u'R/P1Y', u'oferta_global_pib', u'Millones de pesos a precios de 1993', u'PIB desestacionalizado, en millones de pesos de 1993 y valores trimestrales', u'Oferta y Demanda Global. Precios constantes desestacionalizados. Base 1993. Valores anuales.', u'Oferta y Demanda Globales por componente, a precios de comprador, en millones de pesos de 1993 y valores anuales desestacionalizados.', u'Ministerio de Hacienda. Secretar\\xeda de Pol\\xedtica Econ\\xf3mica. Subsecretar\\xeda de Programaci\\xf3n Macroecon\\xf3mica.', u'Instituto Nacional de Estad\\xedstica y Censos (INDEC)', u'Oferta y Demanda Globales. Datos desestacionalizados. Base 1993', u'Componentes desestacionalizados de la oferta y demanda globales a precios de 1993.', '1993-01-01 00:00:00.000000', '2012-01-01 00:00:00.000000', 20, 1731, 0, 468301.014942, 459571.1045, 459571.1045, 0.018995777490183663, 0.018995777490183663), (u'sspm', u'1', u'1.2', u'1.2_DGCP_D_1993_T_27', u'R/P3M', u'demanda_global_consumo_priv', u'Millones de pesos a precios de 1993', u'Consumo publico, en millones de pesos de 1993 y valores anuales.', u'Oferta y Demanda Global. Precios constantes desestacionalizados. Base 1993. Valores trimestrales.', u'Oferta y Demanda Globales por componente, a precios de comprador, en millones de pesos de 1993 y valores anuales desestacionalizados.', u'Ministerio de Hacienda. Secretar\\xeda de Pol\\xedtica Econ\\xf3mica. Subsecretar\\xeda de Programaci\\xf3n Macroecon\\xf3mica.', u'Instituto Nacional de Estad\\xedstica y Censos (INDEC)', u'Oferta y Demanda Globales. Datos desestacionalizados. Base 1993', u'Componentes desestacionalizados de la oferta y demanda globales a precios de 1993.', '1993-01-01 00:00:00.000000', '2013-07-01 00:00:00.000000', 83, 1458, 0, 68011.4906593, 67329.7819097, 62740.5874555, 0.010124921398294129, 0.08401105914952578), (u'sspm', u'1', u'1.2', u'1.2_DGCP_D_1993_T_30', u'R/P3M', u'demanda_global_consumo_publico', u'Millones de pesos a precios de 1993', u'Inversion bruta interna fija, en millones de pesos de 1993 y valores anuales.', u'Oferta y Demanda Global. Precios constantes desestacionalizados. Base 1993. Valores trimestrales.', u'Oferta y Demanda Globales por componente, a precios de comprador, en millones de pesos de 1993 y valores anuales desestacionalizados.', u'Ministerio de Hacienda. Secretar\\xeda de Pol\\xedtica Econ\\xf3mica. Subsecretar\\xeda de Programaci\\xf3n Macroecon\\xf3mica.', u'Instituto Nacional de Estad\\xedstica y Censos (INDEC)', u'Oferta y Demanda Globales. Datos desestacionalizados. Base 1993', u'Componentes desestacionalizados de la oferta y demanda globales a precios de 1993.', '1993-01-01 00:00:00.000000', '2013-07-01 00:00:00.000000', 83, 1458, 0, 342058.286273, 340929.133946, 315269.34573400003, 0.003311985437943976, 0.0849715993688851)  ... displaying 10 of 8100 total bound parameter sets ...  (u'sspm', u'99', u'99.3', u'99.3_PREIR_2008_0_40', u'R/P1M', u'precios_relativos_estacionales_ipc_resto', u'\\xcdndice abr-2008=100', u'\\xcdndice de precios al consumidor precios relativos estacionales/ipc resto. Valores mensuales', u'\\xcdndice de Precios al Consumidor, por grupos. Base 2008.', u'\\xcdndice de Precios al Consumidor. Apertura por grupos. Base 2008. Valores mensuales', u'Ministerio de Hacienda. Secretar\\xeda de Pol\\xedtica Econ\\xf3mica. Subsecretar\\xeda de Programaci\\xf3n Macroecon\\xf3mica.', u'Instituto Nacional de Estad\\xedstica y Censos (INDEC)', u'\\xcdndice de Precios al Consumidor. Por grupos. Base 2008.', u'\\xcdndice de Precios al Consumidor. Apertura por grupos. Base 2008.', '2006-12-01 00:00:00.000000', '2013-12-01 00:00:00.000000', 85, 1366, 0, 137.591195746, 138.41130298299998, 137.966194484, -0.005925146424643479, -0.002718047992861572), (u'sspm', u'99', u'99.3', u'99.3_PRRIR_2008_0_37', u'R/P1M', u'precios_relativos_regulados_ipc_resto', u'\\xcdndice abr-2008=100', u'\\xcdndice de precios al consumidor precios relativos regulados/ipc resto. Valores mensuales', u'\\xcdndice de Precios al Consumidor, por grupos. Base 2008.', u'\\xcdndice de Precios al Consumidor. Apertura por grupos. Base 2008. Valores mensuales', u'Ministerio de Hacienda. Secretar\\xeda de Pol\\xedtica Econ\\xf3mica. Subsecretar\\xeda de Programaci\\xf3n Macroecon\\xf3mica.', u'Instituto Nacional de Estad\\xedstica y Censos (INDEC)', u'\\xcdndice de Precios al Consumidor. Por grupos. Base 2008.', u'\\xcdndice de Precios al Consumidor. Apertura por grupos. Base 2008.', '2006-12-01 00:00:00.000000', '2013-12-01 00:00:00.000000', 85, 1366, 0, 99.5672066279, 100.025117739, 98.21391911309999, -0.004577961230646466, 0.013778978855752744))\n"
     ]
    },
    {
     "name": "stderr",
     "output_type": "stream",
     "text": [
      "09/27/2017 09:02:42 [INFO]: ((u'sspm', u'1', u'1.1', u'1.1_DGCP_D_1993_A_27', u'R/P1Y', u'demanda_global_consumo_priv', u'Millones de pesos a precios de 1993', u'Consumo privado desestacionalizado, en millones de pesos de 1993 y valores trimestrales', u'Oferta y Demanda Global. Precios constantes desestacionalizados. Base 1993. Valores anuales.', u'Oferta y Demanda Globales por componente, a precios de comprador, en millones de pesos de 1993 y valores anuales desestacionalizados.', u'Ministerio de Hacienda. Secretar\\xeda de Pol\\xedtica Econ\\xf3mica. Subsecretar\\xeda de Programaci\\xf3n Macroecon\\xf3mica.', u'Instituto Nacional de Estad\\xedstica y Censos (INDEC)', u'Oferta y Demanda Globales. Datos desestacionalizados. Base 1993', u'Componentes desestacionalizados de la oferta y demanda globales a precios de 1993.', '1993-01-01 00:00:00.000000', '2012-01-01 00:00:00.000000', 20, 1731, 0, 62643.7701039, 58881.473, 58881.473, 0.06389611047773891, 0.06389611047773891), (u'sspm', u'1', u'1.1', u'1.1_DGCP_D_1993_A_30', u'R/P1Y', u'demanda_global_consumo_publico', u'Millones de pesos a precios de 1993', u'Consumo publico desestacionalizado, en millones de pesos de 1993 y valores trimestrales', u'Oferta y Demanda Global. Precios constantes desestacionalizados. Base 1993. Valores anuales.', u'Oferta y Demanda Globales por componente, a precios de comprador, en millones de pesos de 1993 y valores anuales desestacionalizados.', u'Ministerio de Hacienda. Secretar\\xeda de Pol\\xedtica Econ\\xf3mica. Subsecretar\\xeda de Programaci\\xf3n Macroecon\\xf3mica.', u'Instituto Nacional de Estad\\xedstica y Censos (INDEC)', u'Oferta y Demanda Globales. Datos desestacionalizados. Base 1993', u'Componentes desestacionalizados de la oferta y demanda globales a precios de 1993.', '1993-01-01 00:00:00.000000', '2012-01-01 00:00:00.000000', 20, 1731, 0, 316988.170499, 303623.485, 303623.485, 0.04401729826334089, 0.04401729826334089), (u'sspm', u'1', u'1.1', u'1.1_DGE_D_1993_A_26', u'R/P1Y', u'demanda_global_exportacion', u'Millones de pesos a precios de 1993', u'Exportaciones desestacionalizadas, en millones de pesos de 1993 y valores trimestrales', u'Oferta y Demanda Global. Precios constantes desestacionalizados. Base 1993. Valores anuales.', u'Oferta y Demanda Globales por componente, a precios de comprador, en millones de pesos de 1993 y valores anuales desestacionalizados.', u'Ministerio de Hacienda. Secretar\\xeda de Pol\\xedtica Econ\\xf3mica. Subsecretar\\xeda de Programaci\\xf3n Macroecon\\xf3mica.', u'Instituto Nacional de Estad\\xedstica y Censos (INDEC)', u'Oferta y Demanda Globales. Datos desestacionalizados. Base 1993', u'Componentes desestacionalizados de la oferta y demanda globales a precios de 1993.', '1993-01-01 00:00:00.000000', '2012-01-01 00:00:00.000000', 20, 1731, 0, 53141.1132788, 57064.30975, 57064.30975, -0.06875044118447426, -0.06875044118447426), (u'sspm', u'1', u'1.1', u'1.1_DGI_D_1993_A_19', u'R/P1Y', u'demanda_global_ibif', u'Millones de pesos a precios de 1993', u'Inversion bruta interna fija desestacionalizada, en millones de pesos de 1993 y valores trimestrales', u'Oferta y Demanda Global. Precios constantes desestacionalizados. Base 1993. Valores anuales.', u'Oferta y Demanda Globales por componente, a precios de comprador, en millones de pesos de 1993 y valores anuales desestacionalizados.', u'Ministerio de Hacienda. Secretar\\xeda de Pol\\xedtica Econ\\xf3mica. Subsecretar\\xeda de Programaci\\xf3n Macroecon\\xf3mica.', u'Instituto Nacional de Estad\\xedstica y Censos (INDEC)', u'Oferta y Demanda Globales. Datos desestacionalizados. Base 1993', u'Componentes desestacionalizados de la oferta y demanda globales a precios de 1993.', '1993-01-01 00:00:00.000000', '2012-01-01 00:00:00.000000', 20, 1731, 0, 106706.819487, 112365.92175, 112365.92175, -0.05036315436979888, -0.05036315436979888), (u'sspm', u'1', u'1.1', u'1.1_OGI_D_1993_A_25', u'R/P1Y', u'oferta_global_importacion', u'Millones de pesos a precios de 1993', u'Importaciones desestacionalizadas, en millones de pesos de 1993 y valores trimestrales', u'Oferta y Demanda Global. Precios constantes desestacionalizados. Base 1993. Valores anuales.', u'Oferta y Demanda Globales por componente, a precios de comprador, en millones de pesos de 1993 y valores anuales desestacionalizados.', u'Ministerio de Hacienda. Secretar\\xeda de Pol\\xedtica Econ\\xf3mica. Subsecretar\\xeda de Programaci\\xf3n Macroecon\\xf3mica.', u'Instituto Nacional de Estad\\xedstica y Censos (INDEC)', u'Oferta y Demanda Globales. Datos desestacionalizados. Base 1993', u'Componentes desestacionalizados de la oferta y demanda globales a precios de 1993.', '1993-01-01 00:00:00.000000', '2012-01-01 00:00:00.000000', 20, 1731, 0, 65655.9833486, 69527.1735, 69527.1735, -0.05567880810515047, -0.05567880810515047), (u'sspm', u'1', u'1.1', u'1.1_OGP_D_1993_A_17', u'R/P1Y', u'oferta_global_pib', u'Millones de pesos a precios de 1993', u'PIB desestacionalizado, en millones de pesos de 1993 y valores trimestrales', u'Oferta y Demanda Global. Precios constantes desestacionalizados. Base 1993. Valores anuales.', u'Oferta y Demanda Globales por componente, a precios de comprador, en millones de pesos de 1993 y valores anuales desestacionalizados.', u'Ministerio de Hacienda. Secretar\\xeda de Pol\\xedtica Econ\\xf3mica. Subsecretar\\xeda de Programaci\\xf3n Macroecon\\xf3mica.', u'Instituto Nacional de Estad\\xedstica y Censos (INDEC)', u'Oferta y Demanda Globales. Datos desestacionalizados. Base 1993', u'Componentes desestacionalizados de la oferta y demanda globales a precios de 1993.', '1993-01-01 00:00:00.000000', '2012-01-01 00:00:00.000000', 20, 1731, 0, 468301.014942, 459571.1045, 459571.1045, 0.018995777490183663, 0.018995777490183663), (u'sspm', u'1', u'1.2', u'1.2_DGCP_D_1993_T_27', u'R/P3M', u'demanda_global_consumo_priv', u'Millones de pesos a precios de 1993', u'Consumo publico, en millones de pesos de 1993 y valores anuales.', u'Oferta y Demanda Global. Precios constantes desestacionalizados. Base 1993. Valores trimestrales.', u'Oferta y Demanda Globales por componente, a precios de comprador, en millones de pesos de 1993 y valores anuales desestacionalizados.', u'Ministerio de Hacienda. Secretar\\xeda de Pol\\xedtica Econ\\xf3mica. Subsecretar\\xeda de Programaci\\xf3n Macroecon\\xf3mica.', u'Instituto Nacional de Estad\\xedstica y Censos (INDEC)', u'Oferta y Demanda Globales. Datos desestacionalizados. Base 1993', u'Componentes desestacionalizados de la oferta y demanda globales a precios de 1993.', '1993-01-01 00:00:00.000000', '2013-07-01 00:00:00.000000', 83, 1458, 0, 68011.4906593, 67329.7819097, 62740.5874555, 0.010124921398294129, 0.08401105914952578), (u'sspm', u'1', u'1.2', u'1.2_DGCP_D_1993_T_30', u'R/P3M', u'demanda_global_consumo_publico', u'Millones de pesos a precios de 1993', u'Inversion bruta interna fija, en millones de pesos de 1993 y valores anuales.', u'Oferta y Demanda Global. Precios constantes desestacionalizados. Base 1993. Valores trimestrales.', u'Oferta y Demanda Globales por componente, a precios de comprador, en millones de pesos de 1993 y valores anuales desestacionalizados.', u'Ministerio de Hacienda. Secretar\\xeda de Pol\\xedtica Econ\\xf3mica. Subsecretar\\xeda de Programaci\\xf3n Macroecon\\xf3mica.', u'Instituto Nacional de Estad\\xedstica y Censos (INDEC)', u'Oferta y Demanda Globales. Datos desestacionalizados. Base 1993', u'Componentes desestacionalizados de la oferta y demanda globales a precios de 1993.', '1993-01-01 00:00:00.000000', '2013-07-01 00:00:00.000000', 83, 1458, 0, 342058.286273, 340929.133946, 315269.34573400003, 0.003311985437943976, 0.0849715993688851)  ... displaying 10 of 8100 total bound parameter sets ...  (u'sspm', u'99', u'99.3', u'99.3_PREIR_2008_0_40', u'R/P1M', u'precios_relativos_estacionales_ipc_resto', u'\\xcdndice abr-2008=100', u'\\xcdndice de precios al consumidor precios relativos estacionales/ipc resto. Valores mensuales', u'\\xcdndice de Precios al Consumidor, por grupos. Base 2008.', u'\\xcdndice de Precios al Consumidor. Apertura por grupos. Base 2008. Valores mensuales', u'Ministerio de Hacienda. Secretar\\xeda de Pol\\xedtica Econ\\xf3mica. Subsecretar\\xeda de Programaci\\xf3n Macroecon\\xf3mica.', u'Instituto Nacional de Estad\\xedstica y Censos (INDEC)', u'\\xcdndice de Precios al Consumidor. Por grupos. Base 2008.', u'\\xcdndice de Precios al Consumidor. Apertura por grupos. Base 2008.', '2006-12-01 00:00:00.000000', '2013-12-01 00:00:00.000000', 85, 1366, 0, 137.591195746, 138.41130298299998, 137.966194484, -0.005925146424643479, -0.002718047992861572), (u'sspm', u'99', u'99.3', u'99.3_PRRIR_2008_0_37', u'R/P1M', u'precios_relativos_regulados_ipc_resto', u'\\xcdndice abr-2008=100', u'\\xcdndice de precios al consumidor precios relativos regulados/ipc resto. Valores mensuales', u'\\xcdndice de Precios al Consumidor, por grupos. Base 2008.', u'\\xcdndice de Precios al Consumidor. Apertura por grupos. Base 2008. Valores mensuales', u'Ministerio de Hacienda. Secretar\\xeda de Pol\\xedtica Econ\\xf3mica. Subsecretar\\xeda de Programaci\\xf3n Macroecon\\xf3mica.', u'Instituto Nacional de Estad\\xedstica y Censos (INDEC)', u'\\xcdndice de Precios al Consumidor. Por grupos. Base 2008.', u'\\xcdndice de Precios al Consumidor. Apertura por grupos. Base 2008.', '2006-12-01 00:00:00.000000', '2013-12-01 00:00:00.000000', 85, 1366, 0, 99.5672066279, 100.025117739, 98.21391911309999, -0.004577961230646466, 0.013778978855752744))\n"
     ]
    },
    {
     "name": "stdout",
     "output_type": "stream",
     "text": [
      "2017-09-27 21:02:42,927 INFO sqlalchemy.engine.base.Engine COMMIT\n"
     ]
    },
    {
     "name": "stderr",
     "output_type": "stream",
     "text": [
      "09/27/2017 09:02:42 [INFO]: COMMIT\n"
     ]
    }
   ],
   "source": [
    "df_series.to_sql(\"series_tiempo\", engine, index=False, if_exists=\"replace\")"
   ]
  },
  {
   "cell_type": "code",
   "execution_count": 43,
   "metadata": {},
   "outputs": [
    {
     "data": {
      "text/plain": [
       "Index([                 u'catalog_id',                  u'dataset_id',\n",
       "                   u'distribution_id',                    u'serie_id',\n",
       "          u'indice_tiempo_frecuencia',                u'serie_titulo',\n",
       "                    u'serie_unidades',           u'serie_descripcion',\n",
       "               u'distribution_titulo',    u'distribution_descripcion',\n",
       "               u'dataset_responsable',              u'dataset_fuente',\n",
       "                    u'dataset_titulo',         u'dataset_descripcion',\n",
       "               u'serie_indice_inicio',          u'serie_indice_final',\n",
       "                u'serie_valores_cant',     u'serie_dias_no_cubiertos',\n",
       "                 u'serie_actualizada',          u'serie_valor_ultimo',\n",
       "              u'serie_valor_anterior',   u'serie_valor_anterior_anio',\n",
       "            u'serie_var_pct_anterior', u'serie_var_pct_anterior_anio'],\n",
       "      dtype='object')"
      ]
     },
     "execution_count": 43,
     "metadata": {},
     "output_type": "execute_result"
    }
   ],
   "source": [
    "df_series.serie_valor_anterior_anio.astype()"
   ]
  },
  {
   "cell_type": "code",
   "execution_count": 42,
   "metadata": {},
   "outputs": [
    {
     "name": "stdout",
     "output_type": "stream",
     "text": [
      "0 catalog_id\n",
      "1 dataset_id\n",
      "2 distribution_id\n",
      "3 serie_id\n",
      "4 indice_tiempo_frecuencia\n",
      "5 serie_titulo\n",
      "6 serie_unidades\n",
      "7 serie_descripcion\n",
      "8 distribution_titulo\n",
      "9 distribution_descripcion\n",
      "10 dataset_responsable\n",
      "11 dataset_fuente\n",
      "12 dataset_titulo\n",
      "13 dataset_descripcion\n",
      "14 serie_indice_inicio\n",
      "15 serie_indice_final\n",
      "16 serie_valores_cant\n",
      "17 serie_dias_no_cubiertos\n",
      "18 serie_actualizada\n",
      "19 serie_valor_ultimo\n",
      "20 serie_valor_anterior\n",
      "21 serie_valor_anterior_anio\n",
      "22 serie_var_pct_anterior\n",
      "23 serie_var_pct_anterior_anio\n"
     ]
    }
   ],
   "source": [
    "for index, col in enumerate(df_series.columns):\n",
    "    print(index, col)"
   ]
  },
  {
   "cell_type": "code",
   "execution_count": null,
   "metadata": {
    "collapsed": true
   },
   "outputs": [],
   "source": []
  },
  {
   "cell_type": "code",
   "execution_count": 20,
   "metadata": {
    "collapsed": true
   },
   "outputs": [],
   "source": [
    "df_series.to_excel(\"series-tiempo-resumen.xlsx\", \"resumen\", index=True, index_label=True, merge_cells=False)"
   ]
  },
  {
   "cell_type": "code",
   "execution_count": 29,
   "metadata": {
    "collapsed": true
   },
   "outputs": [],
   "source": [
    "df_stata = df_series.copy()"
   ]
  },
  {
   "cell_type": "code",
   "execution_count": 35,
   "metadata": {
    "collapsed": true
   },
   "outputs": [],
   "source": [
    "for col in df_series.columns:\n",
    "    \n",
    "    # limita el largo de los campos de texto\n",
    "    if df_stata[col].dtype.name == \"object\":\n",
    "        df_stata[col] = df_stata[col].str[:244]\n",
    "    \n",
    "    # elimina los valores infinitos de los tipos decimales\n",
    "    elif \"float\" in df_stata[col].dtype.name:\n",
    "        df_stata[col] = df_stata[col].apply(lambda x: np.nan if np.isinf(x) else x)"
   ]
  },
  {
   "cell_type": "code",
   "execution_count": 36,
   "metadata": {
    "collapsed": true
   },
   "outputs": [],
   "source": [
    "df_stata.to_stata(\"series-tiempo-resumen.dta\", write_index=False)"
   ]
  },
  {
   "cell_type": "code",
   "execution_count": 34,
   "metadata": {},
   "outputs": [
    {
     "data": {
      "text/plain": [
       "inf"
      ]
     },
     "execution_count": 34,
     "metadata": {},
     "output_type": "execute_result"
    }
   ],
   "source": [
    "df_series.var_pct_anterior.max()"
   ]
  },
  {
   "cell_type": "code",
   "execution_count": null,
   "metadata": {
    "collapsed": true
   },
   "outputs": [],
   "source": [
    "df_series.to_sql()"
   ]
  },
  {
   "cell_type": "markdown",
   "metadata": {},
   "source": [
    "## Genero distribuciones de distintos formatos"
   ]
  },
  {
   "cell_type": "code",
   "execution_count": null,
   "metadata": {
    "collapsed": true
   },
   "outputs": [],
   "source": [
    "%%time\n",
    "# CSV\n",
    "path = dump_path.format(\"csv\")\n",
    "df.to_csv(path, encoding=\"utf-8\", sep=\",\", index=False)\n",
    "print(\"{}MB\".format(os.path.getsize(path) / 1000000))"
   ]
  },
  {
   "cell_type": "code",
   "execution_count": null,
   "metadata": {
    "collapsed": true
   },
   "outputs": [],
   "source": [
    "%%time \n",
    "# EXCEL\n",
    "path = dump_path.format(\"xlsx\")\n",
    "writer = pd.ExcelWriter(path, engine='xlsxwriter')\n",
    "df.to_excel(writer, \"data\", merge_cells=False, encoding=\"utf-8\", index=False)\n",
    "writer.save()\n",
    "print(\"{}MB\".format(os.path.getsize(path) / 1000000))"
   ]
  },
  {
   "cell_type": "code",
   "execution_count": null,
   "metadata": {
    "collapsed": true
   },
   "outputs": [],
   "source": [
    "%%time \n",
    "# SQLITE\n",
    "path = dump_path.format(\"db\")\n",
    "engine = create_engine('sqlite:///{}'.format(path), echo=True)\n",
    "df.to_sql(\"series_tiempo\", engine, index=False, if_exists=\"replace\")\n",
    "print(\"{}MB\".format(os.path.getsize(path) / 1000000))"
   ]
  },
  {
   "cell_type": "code",
   "execution_count": null,
   "metadata": {
    "collapsed": true
   },
   "outputs": [],
   "source": [
    "%%time \n",
    "# ACCESS\n",
    "# set up some constants\n",
    "DRV = '{Microsoft Access Driver (*.mdb)}'; PWD = 'pw'\n",
    "\n",
    "# connect to db\n",
    "path = dump_path.format(\"mdb\")\n",
    "con = pyodbc.connect('DRIVER={};DBQ={};PWD={}'.format(DRV, path, PWD))\n",
    "cur = con.cursor()\n",
    "\n",
    "df.to_sql(\"series_tiempo\", con, index=False, if_exists=\"replace\")\n",
    "print(\"{}MB\".format(os.path.getsize(path) / 1000000))"
   ]
  },
  {
   "cell_type": "code",
   "execution_count": null,
   "metadata": {
    "collapsed": true
   },
   "outputs": [],
   "source": [
    "%%time \n",
    "# SQL\n",
    "# la gracia acá es hacer bien las tablas con sus índices y pensar si MySQL, Postgresql o SQLite\n",
    "path = dump_path.format(\"sql\")\n",
    "df.to_sql(path, \"data\", merge_cells=False, encoding=\"utf-8\", index=False)\n",
    "print(\"{}MB\".format(os.path.getsize(path) / 1000000))"
   ]
  },
  {
   "cell_type": "code",
   "execution_count": 19,
   "metadata": {
    "collapsed": true
   },
   "outputs": [],
   "source": []
  },
  {
   "cell_type": "code",
   "execution_count": 20,
   "metadata": {
    "collapsed": true
   },
   "outputs": [],
   "source": []
  },
  {
   "cell_type": "code",
   "execution_count": 22,
   "metadata": {},
   "outputs": [
    {
     "name": "stdout",
     "output_type": "stream",
     "text": [
      "1097MB\n",
      "CPU times: user 20.1 s, sys: 5.21 s, total: 25.3 s\n",
      "Wall time: 25.6 s\n"
     ]
    }
   ],
   "source": [
    "%%time \n",
    "# DTA\n",
    "# hay que ver cómo manejar el límite de caracteres\n",
    "path = dump_path.format(\"dta\")\n",
    "df_stata = df.copy()\n",
    "for col in df_stata.columns:\n",
    "    if df_stata[col].dtype.name == \"object\":\n",
    "        # trunca campos de texto a 244 caracteres aceptados por STATA\n",
    "        df_stata[col] = df_stata[col].str[:244]\n",
    "df_stata.to_stata(path, write_index=False)\n",
    "print(\"{}MB\".format(os.path.getsize(path) / 1000000))"
   ]
  },
  {
   "cell_type": "code",
   "execution_count": null,
   "metadata": {
    "collapsed": true
   },
   "outputs": [],
   "source": []
  },
  {
   "cell_type": "code",
   "execution_count": null,
   "metadata": {
    "collapsed": true
   },
   "outputs": [],
   "source": []
  },
  {
   "cell_type": "code",
   "execution_count": null,
   "metadata": {
    "collapsed": true
   },
   "outputs": [],
   "source": []
  },
  {
   "cell_type": "code",
   "execution_count": null,
   "metadata": {
    "collapsed": true
   },
   "outputs": [],
   "source": []
  },
  {
   "cell_type": "code",
   "execution_count": null,
   "metadata": {
    "collapsed": true
   },
   "outputs": [],
   "source": []
  },
  {
   "cell_type": "code",
   "execution_count": null,
   "metadata": {
    "collapsed": true
   },
   "outputs": [],
   "source": []
  },
  {
   "cell_type": "code",
   "execution_count": null,
   "metadata": {
    "collapsed": true
   },
   "outputs": [],
   "source": []
  },
  {
   "cell_type": "code",
   "execution_count": null,
   "metadata": {
    "collapsed": true
   },
   "outputs": [],
   "source": [
    "df.head()"
   ]
  },
  {
   "cell_type": "code",
   "execution_count": null,
   "metadata": {
    "collapsed": true
   },
   "outputs": [],
   "source": []
  }
 ],
 "metadata": {
  "kernelspec": {
   "display_name": "Python 2",
   "language": "python",
   "name": "python2"
  },
  "language_info": {
   "codemirror_mode": {
    "name": "ipython",
    "version": 2
   },
   "file_extension": ".py",
   "mimetype": "text/x-python",
   "name": "python",
   "nbconvert_exporter": "python",
   "pygments_lexer": "ipython2",
   "version": "2.7.13"
  },
  "toc": {
   "colors": {
    "hover_highlight": "#DAA520",
    "running_highlight": "#FF0000",
    "selected_highlight": "#FFD700"
   },
   "moveMenuLeft": true,
   "nav_menu": {
    "height": "48px",
    "width": "252px"
   },
   "navigate_menu": true,
   "number_sections": true,
   "sideBar": true,
   "threshold": 4,
   "toc_cell": false,
   "toc_section_display": "block",
   "toc_window_display": false
  }
 },
 "nbformat": 4,
 "nbformat_minor": 2
}
